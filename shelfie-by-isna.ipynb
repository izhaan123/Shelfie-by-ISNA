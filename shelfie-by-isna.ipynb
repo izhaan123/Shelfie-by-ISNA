{
 "cells": [
  {
   "cell_type": "markdown",
   "id": "e4531fdb",
   "metadata": {
    "papermill": {
     "duration": 0.004532,
     "end_time": "2025-04-18T05:12:52.385895",
     "exception": false,
     "start_time": "2025-04-18T05:12:52.381363",
     "status": "completed"
    },
    "tags": []
   },
   "source": [
    "# SHELFIE"
   ]
  },
  {
   "cell_type": "markdown",
   "id": "d7f26fc4",
   "metadata": {
    "papermill": {
     "duration": 0.003352,
     "end_time": "2025-04-18T05:12:52.393113",
     "exception": false,
     "start_time": "2025-04-18T05:12:52.389761",
     "status": "completed"
    },
    "tags": []
   },
   "source": [
    "Run all neccessary pip installs"
   ]
  },
  {
   "cell_type": "code",
   "execution_count": 1,
   "id": "40b76d77",
   "metadata": {
    "execution": {
     "iopub.execute_input": "2025-04-18T05:12:52.401393Z",
     "iopub.status.busy": "2025-04-18T05:12:52.401091Z",
     "iopub.status.idle": "2025-04-18T05:13:06.615989Z",
     "shell.execute_reply": "2025-04-18T05:13:06.614914Z"
    },
    "papermill": {
     "duration": 14.221419,
     "end_time": "2025-04-18T05:13:06.618123",
     "exception": false,
     "start_time": "2025-04-18T05:12:52.396704",
     "status": "completed"
    },
    "tags": []
   },
   "outputs": [
    {
     "name": "stdout",
     "output_type": "stream",
     "text": [
      "Note: you may need to restart the kernel to use updated packages.\n",
      "Note: you may need to restart the kernel to use updated packages.\n"
     ]
    },
    {
     "name": "stderr",
     "output_type": "stream",
     "text": [
      "  WARNING: The script websockets.exe is installed in 'c:\\Users\\Arjun\\AppData\\Local\\Programs\\Python\\Python313\\Scripts' which is not on PATH.\n",
      "  Consider adding this directory to PATH or, if you prefer to suppress this warning, use --no-warn-script-location.\n",
      "  WARNING: The script normalizer.exe is installed in 'c:\\Users\\Arjun\\AppData\\Local\\Programs\\Python\\Python313\\Scripts' which is not on PATH.\n",
      "  Consider adding this directory to PATH or, if you prefer to suppress this warning, use --no-warn-script-location.\n",
      "  WARNING: The scripts pyrsa-decrypt.exe, pyrsa-encrypt.exe, pyrsa-keygen.exe, pyrsa-priv2pub.exe, pyrsa-sign.exe and pyrsa-verify.exe are installed in 'c:\\Users\\Arjun\\AppData\\Local\\Programs\\Python\\Python313\\Scripts' which is not on PATH.\n",
      "  Consider adding this directory to PATH or, if you prefer to suppress this warning, use --no-warn-script-location.\n",
      "  WARNING: The script httpx.exe is installed in 'c:\\Users\\Arjun\\AppData\\Local\\Programs\\Python\\Python313\\Scripts' which is not on PATH.\n",
      "  Consider adding this directory to PATH or, if you prefer to suppress this warning, use --no-warn-script-location.\n"
     ]
    },
    {
     "name": "stdout",
     "output_type": "stream",
     "text": [
      "Collecting faker\n",
      "  Downloading faker-37.1.0-py3-none-any.whl.metadata (15 kB)\n",
      "Collecting tzdata (from faker)\n",
      "  Downloading tzdata-2025.2-py2.py3-none-any.whl.metadata (1.4 kB)\n",
      "Downloading faker-37.1.0-py3-none-any.whl (1.9 MB)\n",
      "   ---------------------------------------- 0.0/1.9 MB ? eta -:--:--\n",
      "   ---------------------------------------- 1.9/1.9 MB 11.0 MB/s eta 0:00:00\n",
      "Downloading tzdata-2025.2-py2.py3-none-any.whl (347 kB)\n",
      "Installing collected packages: tzdata, faker\n",
      "Successfully installed faker-37.1.0 tzdata-2025.2\n",
      "Note: you may need to restart the kernel to use updated packages.\n"
     ]
    },
    {
     "name": "stderr",
     "output_type": "stream",
     "text": [
      "  WARNING: The script faker.exe is installed in 'c:\\Users\\Arjun\\AppData\\Local\\Programs\\Python\\Python313\\Scripts' which is not on PATH.\n",
      "  Consider adding this directory to PATH or, if you prefer to suppress this warning, use --no-warn-script-location.\n"
     ]
    },
    {
     "name": "stdout",
     "output_type": "stream",
     "text": [
      "Collecting google-api-python-client\n",
      "  Downloading google_api_python_client-2.167.0-py2.py3-none-any.whl.metadata (6.7 kB)\n",
      "Collecting httplib2<1.0.0,>=0.19.0 (from google-api-python-client)\n",
      "  Downloading httplib2-0.22.0-py3-none-any.whl.metadata (2.6 kB)\n",
      "Requirement already satisfied: google-auth!=2.24.0,!=2.25.0,<3.0.0,>=1.32.0 in c:\\users\\arjun\\appdata\\local\\programs\\python\\python313\\lib\\site-packages (from google-api-python-client) (2.39.0)\n",
      "Collecting google-auth-httplib2<1.0.0,>=0.2.0 (from google-api-python-client)\n",
      "  Downloading google_auth_httplib2-0.2.0-py2.py3-none-any.whl.metadata (2.2 kB)\n",
      "Collecting google-api-core!=2.0.*,!=2.1.*,!=2.2.*,!=2.3.0,<3.0.0,>=1.31.5 (from google-api-python-client)\n",
      "  Downloading google_api_core-2.24.2-py3-none-any.whl.metadata (3.0 kB)\n",
      "Collecting uritemplate<5,>=3.0.1 (from google-api-python-client)\n",
      "  Downloading uritemplate-4.1.1-py2.py3-none-any.whl.metadata (2.9 kB)\n",
      "Collecting googleapis-common-protos<2.0.0,>=1.56.2 (from google-api-core!=2.0.*,!=2.1.*,!=2.2.*,!=2.3.0,<3.0.0,>=1.31.5->google-api-python-client)\n",
      "  Downloading googleapis_common_protos-1.70.0-py3-none-any.whl.metadata (9.3 kB)\n",
      "Collecting protobuf!=3.20.0,!=3.20.1,!=4.21.0,!=4.21.1,!=4.21.2,!=4.21.3,!=4.21.4,!=4.21.5,<7.0.0,>=3.19.5 (from google-api-core!=2.0.*,!=2.1.*,!=2.2.*,!=2.3.0,<3.0.0,>=1.31.5->google-api-python-client)\n",
      "  Downloading protobuf-6.30.2-cp310-abi3-win_amd64.whl.metadata (593 bytes)\n",
      "Collecting proto-plus<2.0.0,>=1.22.3 (from google-api-core!=2.0.*,!=2.1.*,!=2.2.*,!=2.3.0,<3.0.0,>=1.31.5->google-api-python-client)\n",
      "  Downloading proto_plus-1.26.1-py3-none-any.whl.metadata (2.2 kB)\n",
      "Requirement already satisfied: requests<3.0.0,>=2.18.0 in c:\\users\\arjun\\appdata\\local\\programs\\python\\python313\\lib\\site-packages (from google-api-core!=2.0.*,!=2.1.*,!=2.2.*,!=2.3.0,<3.0.0,>=1.31.5->google-api-python-client) (2.32.3)\n",
      "Requirement already satisfied: cachetools<6.0,>=2.0.0 in c:\\users\\arjun\\appdata\\local\\programs\\python\\python313\\lib\\site-packages (from google-auth!=2.24.0,!=2.25.0,<3.0.0,>=1.32.0->google-api-python-client) (5.5.2)\n",
      "Requirement already satisfied: pyasn1-modules>=0.2.1 in c:\\users\\arjun\\appdata\\local\\programs\\python\\python313\\lib\\site-packages (from google-auth!=2.24.0,!=2.25.0,<3.0.0,>=1.32.0->google-api-python-client) (0.4.2)\n",
      "Requirement already satisfied: rsa<5,>=3.1.4 in c:\\users\\arjun\\appdata\\local\\programs\\python\\python313\\lib\\site-packages (from google-auth!=2.24.0,!=2.25.0,<3.0.0,>=1.32.0->google-api-python-client) (4.9.1)\n",
      "Collecting pyparsing!=3.0.0,!=3.0.1,!=3.0.2,!=3.0.3,<4,>=2.4.2 (from httplib2<1.0.0,>=0.19.0->google-api-python-client)\n",
      "  Downloading pyparsing-3.2.3-py3-none-any.whl.metadata (5.0 kB)\n",
      "Requirement already satisfied: pyasn1<0.7.0,>=0.6.1 in c:\\users\\arjun\\appdata\\local\\programs\\python\\python313\\lib\\site-packages (from pyasn1-modules>=0.2.1->google-auth!=2.24.0,!=2.25.0,<3.0.0,>=1.32.0->google-api-python-client) (0.6.1)\n",
      "Requirement already satisfied: charset-normalizer<4,>=2 in c:\\users\\arjun\\appdata\\local\\programs\\python\\python313\\lib\\site-packages (from requests<3.0.0,>=2.18.0->google-api-core!=2.0.*,!=2.1.*,!=2.2.*,!=2.3.0,<3.0.0,>=1.31.5->google-api-python-client) (3.4.1)\n",
      "Requirement already satisfied: idna<4,>=2.5 in c:\\users\\arjun\\appdata\\local\\programs\\python\\python313\\lib\\site-packages (from requests<3.0.0,>=2.18.0->google-api-core!=2.0.*,!=2.1.*,!=2.2.*,!=2.3.0,<3.0.0,>=1.31.5->google-api-python-client) (3.10)\n",
      "Requirement already satisfied: urllib3<3,>=1.21.1 in c:\\users\\arjun\\appdata\\local\\programs\\python\\python313\\lib\\site-packages (from requests<3.0.0,>=2.18.0->google-api-core!=2.0.*,!=2.1.*,!=2.2.*,!=2.3.0,<3.0.0,>=1.31.5->google-api-python-client) (2.4.0)\n",
      "Requirement already satisfied: certifi>=2017.4.17 in c:\\users\\arjun\\appdata\\local\\programs\\python\\python313\\lib\\site-packages (from requests<3.0.0,>=2.18.0->google-api-core!=2.0.*,!=2.1.*,!=2.2.*,!=2.3.0,<3.0.0,>=1.31.5->google-api-python-client) (2025.1.31)\n",
      "Downloading google_api_python_client-2.167.0-py2.py3-none-any.whl (13.2 MB)\n",
      "   ---------------------------------------- 0.0/13.2 MB ? eta -:--:--\n",
      "   -------------------------------- ------- 10.7/13.2 MB 56.2 MB/s eta 0:00:01\n",
      "   ---------------------------------------  13.1/13.2 MB 56.4 MB/s eta 0:00:01\n",
      "   ---------------------------------------  13.1/13.2 MB 56.4 MB/s eta 0:00:01\n",
      "   ---------------------------------------- 13.2/13.2 MB 16.2 MB/s eta 0:00:00\n",
      "Downloading google_api_core-2.24.2-py3-none-any.whl (160 kB)\n",
      "Downloading google_auth_httplib2-0.2.0-py2.py3-none-any.whl (9.3 kB)\n",
      "Downloading httplib2-0.22.0-py3-none-any.whl (96 kB)\n",
      "Downloading uritemplate-4.1.1-py2.py3-none-any.whl (10 kB)\n",
      "Downloading googleapis_common_protos-1.70.0-py3-none-any.whl (294 kB)\n",
      "Downloading proto_plus-1.26.1-py3-none-any.whl (50 kB)\n",
      "Downloading protobuf-6.30.2-cp310-abi3-win_amd64.whl (431 kB)\n",
      "Downloading pyparsing-3.2.3-py3-none-any.whl (111 kB)\n",
      "Installing collected packages: uritemplate, pyparsing, protobuf, proto-plus, httplib2, googleapis-common-protos, google-auth-httplib2, google-api-core, google-api-python-client\n",
      "Successfully installed google-api-core-2.24.2 google-api-python-client-2.167.0 google-auth-httplib2-0.2.0 googleapis-common-protos-1.70.0 httplib2-0.22.0 proto-plus-1.26.1 protobuf-6.30.2 pyparsing-3.2.3 uritemplate-4.1.1\n",
      "Note: you may need to restart the kernel to use updated packages.\n",
      "Collecting dotenv\n",
      "  Downloading dotenv-0.9.9-py2.py3-none-any.whl.metadata (279 bytes)\n",
      "Collecting python-dotenv (from dotenv)\n",
      "  Downloading python_dotenv-1.1.0-py3-none-any.whl.metadata (24 kB)\n",
      "Downloading dotenv-0.9.9-py2.py3-none-any.whl (1.9 kB)\n",
      "Downloading python_dotenv-1.1.0-py3-none-any.whl (20 kB)\n",
      "Installing collected packages: python-dotenv, dotenv\n",
      "Successfully installed dotenv-0.9.9 python-dotenv-1.1.0\n",
      "Note: you may need to restart the kernel to use updated packages.\n"
     ]
    },
    {
     "name": "stderr",
     "output_type": "stream",
     "text": [
      "  WARNING: The script dotenv.exe is installed in 'c:\\Users\\Arjun\\AppData\\Local\\Programs\\Python\\Python313\\Scripts' which is not on PATH.\n",
      "  Consider adding this directory to PATH or, if you prefer to suppress this warning, use --no-warn-script-location.\n"
     ]
    },
    {
     "name": "stdout",
     "output_type": "stream",
     "text": [
      "Note: you may need to restart the kernel to use updated packages.\n"
     ]
    },
    {
     "name": "stderr",
     "output_type": "stream",
     "text": [
      "  WARNING: The script filetype.exe is installed in 'c:\\Users\\Arjun\\AppData\\Local\\Programs\\Python\\Python313\\Scripts' which is not on PATH.\n",
      "  Consider adding this directory to PATH or, if you prefer to suppress this warning, use --no-warn-script-location.\n"
     ]
    }
   ],
   "source": [
    "%pip uninstall -qqy jupyterlab \n",
    "# Remove unused conflicting packages\n",
    "%pip install -U -q \"google-genai==1.7.0\"\n",
    "%pip install faker\n",
    "%pip install google-api-python-client\n",
    "%pip install dotenv\n",
    "%pip install -qU \"langgraph==0.3.21\" \"langchain-google-genai==2.1.2\" \"langgraph-prebuilt==0.1.7\""
   ]
  },
  {
   "cell_type": "markdown",
   "id": "e5dfd67f",
   "metadata": {
    "papermill": {
     "duration": 0.004127,
     "end_time": "2025-04-18T05:13:06.627006",
     "exception": false,
     "start_time": "2025-04-18T05:13:06.622879",
     "status": "completed"
    },
    "tags": []
   },
   "source": [
    "Do all the neccessary imports to declutter code below. Also verify genai is being imported correctly."
   ]
  },
  {
   "cell_type": "code",
   "execution_count": 7,
   "id": "9608aaa2",
   "metadata": {
    "execution": {
     "iopub.execute_input": "2025-04-18T05:13:06.637638Z",
     "iopub.status.busy": "2025-04-18T05:13:06.636670Z",
     "iopub.status.idle": "2025-04-18T05:13:08.264483Z",
     "shell.execute_reply": "2025-04-18T05:13:08.263120Z"
    },
    "papermill": {
     "duration": 1.634866,
     "end_time": "2025-04-18T05:13:08.266117",
     "exception": false,
     "start_time": "2025-04-18T05:13:06.631251",
     "status": "completed"
    },
    "tags": []
   },
   "outputs": [
    {
     "name": "stdout",
     "output_type": "stream",
     "text": [
      "1.7.0\n"
     ]
    }
   ],
   "source": [
    "import sqlite3\n",
    "import random\n",
    "from faker import Faker\n",
    "from google import genai\n",
    "from google.genai import types\n",
    "from google.api_core import retry\n",
    "from typing import Final\n",
    "from IPython.display import Markdown, display\n",
    "from pprint import pprint\n",
    "print(genai.__version__)\n",
    "from typing import Annotated\n",
    "from typing_extensions import TypedDict\n",
    "from langgraph.graph.message import add_messages\n",
    "from langgraph.graph import StateGraph, START, END\n",
    "from langchain_google_genai import ChatGoogleGenerativeAI\n",
    "from langchain_core.messages.ai import AIMessage\n",
    "from typing import Literal\n",
    "from langchain_core.tools import tool\n",
    "from langgraph.prebuilt import ToolNode\n",
    "from collections.abc import Iterable\n",
    "from langchain_core.messages.tool import ToolMessage"
   ]
  },
  {
   "cell_type": "markdown",
   "id": "2bd2a5d4",
   "metadata": {},
   "source": [
    "Set up `GOOGLE_API_KEY` for both Kaggle and local development."
   ]
  },
  {
   "cell_type": "code",
   "execution_count": 3,
   "id": "2986da7e",
   "metadata": {},
   "outputs": [],
   "source": [
    "import os\n",
    "from dotenv import load_dotenv\n",
    "\n",
    "try:\n",
    "    from kaggle_secrets import UserSecretsClient\n",
    "    IS_KAGGLE = True\n",
    "except ImportError:\n",
    "    IS_KAGGLE = False\n",
    "\n",
    "# Load environment variables from .env file for local setup\n",
    "if not IS_KAGGLE:\n",
    "    load_dotenv()\n",
    "\n",
    "# Fetch the Google API key\n",
    "if IS_KAGGLE:\n",
    "    GOOGLE_API_KEY = UserSecretsClient().get_secret(\"GOOGLE_API_KEY\")\n",
    "else:\n",
    "    GOOGLE_API_KEY = os.getenv(\"GOOGLE_API_KEY\")\n",
    "\n",
    "if not GOOGLE_API_KEY:\n",
    "    raise ValueError(\"Google API key not found. Please set it in the appropriate environment.\")"
   ]
  },
  {
   "cell_type": "code",
   "execution_count": 4,
   "id": "d63a5ea7",
   "metadata": {
    "execution": {
     "iopub.execute_input": "2025-04-18T05:13:08.284529Z",
     "iopub.status.busy": "2025-04-18T05:13:08.284049Z",
     "iopub.status.idle": "2025-04-18T05:13:08.443751Z",
     "shell.execute_reply": "2025-04-18T05:13:08.443052Z"
    },
    "papermill": {
     "duration": 0.166477,
     "end_time": "2025-04-18T05:13:08.445296",
     "exception": false,
     "start_time": "2025-04-18T05:13:08.278819",
     "status": "completed"
    },
    "tags": []
   },
   "outputs": [],
   "source": [
    "NUM_BOOKS: Final[int] = 30"
   ]
  },
  {
   "cell_type": "code",
   "execution_count": 5,
   "id": "b743fc60",
   "metadata": {
    "execution": {
     "iopub.execute_input": "2025-04-18T05:13:08.455299Z",
     "iopub.status.busy": "2025-04-18T05:13:08.454998Z",
     "iopub.status.idle": "2025-04-18T05:13:08.459899Z",
     "shell.execute_reply": "2025-04-18T05:13:08.459188Z"
    },
    "papermill": {
     "duration": 0.011495,
     "end_time": "2025-04-18T05:13:08.461255",
     "exception": false,
     "start_time": "2025-04-18T05:13:08.449760",
     "status": "completed"
    },
    "tags": []
   },
   "outputs": [],
   "source": [
    "# Define a retry policy. The model might make multiple consecutive calls automatically\n",
    "# for a complex query, this ensures the client retries if it hits quota limits.\n",
    "is_retriable = lambda e: (isinstance(e, genai.errors.APIError) and e.code in {429, 503})\n",
    "\n",
    "if not hasattr(genai.models.Models.generate_content, '__wrapped__'):\n",
    "  genai.models.Models.generate_content = retry.Retry(\n",
    "      predicate=is_retriable)(genai.models.Models.generate_content)"
   ]
  },
  {
   "cell_type": "code",
   "execution_count": null,
   "id": "977a8c78",
   "metadata": {
    "execution": {
     "iopub.execute_input": "2025-04-18T05:13:08.486569Z",
     "iopub.status.busy": "2025-04-18T05:13:08.486122Z",
     "iopub.status.idle": "2025-04-18T05:13:08.490676Z",
     "shell.execute_reply": "2025-04-18T05:13:08.489816Z"
    },
    "papermill": {
     "duration": 0.010997,
     "end_time": "2025-04-18T05:13:08.492067",
     "exception": false,
     "start_time": "2025-04-18T05:13:08.481070",
     "status": "completed"
    },
    "tags": []
   },
   "outputs": [],
   "source": [
    "# Remove existing database file (if it exists)\n",
    "db_file = \"library.db\"\n",
    "if os.path.exists(db_file):\n",
    "    os.remove(db_file)"
   ]
  },
  {
   "cell_type": "code",
   "execution_count": null,
   "id": "a9e6d42a",
   "metadata": {
    "execution": {
     "iopub.execute_input": "2025-04-18T05:13:08.502190Z",
     "iopub.status.busy": "2025-04-18T05:13:08.501394Z",
     "iopub.status.idle": "2025-04-18T05:13:08.506668Z",
     "shell.execute_reply": "2025-04-18T05:13:08.505868Z"
    },
    "papermill": {
     "duration": 0.01164,
     "end_time": "2025-04-18T05:13:08.508037",
     "exception": false,
     "start_time": "2025-04-18T05:13:08.496397",
     "status": "completed"
    },
    "tags": []
   },
   "outputs": [],
   "source": [
    "from dataclasses import dataclass\n",
    "\n",
    "@dataclass\n",
    "class Book:\n",
    "    name: str\n",
    "    genre: str\n",
    "    description: str\n",
    "    author: str"
   ]
  },
  {
   "cell_type": "code",
   "execution_count": null,
   "id": "5bda3346",
   "metadata": {
    "execution": {
     "iopub.execute_input": "2025-04-18T05:13:08.518002Z",
     "iopub.status.busy": "2025-04-18T05:13:08.517654Z",
     "iopub.status.idle": "2025-04-18T05:13:08.526981Z",
     "shell.execute_reply": "2025-04-18T05:13:08.526249Z"
    },
    "papermill": {
     "duration": 0.016181,
     "end_time": "2025-04-18T05:13:08.528506",
     "exception": false,
     "start_time": "2025-04-18T05:13:08.512325",
     "status": "completed"
    },
    "tags": []
   },
   "outputs": [],
   "source": [
    "def generate_books_list(num_books: int) -> list[Book]:\n",
    "    \"\"\"\n",
    "    Asks Gemini to create a list of\n",
    "    \n",
    "    return: A list of Book objects.\n",
    "    \"\"\"\n",
    "    prompt = \"\"\"\n",
    "    Generate a list of exactly {num_books} books of any genre. For each book, provide the name, genre, a description of about 1000 characters, and the author.\n",
    "    Do not include the author's name in the description. Return the result as a JSON array of book objects with the keys: \"name\", \"genre\", \"description\", and \"author\".\n",
    "    Examples of a \"name\", \"genre\", \"description\", and \"author\" are provided below:\n",
    "    1) \"To Kill a Mockingbird\", \"Fiction\", \"A gripping tale set in the racially charged American South, exploring themes of justice, morality, and the loss of innocence. Perfect for readers who appreciate profound social commentary interwoven with compelling storytelling.\", \"Harper Lee\"\n",
    "    2) \"1984\", \"Dystopian\", \"A chilling vision of a totalitarian future where surveillance and control pervade every aspect of life. Ideal for fans of thought-provoking and cautionary tales.\", \"George Orwell\"\n",
    "    \"\"\"\n",
    "\n",
    "    if num_books < 1:\n",
    "        raise Exception(\"Need to generate at least one Book.\")\n",
    "    \n",
    "    prompt = prompt.format(num_books = num_books)\n",
    "    client = genai.Client(api_key=GOOGLE_API_KEY)\n",
    "    \n",
    "    structured_output_config = types.GenerateContentConfig(\n",
    "        response_mime_type=\"application/json\",\n",
    "        response_schema={\n",
    "            \"type\": \"array\",\n",
    "            \"items\": {\n",
    "                \"type\": \"object\",\n",
    "                \"properties\": {\n",
    "                    \"name\": {\"type\": \"string\"},\n",
    "                    \"genre\": {\"type\": \"string\"},\n",
    "                    \"description\": {\"type\": \"string\"},\n",
    "                    \"author\": {\"type\": \"string\"}\n",
    "                },\n",
    "                \"required\": [\"name\", \"genre\", \"description\", \"author\"]\n",
    "            }\n",
    "        },\n",
    "        temperature=0.3\n",
    "    )\n",
    "\n",
    "    response_len = 0\n",
    "\n",
    "    while response_len != num_books:\n",
    "        chat = client.chats.create(model='gemini-2.0-flash')\n",
    "        response = chat.send_message(\n",
    "          message=prompt,\n",
    "          config=structured_output_config,\n",
    "        )\n",
    "        book_objects = [Book(**book) for book in response.parsed]\n",
    "        response_len = len(book_objects)\n",
    "    \n",
    "    return book_objects"
   ]
  },
  {
   "cell_type": "markdown",
   "id": "34bc45bf",
   "metadata": {
    "papermill": {
     "duration": 0.003965,
     "end_time": "2025-04-18T05:13:08.536845",
     "exception": false,
     "start_time": "2025-04-18T05:13:08.532880",
     "status": "completed"
    },
    "tags": []
   },
   "source": [
    "Do a basic check to see that an exception is raised when the user provides `num_books` < 1."
   ]
  },
  {
   "cell_type": "code",
   "execution_count": null,
   "id": "3c6b2c75",
   "metadata": {
    "execution": {
     "iopub.execute_input": "2025-04-18T05:13:08.546312Z",
     "iopub.status.busy": "2025-04-18T05:13:08.546041Z",
     "iopub.status.idle": "2025-04-18T05:13:08.550949Z",
     "shell.execute_reply": "2025-04-18T05:13:08.550062Z"
    },
    "papermill": {
     "duration": 0.011377,
     "end_time": "2025-04-18T05:13:08.552387",
     "exception": false,
     "start_time": "2025-04-18T05:13:08.541010",
     "status": "completed"
    },
    "tags": []
   },
   "outputs": [],
   "source": [
    "try:\n",
    "    generate_books_list(0)\n",
    "except:\n",
    "    print(\"Expected error when calling generate_books_list with 0 books.\\n\\n\")"
   ]
  },
  {
   "cell_type": "markdown",
   "id": "01e736cf",
   "metadata": {
    "papermill": {
     "duration": 0.004087,
     "end_time": "2025-04-18T05:13:08.561187",
     "exception": false,
     "start_time": "2025-04-18T05:13:08.557100",
     "status": "completed"
    },
    "tags": []
   },
   "source": [
    "Call `generate_books_list` with `NUM_BOOKS`. The time it takes to run the line of code is non-deterministic. This is the number of books produced by gemini is not consitent."
   ]
  },
  {
   "cell_type": "code",
   "execution_count": null,
   "id": "2e751a14",
   "metadata": {
    "execution": {
     "iopub.execute_input": "2025-04-18T05:13:08.570820Z",
     "iopub.status.busy": "2025-04-18T05:13:08.570502Z",
     "iopub.status.idle": "2025-04-18T05:13:27.768018Z",
     "shell.execute_reply": "2025-04-18T05:13:27.767247Z"
    },
    "papermill": {
     "duration": 19.204066,
     "end_time": "2025-04-18T05:13:27.769558",
     "exception": false,
     "start_time": "2025-04-18T05:13:08.565492",
     "status": "completed"
    },
    "tags": []
   },
   "outputs": [],
   "source": [
    "books_list = generate_books_list(NUM_BOOKS)"
   ]
  },
  {
   "cell_type": "markdown",
   "id": "724d42fb",
   "metadata": {
    "papermill": {
     "duration": 0.004093,
     "end_time": "2025-04-18T05:13:27.778686",
     "exception": false,
     "start_time": "2025-04-18T05:13:27.774593",
     "status": "completed"
    },
    "tags": []
   },
   "source": [
    "Do some validation on the generated output. Verify if the generated list is indeed of length 30. If it's not try running it again. Print the top 5 for inspection."
   ]
  },
  {
   "cell_type": "code",
   "execution_count": null,
   "id": "f4815441",
   "metadata": {
    "execution": {
     "iopub.execute_input": "2025-04-18T05:13:27.788289Z",
     "iopub.status.busy": "2025-04-18T05:13:27.787985Z",
     "iopub.status.idle": "2025-04-18T05:13:27.794250Z",
     "shell.execute_reply": "2025-04-18T05:13:27.793147Z"
    },
    "papermill": {
     "duration": 0.012869,
     "end_time": "2025-04-18T05:13:27.795804",
     "exception": false,
     "start_time": "2025-04-18T05:13:27.782935",
     "status": "completed"
    },
    "tags": []
   },
   "outputs": [],
   "source": [
    "assert(len(books_list) == NUM_BOOKS)\n",
    "assert(all([True for book in books_list if type(book) == Book]))\n",
    "pprint(books_list[:5])"
   ]
  },
  {
   "cell_type": "code",
   "execution_count": null,
   "id": "b5da5a84",
   "metadata": {
    "execution": {
     "iopub.execute_input": "2025-04-18T05:13:27.806341Z",
     "iopub.status.busy": "2025-04-18T05:13:27.806058Z",
     "iopub.status.idle": "2025-04-18T05:13:27.941463Z",
     "shell.execute_reply": "2025-04-18T05:13:27.940585Z"
    },
    "papermill": {
     "duration": 0.142574,
     "end_time": "2025-04-18T05:13:27.942910",
     "exception": false,
     "start_time": "2025-04-18T05:13:27.800336",
     "status": "completed"
    },
    "tags": []
   },
   "outputs": [],
   "source": [
    "# Initialize Faker instance\n",
    "fake = Faker()\n",
    "\n",
    "# Create SQLite database and tables\n",
    "conn = sqlite3.connect(\"library.db\")\n",
    "cursor = conn.cursor()\n",
    "\n",
    "cursor.execute(\"\"\"\n",
    "CREATE TABLE IF NOT EXISTS Users (\n",
    "    user_id INTEGER PRIMARY KEY,\n",
    "    name TEXT,\n",
    "    email TEXT,\n",
    "    password_hash TEXT\n",
    ")\n",
    "\"\"\")\n",
    "\n",
    "cursor.execute(\"\"\"\n",
    "CREATE TABLE IF NOT EXISTS Book (\n",
    "    book_id INTEGER PRIMARY KEY,\n",
    "    name TEXT,\n",
    "    genre TEXT,\n",
    "    description TEXT,\n",
    "    author TEXT\n",
    ")\n",
    "\"\"\")\n",
    "\n",
    "cursor.execute(\"\"\"\n",
    "CREATE TABLE IF NOT EXISTS Stock (\n",
    "    stock_id INTEGER PRIMARY KEY AUTOINCREMENT,\n",
    "    book_id INTEGER,\n",
    "    FOREIGN KEY (book_id) REFERENCES Book(book_id)\n",
    ")\n",
    "\"\"\")\n",
    "\n",
    "cursor.execute(\"\"\"\n",
    "CREATE TABLE IF NOT EXISTS BorrowingHistory (\n",
    "    entry_id INTEGER PRIMARY KEY,\n",
    "    user_id INTEGER,\n",
    "    stock_id INTEGER,\n",
    "    borrowed_on DATE,\n",
    "    returned_on DATE,\n",
    "    due_by DATE,\n",
    "    FOREIGN KEY (user_id) REFERENCES Users(user_id),\n",
    "    FOREIGN KEY (stock_id) REFERENCES Stock(stock_id)\n",
    ")\n",
    "\"\"\")\n",
    "\n",
    "cursor.execute(\"\"\"\n",
    "CREATE TABLE IF NOT EXISTS Reservations (\n",
    "    reservation_id INTEGER PRIMARY KEY,\n",
    "    user_id INTEGER,\n",
    "    book_id INTEGER,\n",
    "    status TEXT,\n",
    "    last_updated DATE,\n",
    "    reserved_on DATE,\n",
    "    FOREIGN KEY (user_id) REFERENCES Users(user_id),\n",
    "    FOREIGN KEY (book_id) REFERENCES Book(book_id)\n",
    ")\n",
    "\"\"\")\n",
    "\n",
    "cursor.execute(\"\"\"\n",
    "CREATE TABLE IF NOT EXISTS Waitlist (\n",
    "    book_id INTEGER,\n",
    "    waitlisted_on DATE,\n",
    "    FOREIGN KEY (book_id) REFERENCES Book(book_id)\n",
    ")\n",
    "\"\"\")\n",
    "\n",
    "passwords = [\"ISNA2018\", \"ISNA2019\", \"ISNA2020\", \"ISNA2021\", \"ISNA2022\"]\n",
    "# Generate and insert sample data for Users table\n",
    "for user_id in range(1, 6):\n",
    "    cursor.execute(\"\"\"\n",
    "    INSERT INTO Users (user_id, name, email, password_hash)\n",
    "    VALUES (?, ?, ?, ?)\n",
    "    \"\"\", (user_id, fake.name(), fake.email(), passwords[user_id - 1]))\n",
    "\n",
    "# Insert real books into Book table\n",
    "for book_id, book in enumerate(books_list, start=1):\n",
    "    cursor.execute(\"\"\"\n",
    "    INSERT INTO Book (book_id, name, genre, description, author)\n",
    "    VALUES (?, ?, ?, ?, ?)\n",
    "    \"\"\", (book_id, book.name, book.genre, book.description, book.author))\n",
    "\n",
    "# Generate and insert sample data for Stock table\n",
    "for book_id in range(1, 31):\n",
    "    num_books = random.randint(3, 5)\n",
    "    j = 0\n",
    "    while (j < num_books):\n",
    "        cursor.execute(\"\"\"\n",
    "        INSERT INTO Stock (book_id)\n",
    "        VALUES (?)\n",
    "        \"\"\", (book_id, ))\n",
    "        j += 1\n",
    "\n",
    "# Generate and insert sample data for BorrowingHistory table\n",
    "for entry_id in range(1, 21):\n",
    "    cursor.execute(\"\"\"\n",
    "    INSERT INTO BorrowingHistory (entry_id, user_id, stock_id, borrowed_on, returned_on, due_by)\n",
    "    VALUES (?, ?, ?, ?, ?, ?)\n",
    "    \"\"\", (entry_id, random.randint(1, 5), random.randint(1, 50), fake.date_between(start_date=\"-1y\", end_date=\"-1d\"), fake.date_between(start_date=\"+1d\", end_date=\"+1y\"), fake.date_between(start_date=\"+1d\", end_date=\"+1y\")))\n",
    "\n",
    "# Generate and insert sample data for Reservations table\n",
    "for reservation_id in range(1, 21):\n",
    "    cursor.execute(\"\"\"\n",
    "    INSERT INTO Reservations (reservation_id, user_id, book_id, status, last_updated, reserved_on)\n",
    "    VALUES (?, ?, ?, ?, ?, ?)\n",
    "    \"\"\", (reservation_id, random.randint(1, 5), random.randint(1, 50), random.choice([\"Active\", \"Fulfilled\", \"Expired\"]), fake.date_between(start_date=\"-1y\", end_date=\"today\"), fake.date_between(start_date=\"-1y\", end_date=\"today\")))\n",
    "\n",
    "# Generate and insert sample data for Waitlist table\n",
    "for book_id in range(1, 6):\n",
    "    cursor.execute(\"\"\"\n",
    "    INSERT INTO Waitlist (book_id, waitlisted_on)\n",
    "    VALUES (?, ?)\n",
    "    \"\"\", (book_id, fake.date_between(start_date=\"-1y\", end_date=\"today\")))\n",
    "\n",
    "# Commit changes and close connection\n",
    "conn.commit()\n",
    "conn.close()\n",
    "\n",
    "print(\"Sample data has been inserted into the SQLite database.\")\n"
   ]
  },
  {
   "cell_type": "code",
   "execution_count": null,
   "id": "cf50c436",
   "metadata": {
    "execution": {
     "iopub.execute_input": "2025-04-18T05:13:27.953390Z",
     "iopub.status.busy": "2025-04-18T05:13:27.952704Z",
     "iopub.status.idle": "2025-04-18T05:13:27.962488Z",
     "shell.execute_reply": "2025-04-18T05:13:27.961698Z"
    },
    "papermill": {
     "duration": 0.016679,
     "end_time": "2025-04-18T05:13:27.964173",
     "exception": false,
     "start_time": "2025-04-18T05:13:27.947494",
     "status": "completed"
    },
    "tags": []
   },
   "outputs": [],
   "source": [
    "conn = sqlite3.connect(\"library.db\")\n",
    "cursor = conn.cursor()\n",
    "\n",
    "# Query all tables to display the data\n",
    "cursor.execute(\"SELECT * FROM Users\")\n",
    "print(\"Users:\")\n",
    "for row in cursor.fetchall():\n",
    "    print(row)\n",
    "\n",
    "cursor.execute(\"SELECT * FROM Book\")\n",
    "print(\"\\nBooks:\")\n",
    "for row in cursor.fetchall():\n",
    "    print(row)\n",
    "\n",
    "cursor.execute(\"SELECT * FROM Stock\")\n",
    "print(\"\\nStock:\")\n",
    "for row in cursor.fetchall():\n",
    "    print(row)\n",
    "\n",
    "cursor.execute(\"SELECT * FROM BorrowingHistory\")\n",
    "print(\"\\nBorrowingHistory:\")\n",
    "for row in cursor.fetchall():\n",
    "    print(row)\n",
    "\n",
    "cursor.execute(\"SELECT * FROM Reservations\")\n",
    "print(\"\\nReservations:\")\n",
    "for row in cursor.fetchall():\n",
    "    print(row)\n",
    "\n",
    "cursor.execute(\"SELECT * FROM Waitlist\")\n",
    "print(\"\\nWaitlist:\")\n",
    "for row in cursor.fetchall():\n",
    "    print(row)"
   ]
  },
  {
   "cell_type": "code",
   "execution_count": null,
   "id": "1628c945",
   "metadata": {},
   "outputs": [],
   "source": [
    "class BookState(TypedDict):\n",
    "    \"\"\"State representing the customer's conversation about borrowing library books.\"\"\"\n",
    "\n",
    "    # The chat conversation. This preserves the conversation history\n",
    "    # between nodes. The `add_messages` annotation indicates to LangGraph\n",
    "    # that state is updated by appending returned messages, not replacing\n",
    "    # them.\n",
    "    messages: Annotated[list, add_messages]\n",
    "\n",
    "    user: int\n",
    "\n",
    "    # The customer's in-progress order.\n",
    "    books: list[int]\n",
    "\n",
    "    # Flag indicating that the books hve been reserved/waitlisted.\n",
    "    finished: bool\n",
    "\n",
    "\n",
    "# The system instruction defines how the chatbot is expected to behave and includes\n",
    "# rules for when to call different functions, as well as rules for the conversation, such\n",
    "# as tone and what is permitted for discussion.\n",
    "SYSTEM_INSTRUCTION = \"You are Shelfie, a library chatbot facilitating book borrowing through this chat\" \\\n",
    "\"interface. Your knowledge encompasses all books available in our library, including detailed understanding\" \\\n",
    "\" of plots, characters, themes, and precise recall of passages with corresponding page and book information.\" \\\n",
    "\" You can also provide a rating out of 5 for each book. When a requested book is unavailable, \" \\\n",
    "\"offer recommendations for highly-rated alternatives within our current inventory.\"\n",
    "\n",
    "\n",
    "# This is the message with which the system opens the conversation.\n",
    "WELCOME_MSG = \"Welcome to SHELFIE. Type `q` to quit. How may I help you today?\""
   ]
  }
 ],
 "metadata": {
  "kaggle": {
   "accelerator": "none",
   "dataSources": [],
   "dockerImageVersionId": 31012,
   "isGpuEnabled": false,
   "isInternetEnabled": true,
   "language": "python",
   "sourceType": "notebook"
  },
  "kernelspec": {
   "display_name": "Python 3",
   "language": "python",
   "name": "python3"
  },
  "language_info": {
   "codemirror_mode": {
    "name": "ipython",
    "version": 3
   },
   "file_extension": ".py",
   "mimetype": "text/x-python",
   "name": "python",
   "nbconvert_exporter": "python",
   "pygments_lexer": "ipython3",
   "version": "3.13.3"
  },
  "papermill": {
   "default_parameters": {},
   "duration": 42.895908,
   "end_time": "2025-04-18T05:13:30.646941",
   "environment_variables": {},
   "exception": null,
   "input_path": "__notebook__.ipynb",
   "output_path": "__notebook__.ipynb",
   "parameters": {},
   "start_time": "2025-04-18T05:12:47.751033",
   "version": "2.6.0"
  }
 },
 "nbformat": 4,
 "nbformat_minor": 5
}
