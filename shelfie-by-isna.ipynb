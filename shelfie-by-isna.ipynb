{
 "cells": [
  {
   "cell_type": "markdown",
   "id": "e4531fdb",
   "metadata": {
    "papermill": {
     "duration": 0.004532,
     "end_time": "2025-04-18T05:12:52.385895",
     "exception": false,
     "start_time": "2025-04-18T05:12:52.381363",
     "status": "completed"
    },
    "tags": []
   },
   "source": [
    "# SHELFIE"
   ]
  },
  {
   "cell_type": "markdown",
   "id": "d7f26fc4",
   "metadata": {
    "papermill": {
     "duration": 0.003352,
     "end_time": "2025-04-18T05:12:52.393113",
     "exception": false,
     "start_time": "2025-04-18T05:12:52.389761",
     "status": "completed"
    },
    "tags": []
   },
   "source": [
    "Run all neccessary pip installs"
   ]
  },
  {
   "cell_type": "code",
   "execution_count": 1,
   "id": "40b76d77",
   "metadata": {
    "execution": {
     "iopub.execute_input": "2025-04-18T05:12:52.401393Z",
     "iopub.status.busy": "2025-04-18T05:12:52.401091Z",
     "iopub.status.idle": "2025-04-18T05:13:06.615989Z",
     "shell.execute_reply": "2025-04-18T05:13:06.614914Z"
    },
    "papermill": {
     "duration": 14.221419,
     "end_time": "2025-04-18T05:13:06.618123",
     "exception": false,
     "start_time": "2025-04-18T05:12:52.396704",
     "status": "completed"
    },
    "tags": []
   },
   "outputs": [
    {
     "name": "stdout",
     "output_type": "stream",
     "text": [
      "Note: you may need to restart the kernel to use updated packages.\n",
      "Note: you may need to restart the kernel to use updated packages.\n",
      "Requirement already satisfied: faker in ./.venv/lib/python3.12/site-packages (37.1.0)\n",
      "Requirement already satisfied: tzdata in ./.venv/lib/python3.12/site-packages (from faker) (2025.2)\n",
      "Note: you may need to restart the kernel to use updated packages.\n",
      "Requirement already satisfied: google-api-python-client in ./.venv/lib/python3.12/site-packages (2.167.0)\n",
      "Requirement already satisfied: httplib2<1.0.0,>=0.19.0 in ./.venv/lib/python3.12/site-packages (from google-api-python-client) (0.22.0)\n",
      "Requirement already satisfied: google-auth!=2.24.0,!=2.25.0,<3.0.0,>=1.32.0 in ./.venv/lib/python3.12/site-packages (from google-api-python-client) (2.39.0)\n",
      "Requirement already satisfied: google-auth-httplib2<1.0.0,>=0.2.0 in ./.venv/lib/python3.12/site-packages (from google-api-python-client) (0.2.0)\n",
      "Requirement already satisfied: google-api-core!=2.0.*,!=2.1.*,!=2.2.*,!=2.3.0,<3.0.0,>=1.31.5 in ./.venv/lib/python3.12/site-packages (from google-api-python-client) (2.24.2)\n",
      "Requirement already satisfied: uritemplate<5,>=3.0.1 in ./.venv/lib/python3.12/site-packages (from google-api-python-client) (4.1.1)\n",
      "Requirement already satisfied: googleapis-common-protos<2.0.0,>=1.56.2 in ./.venv/lib/python3.12/site-packages (from google-api-core!=2.0.*,!=2.1.*,!=2.2.*,!=2.3.0,<3.0.0,>=1.31.5->google-api-python-client) (1.70.0)\n",
      "Requirement already satisfied: protobuf!=3.20.0,!=3.20.1,!=4.21.0,!=4.21.1,!=4.21.2,!=4.21.3,!=4.21.4,!=4.21.5,<7.0.0,>=3.19.5 in ./.venv/lib/python3.12/site-packages (from google-api-core!=2.0.*,!=2.1.*,!=2.2.*,!=2.3.0,<3.0.0,>=1.31.5->google-api-python-client) (6.30.2)\n",
      "Requirement already satisfied: proto-plus<2.0.0,>=1.22.3 in ./.venv/lib/python3.12/site-packages (from google-api-core!=2.0.*,!=2.1.*,!=2.2.*,!=2.3.0,<3.0.0,>=1.31.5->google-api-python-client) (1.26.1)\n",
      "Requirement already satisfied: requests<3.0.0,>=2.18.0 in ./.venv/lib/python3.12/site-packages (from google-api-core!=2.0.*,!=2.1.*,!=2.2.*,!=2.3.0,<3.0.0,>=1.31.5->google-api-python-client) (2.32.3)\n",
      "Requirement already satisfied: cachetools<6.0,>=2.0.0 in ./.venv/lib/python3.12/site-packages (from google-auth!=2.24.0,!=2.25.0,<3.0.0,>=1.32.0->google-api-python-client) (5.5.2)\n",
      "Requirement already satisfied: pyasn1-modules>=0.2.1 in ./.venv/lib/python3.12/site-packages (from google-auth!=2.24.0,!=2.25.0,<3.0.0,>=1.32.0->google-api-python-client) (0.4.2)\n",
      "Requirement already satisfied: rsa<5,>=3.1.4 in ./.venv/lib/python3.12/site-packages (from google-auth!=2.24.0,!=2.25.0,<3.0.0,>=1.32.0->google-api-python-client) (4.9.1)\n",
      "Requirement already satisfied: pyparsing!=3.0.0,!=3.0.1,!=3.0.2,!=3.0.3,<4,>=2.4.2 in ./.venv/lib/python3.12/site-packages (from httplib2<1.0.0,>=0.19.0->google-api-python-client) (3.2.3)\n",
      "Requirement already satisfied: pyasn1<0.7.0,>=0.6.1 in ./.venv/lib/python3.12/site-packages (from pyasn1-modules>=0.2.1->google-auth!=2.24.0,!=2.25.0,<3.0.0,>=1.32.0->google-api-python-client) (0.6.1)\n",
      "Requirement already satisfied: charset-normalizer<4,>=2 in ./.venv/lib/python3.12/site-packages (from requests<3.0.0,>=2.18.0->google-api-core!=2.0.*,!=2.1.*,!=2.2.*,!=2.3.0,<3.0.0,>=1.31.5->google-api-python-client) (3.4.1)\n",
      "Requirement already satisfied: idna<4,>=2.5 in ./.venv/lib/python3.12/site-packages (from requests<3.0.0,>=2.18.0->google-api-core!=2.0.*,!=2.1.*,!=2.2.*,!=2.3.0,<3.0.0,>=1.31.5->google-api-python-client) (3.10)\n",
      "Requirement already satisfied: urllib3<3,>=1.21.1 in ./.venv/lib/python3.12/site-packages (from requests<3.0.0,>=2.18.0->google-api-core!=2.0.*,!=2.1.*,!=2.2.*,!=2.3.0,<3.0.0,>=1.31.5->google-api-python-client) (2.4.0)\n",
      "Requirement already satisfied: certifi>=2017.4.17 in ./.venv/lib/python3.12/site-packages (from requests<3.0.0,>=2.18.0->google-api-core!=2.0.*,!=2.1.*,!=2.2.*,!=2.3.0,<3.0.0,>=1.31.5->google-api-python-client) (2025.1.31)\n",
      "Note: you may need to restart the kernel to use updated packages.\n"
     ]
    }
   ],
   "source": [
    "%pip uninstall -qqy jupyterlab  # Remove unused conflicting packages\n",
    "%pip install -U -q \"google-genai==1.7.0\"\n",
    "%pip install faker\n",
    "%pip install google-api-python-client"
   ]
  },
  {
   "cell_type": "markdown",
   "id": "e5dfd67f",
   "metadata": {
    "papermill": {
     "duration": 0.004127,
     "end_time": "2025-04-18T05:13:06.627006",
     "exception": false,
     "start_time": "2025-04-18T05:13:06.622879",
     "status": "completed"
    },
    "tags": []
   },
   "source": [
    "Do all the neccessary imports to declutter code below. Also verify genai is being imported correctly."
   ]
  },
  {
   "cell_type": "code",
   "execution_count": 2,
   "id": "9608aaa2",
   "metadata": {
    "execution": {
     "iopub.execute_input": "2025-04-18T05:13:06.637638Z",
     "iopub.status.busy": "2025-04-18T05:13:06.636670Z",
     "iopub.status.idle": "2025-04-18T05:13:08.264483Z",
     "shell.execute_reply": "2025-04-18T05:13:08.263120Z"
    },
    "papermill": {
     "duration": 1.634866,
     "end_time": "2025-04-18T05:13:08.266117",
     "exception": false,
     "start_time": "2025-04-18T05:13:06.631251",
     "status": "completed"
    },
    "tags": []
   },
   "outputs": [
    {
     "name": "stdout",
     "output_type": "stream",
     "text": [
      "1.7.0\n"
     ]
    }
   ],
   "source": [
    "import sqlite3\n",
    "import random\n",
    "from faker import Faker\n",
    "from google import genai\n",
    "from google.genai import types\n",
    "from google.api_core import retry\n",
    "from typing import Final\n",
    "from IPython.display import Markdown, display\n",
    "from pprint import pprint\n",
    "print(genai.__version__)"
   ]
  },
  {
   "cell_type": "markdown",
   "id": "2bd2a5d4",
   "metadata": {},
   "source": [
    "Set up `GOOGLE_API_KEY` for both Kaggle and local development."
   ]
  },
  {
   "cell_type": "code",
   "execution_count": 3,
   "id": "2986da7e",
   "metadata": {},
   "outputs": [],
   "source": [
    "import os\n",
    "from dotenv import load_dotenv\n",
    "\n",
    "try:\n",
    "    from kaggle_secrets import UserSecretsClient\n",
    "    IS_KAGGLE = True\n",
    "except ImportError:\n",
    "    IS_KAGGLE = False\n",
    "\n",
    "# Load environment variables from .env file for local setup\n",
    "if not IS_KAGGLE:\n",
    "    load_dotenv()\n",
    "\n",
    "# Fetch the Google API key\n",
    "if IS_KAGGLE:\n",
    "    GOOGLE_API_KEY = UserSecretsClient().get_secret(\"GOOGLE_API_KEY\")\n",
    "else:\n",
    "    GOOGLE_API_KEY = os.getenv(\"GOOGLE_API_KEY\")\n",
    "\n",
    "if not GOOGLE_API_KEY:\n",
    "    raise ValueError(\"Google API key not found. Please set it in the appropriate environment.\")"
   ]
  },
  {
   "cell_type": "code",
   "execution_count": 4,
   "id": "d63a5ea7",
   "metadata": {
    "execution": {
     "iopub.execute_input": "2025-04-18T05:13:08.284529Z",
     "iopub.status.busy": "2025-04-18T05:13:08.284049Z",
     "iopub.status.idle": "2025-04-18T05:13:08.443751Z",
     "shell.execute_reply": "2025-04-18T05:13:08.443052Z"
    },
    "papermill": {
     "duration": 0.166477,
     "end_time": "2025-04-18T05:13:08.445296",
     "exception": false,
     "start_time": "2025-04-18T05:13:08.278819",
     "status": "completed"
    },
    "tags": []
   },
   "outputs": [],
   "source": [
    "NUM_BOOKS: Final[int] = 30"
   ]
  },
  {
   "cell_type": "code",
   "execution_count": 5,
   "id": "b743fc60",
   "metadata": {
    "execution": {
     "iopub.execute_input": "2025-04-18T05:13:08.455299Z",
     "iopub.status.busy": "2025-04-18T05:13:08.454998Z",
     "iopub.status.idle": "2025-04-18T05:13:08.459899Z",
     "shell.execute_reply": "2025-04-18T05:13:08.459188Z"
    },
    "papermill": {
     "duration": 0.011495,
     "end_time": "2025-04-18T05:13:08.461255",
     "exception": false,
     "start_time": "2025-04-18T05:13:08.449760",
     "status": "completed"
    },
    "tags": []
   },
   "outputs": [],
   "source": [
    "# Define a retry policy. The model might make multiple consecutive calls automatically\n",
    "# for a complex query, this ensures the client retries if it hits quota limits.\n",
    "is_retriable = lambda e: (isinstance(e, genai.errors.APIError) and e.code in {429, 503})\n",
    "\n",
    "if not hasattr(genai.models.Models.generate_content, '__wrapped__'):\n",
    "  genai.models.Models.generate_content = retry.Retry(\n",
    "      predicate=is_retriable)(genai.models.Models.generate_content)"
   ]
  },
  {
   "cell_type": "code",
   "execution_count": 6,
   "id": "8a9e06db",
   "metadata": {
    "execution": {
     "iopub.execute_input": "2025-04-18T05:13:08.471088Z",
     "iopub.status.busy": "2025-04-18T05:13:08.470760Z",
     "iopub.status.idle": "2025-04-18T05:13:08.475173Z",
     "shell.execute_reply": "2025-04-18T05:13:08.474295Z"
    },
    "papermill": {
     "duration": 0.010882,
     "end_time": "2025-04-18T05:13:08.476590",
     "exception": false,
     "start_time": "2025-04-18T05:13:08.465708",
     "status": "completed"
    },
    "tags": []
   },
   "outputs": [],
   "source": [
    "#SYSTEM_INSTRUCTION: \"You are Shelfie, a library chatbot facilitating book borrowing through this chat interface. Your knowledge encompasses all books available in our library, including detailed understanding of plots, characters, themes, and precise recall of passages with corresponding page and book information. You can also provide a rating out of 5 for each book. When a requested book is unavailable, offer recommendations for highly-rated alternatives within our current inventory.\""
   ]
  },
  {
   "cell_type": "code",
   "execution_count": 7,
   "id": "977a8c78",
   "metadata": {
    "execution": {
     "iopub.execute_input": "2025-04-18T05:13:08.486569Z",
     "iopub.status.busy": "2025-04-18T05:13:08.486122Z",
     "iopub.status.idle": "2025-04-18T05:13:08.490676Z",
     "shell.execute_reply": "2025-04-18T05:13:08.489816Z"
    },
    "papermill": {
     "duration": 0.010997,
     "end_time": "2025-04-18T05:13:08.492067",
     "exception": false,
     "start_time": "2025-04-18T05:13:08.481070",
     "status": "completed"
    },
    "tags": []
   },
   "outputs": [],
   "source": [
    "# Remove existing database file (if it exists)\n",
    "db_file = \"library.db\"\n",
    "if os.path.exists(db_file):\n",
    "    os.remove(db_file)"
   ]
  },
  {
   "cell_type": "code",
   "execution_count": 8,
   "id": "a9e6d42a",
   "metadata": {
    "execution": {
     "iopub.execute_input": "2025-04-18T05:13:08.502190Z",
     "iopub.status.busy": "2025-04-18T05:13:08.501394Z",
     "iopub.status.idle": "2025-04-18T05:13:08.506668Z",
     "shell.execute_reply": "2025-04-18T05:13:08.505868Z"
    },
    "papermill": {
     "duration": 0.01164,
     "end_time": "2025-04-18T05:13:08.508037",
     "exception": false,
     "start_time": "2025-04-18T05:13:08.496397",
     "status": "completed"
    },
    "tags": []
   },
   "outputs": [],
   "source": [
    "from dataclasses import dataclass\n",
    "\n",
    "@dataclass\n",
    "class Book:\n",
    "    name: str\n",
    "    genre: str\n",
    "    description: str\n",
    "    author: str"
   ]
  },
  {
   "cell_type": "code",
   "execution_count": 9,
   "id": "5bda3346",
   "metadata": {
    "execution": {
     "iopub.execute_input": "2025-04-18T05:13:08.518002Z",
     "iopub.status.busy": "2025-04-18T05:13:08.517654Z",
     "iopub.status.idle": "2025-04-18T05:13:08.526981Z",
     "shell.execute_reply": "2025-04-18T05:13:08.526249Z"
    },
    "papermill": {
     "duration": 0.016181,
     "end_time": "2025-04-18T05:13:08.528506",
     "exception": false,
     "start_time": "2025-04-18T05:13:08.512325",
     "status": "completed"
    },
    "tags": []
   },
   "outputs": [],
   "source": [
    "def generate_books_list(num_books: int) -> list[Book]:\n",
    "    \"\"\"\n",
    "    Asks Gemini to create a list of\n",
    "    \n",
    "    return: A list of Book objects.\n",
    "    \"\"\"\n",
    "    prompt = \"\"\"\n",
    "    Generate a list of exactly {num_books} books of any genre. For each book, provide the name, genre, a description of about 1000 characters, and the author.\n",
    "    Do not include the author's name in the description. Return the result as a JSON array of book objects with the keys: \"name\", \"genre\", \"description\", and \"author\".\n",
    "    Examples of a \"name\", \"genre\", \"description\", and \"author\" are provided below:\n",
    "    1) \"To Kill a Mockingbird\", \"Fiction\", \"A gripping tale set in the racially charged American South, exploring themes of justice, morality, and the loss of innocence. Perfect for readers who appreciate profound social commentary interwoven with compelling storytelling.\", \"Harper Lee\"\n",
    "    2) \"1984\", \"Dystopian\", \"A chilling vision of a totalitarian future where surveillance and control pervade every aspect of life. Ideal for fans of thought-provoking and cautionary tales.\", \"George Orwell\"\n",
    "    \"\"\"\n",
    "\n",
    "    if num_books < 1:\n",
    "        raise Exception(\"Need to generate at least one Book.\")\n",
    "    \n",
    "    prompt = prompt.format(num_books = num_books)\n",
    "    client = genai.Client(api_key=GOOGLE_API_KEY)\n",
    "    \n",
    "    structured_output_config = types.GenerateContentConfig(\n",
    "        response_mime_type=\"application/json\",\n",
    "        response_schema={\n",
    "            \"type\": \"array\",\n",
    "            \"items\": {\n",
    "                \"type\": \"object\",\n",
    "                \"properties\": {\n",
    "                    \"name\": {\"type\": \"string\"},\n",
    "                    \"genre\": {\"type\": \"string\"},\n",
    "                    \"description\": {\"type\": \"string\"},\n",
    "                    \"author\": {\"type\": \"string\"}\n",
    "                },\n",
    "                \"required\": [\"name\", \"genre\", \"description\", \"author\"]\n",
    "            }\n",
    "        },\n",
    "        temperature=0.3\n",
    "    )\n",
    "\n",
    "    response_len = 0\n",
    "\n",
    "    while response_len != num_books:\n",
    "        chat = client.chats.create(model='gemini-2.0-flash')\n",
    "        response = chat.send_message(\n",
    "          message=prompt,\n",
    "          config=structured_output_config,\n",
    "        )\n",
    "        structured_eval = response.parsed\n",
    "        book_objects = [Book(**book) for book in response.parsed]\n",
    "        response_len = len(book_objects)\n",
    "    \n",
    "    return book_objects"
   ]
  },
  {
   "cell_type": "markdown",
   "id": "34bc45bf",
   "metadata": {
    "papermill": {
     "duration": 0.003965,
     "end_time": "2025-04-18T05:13:08.536845",
     "exception": false,
     "start_time": "2025-04-18T05:13:08.532880",
     "status": "completed"
    },
    "tags": []
   },
   "source": [
    "Do a basic check to see that an exception is raised when the user provides `num_books` < 1."
   ]
  },
  {
   "cell_type": "code",
   "execution_count": 10,
   "id": "3c6b2c75",
   "metadata": {
    "execution": {
     "iopub.execute_input": "2025-04-18T05:13:08.546312Z",
     "iopub.status.busy": "2025-04-18T05:13:08.546041Z",
     "iopub.status.idle": "2025-04-18T05:13:08.550949Z",
     "shell.execute_reply": "2025-04-18T05:13:08.550062Z"
    },
    "papermill": {
     "duration": 0.011377,
     "end_time": "2025-04-18T05:13:08.552387",
     "exception": false,
     "start_time": "2025-04-18T05:13:08.541010",
     "status": "completed"
    },
    "tags": []
   },
   "outputs": [
    {
     "name": "stdout",
     "output_type": "stream",
     "text": [
      "Expected error when calling generate_books_list with 0 books.\n",
      "\n",
      "\n"
     ]
    }
   ],
   "source": [
    "try:\n",
    "    generate_books_list(0)\n",
    "except:\n",
    "    print(\"Expected error when calling generate_books_list with 0 books.\\n\\n\")"
   ]
  },
  {
   "cell_type": "markdown",
   "id": "01e736cf",
   "metadata": {
    "papermill": {
     "duration": 0.004087,
     "end_time": "2025-04-18T05:13:08.561187",
     "exception": false,
     "start_time": "2025-04-18T05:13:08.557100",
     "status": "completed"
    },
    "tags": []
   },
   "source": [
    "Call `generate_books_list` with `NUM_BOOKS`. The time it takes to run the line of code is non-deterministic. This is the number of books produced by gemini is not consitent."
   ]
  },
  {
   "cell_type": "code",
   "execution_count": 11,
   "id": "2e751a14",
   "metadata": {
    "execution": {
     "iopub.execute_input": "2025-04-18T05:13:08.570820Z",
     "iopub.status.busy": "2025-04-18T05:13:08.570502Z",
     "iopub.status.idle": "2025-04-18T05:13:27.768018Z",
     "shell.execute_reply": "2025-04-18T05:13:27.767247Z"
    },
    "papermill": {
     "duration": 19.204066,
     "end_time": "2025-04-18T05:13:27.769558",
     "exception": false,
     "start_time": "2025-04-18T05:13:08.565492",
     "status": "completed"
    },
    "tags": []
   },
   "outputs": [],
   "source": [
    "books_list = generate_books_list(NUM_BOOKS)"
   ]
  },
  {
   "cell_type": "markdown",
   "id": "724d42fb",
   "metadata": {
    "papermill": {
     "duration": 0.004093,
     "end_time": "2025-04-18T05:13:27.778686",
     "exception": false,
     "start_time": "2025-04-18T05:13:27.774593",
     "status": "completed"
    },
    "tags": []
   },
   "source": [
    "Do some validation on the generated output. Verify if the generated list is indeed of length 30. If it's not try running it again. Print the top 5 for inspection."
   ]
  },
  {
   "cell_type": "code",
   "execution_count": 12,
   "id": "f4815441",
   "metadata": {
    "execution": {
     "iopub.execute_input": "2025-04-18T05:13:27.788289Z",
     "iopub.status.busy": "2025-04-18T05:13:27.787985Z",
     "iopub.status.idle": "2025-04-18T05:13:27.794250Z",
     "shell.execute_reply": "2025-04-18T05:13:27.793147Z"
    },
    "papermill": {
     "duration": 0.012869,
     "end_time": "2025-04-18T05:13:27.795804",
     "exception": false,
     "start_time": "2025-04-18T05:13:27.782935",
     "status": "completed"
    },
    "tags": []
   },
   "outputs": [
    {
     "name": "stdout",
     "output_type": "stream",
     "text": [
      "[Book(name='The Secret Garden',\n",
      "      genre=\"Children's Literature\",\n",
      "      description='A young girl, orphaned and neglected, discovers a hidden '\n",
      "                  \"garden on her uncle's estate. Through tending to the garden \"\n",
      "                  'and forming friendships, she experiences healing and '\n",
      "                  'transformation. This classic explores themes of renewal, '\n",
      "                  'friendship, and the power of nature to heal emotional '\n",
      "                  \"wounds. It's a heartwarming story that appeals to readers \"\n",
      "                  'of all ages, reminding us of the beauty and wonder that can '\n",
      "                  'be found in the simplest of things. The narrative '\n",
      "                  'emphasizes the importance of connection, both with nature '\n",
      "                  'and with others, in overcoming adversity and finding joy in '\n",
      "                  'life. The garden serves as a metaphor for the potential for '\n",
      "                  'growth and change that lies within each of us, waiting to '\n",
      "                  'be nurtured and brought to life. The characters are richly '\n",
      "                  'drawn, and their interactions are filled with warmth and '\n",
      "                  'authenticity. The story is a celebration of the human '\n",
      "                  'spirit and its capacity for resilience and hope. It is a '\n",
      "                  'timeless tale that continues to resonate with readers '\n",
      "                  'today, offering a message of optimism and the enduring '\n",
      "                  'power of love and friendship. The setting is vividly '\n",
      "                  'described, transporting readers to the lush and vibrant '\n",
      "                  'world of the secret garden, where anything is possible.',\n",
      "      author='Frances Hodgson Burnett'),\n",
      " Book(name='Pride and Prejudice',\n",
      "      genre='Romance',\n",
      "      description='Set in the English countryside, this novel follows the '\n",
      "                  'witty and independent Elizabeth Bennet as she navigates the '\n",
      "                  'social complexities of her time. She encounters the proud '\n",
      "                  'and aloof Mr. Darcy, leading to a clash of personalities '\n",
      "                  'and a series of misunderstandings. As they overcome their '\n",
      "                  'initial prejudices, they discover a deeper connection and '\n",
      "                  'challenge societal expectations. The story explores themes '\n",
      "                  'of love, class, and personal growth, offering a sharp '\n",
      "                  'critique of social conventions. The characters are richly '\n",
      "                  'developed, and their interactions are filled with humor and '\n",
      "                  'wit. The dialogue is sparkling and insightful, reflecting '\n",
      "                  'the social dynamics of the era. The novel is a timeless '\n",
      "                  'classic that continues to captivate readers with its '\n",
      "                  'engaging plot and memorable characters. It is a celebration '\n",
      "                  'of intelligence, independence, and the power of love to '\n",
      "                  'overcome obstacles. The setting is beautifully depicted, '\n",
      "                  'providing a glimpse into the lives of the landed gentry in '\n",
      "                  '19th-century England. The story is a testament to the '\n",
      "                  'enduring appeal of romance and the importance of staying '\n",
      "                  'true to oneself.',\n",
      "      author='Jane Austen'),\n",
      " Book(name='The Hobbit',\n",
      "      genre='Fantasy',\n",
      "      description='A hobbit is thrust into an epic adventure when he joins a '\n",
      "                  'company of dwarves on a quest to reclaim their treasure '\n",
      "                  'from a dragon. Along the way, he encounters trolls, '\n",
      "                  'goblins, and other fantastical creatures. He discovers '\n",
      "                  'courage and resourcefulness he never knew he possessed. The '\n",
      "                  'journey tests his limits and transforms him from a simple '\n",
      "                  'homebody into a hero. The story is filled with magic, '\n",
      "                  'wonder, and danger, offering a thrilling escape into a '\n",
      "                  'world of imagination. The characters are memorable and '\n",
      "                  'endearing, each with their own unique strengths and '\n",
      "                  'weaknesses. The narrative is engaging and fast-paced, '\n",
      "                  'keeping readers on the edge of their seats. It is a classic '\n",
      "                  'tale of good versus evil, with a message of hope and the '\n",
      "                  'importance of friendship. The setting is richly detailed, '\n",
      "                  'creating a vivid and immersive experience for the reader. '\n",
      "                  'The story is a celebration of adventure and the power of '\n",
      "                  'ordinary individuals to achieve extraordinary things. It is '\n",
      "                  'a timeless classic that continues to inspire readers of all '\n",
      "                  'ages.',\n",
      "      author='J.R.R. Tolkien'),\n",
      " Book(name='The Da Vinci Code',\n",
      "      genre='Mystery',\n",
      "      description='A symbologist is drawn into a complex conspiracy when he is '\n",
      "                  'called to investigate a murder at the Louvre Museum. He '\n",
      "                  'uncovers hidden symbols and clues that lead him on a '\n",
      "                  'thrilling chase across Europe. He must decipher ancient '\n",
      "                  'secrets to prevent a powerful organization from suppressing '\n",
      "                  'a truth that could shake the foundations of Christianity. '\n",
      "                  'The story is filled with suspense, intrigue, and historical '\n",
      "                  'references, offering a captivating blend of fact and '\n",
      "                  'fiction. The characters are complex and intriguing, each '\n",
      "                  'with their own motivations and secrets. The narrative is '\n",
      "                  'fast-paced and engaging, keeping readers guessing until the '\n",
      "                  'very end. It is a thought-provoking thriller that explores '\n",
      "                  'themes of religion, history, and power. The setting is '\n",
      "                  'vividly described, transporting readers to iconic locations '\n",
      "                  'around the world. The story is a testament to the power of '\n",
      "                  'knowledge and the importance of questioning established '\n",
      "                  'beliefs. It is a modern classic that has captivated readers '\n",
      "                  'worldwide.',\n",
      "      author='Dan Brown'),\n",
      " Book(name='The Hunger Games',\n",
      "      genre='Young Adult Dystopian',\n",
      "      description='In a dystopian future, a young woman volunteers as tribute '\n",
      "                  'to protect her younger sister in a televised battle to the '\n",
      "                  'death. She must use her wits and skills to survive against '\n",
      "                  'other tributes in a brutal arena. She becomes a symbol of '\n",
      "                  'hope and rebellion against a corrupt government. The story '\n",
      "                  'is filled with action, suspense, and social commentary, '\n",
      "                  'offering a gripping and thought-provoking read. The '\n",
      "                  'characters are strong and resilient, each with their own '\n",
      "                  'struggles and motivations. The narrative is fast-paced and '\n",
      "                  'engaging, keeping readers on the edge of their seats. It is '\n",
      "                  'a powerful exploration of themes of survival, sacrifice, '\n",
      "                  'and the fight for freedom. The setting is vividly '\n",
      "                  'described, creating a chilling and immersive experience for '\n",
      "                  'the reader. The story is a testament to the strength of the '\n",
      "                  'human spirit and the importance of standing up for what is '\n",
      "                  'right.',\n",
      "      author='Suzanne Collins')]\n"
     ]
    }
   ],
   "source": [
    "assert(len(books_list) == NUM_BOOKS)\n",
    "assert(all([True for book in books_list if type(book) == Book]))\n",
    "pprint(books_list[:5])"
   ]
  },
  {
   "cell_type": "code",
   "execution_count": 15,
   "id": "b5da5a84",
   "metadata": {
    "execution": {
     "iopub.execute_input": "2025-04-18T05:13:27.806341Z",
     "iopub.status.busy": "2025-04-18T05:13:27.806058Z",
     "iopub.status.idle": "2025-04-18T05:13:27.941463Z",
     "shell.execute_reply": "2025-04-18T05:13:27.940585Z"
    },
    "papermill": {
     "duration": 0.142574,
     "end_time": "2025-04-18T05:13:27.942910",
     "exception": false,
     "start_time": "2025-04-18T05:13:27.800336",
     "status": "completed"
    },
    "tags": []
   },
   "outputs": [
    {
     "name": "stdout",
     "output_type": "stream",
     "text": [
      "Sample data has been inserted into the SQLite database.\n"
     ]
    },
    {
     "name": "stderr",
     "output_type": "stream",
     "text": [
      "/tmp/ipykernel_15496/4009125864.py:96: DeprecationWarning: The default date adapter is deprecated as of Python 3.12; see the sqlite3 documentation for suggested replacement recipes\n",
      "  cursor.execute(\"\"\"\n",
      "/tmp/ipykernel_15496/4009125864.py:103: DeprecationWarning: The default date adapter is deprecated as of Python 3.12; see the sqlite3 documentation for suggested replacement recipes\n",
      "  cursor.execute(\"\"\"\n",
      "/tmp/ipykernel_15496/4009125864.py:110: DeprecationWarning: The default date adapter is deprecated as of Python 3.12; see the sqlite3 documentation for suggested replacement recipes\n",
      "  cursor.execute(\"\"\"\n"
     ]
    }
   ],
   "source": [
    "# Initialize Faker instance\n",
    "fake = Faker()\n",
    "\n",
    "# Create SQLite database and tables\n",
    "conn = sqlite3.connect(\"library.db\")\n",
    "cursor = conn.cursor()\n",
    "\n",
    "cursor.execute(\"\"\"\n",
    "CREATE TABLE IF NOT EXISTS Users (\n",
    "    user_id INTEGER PRIMARY KEY,\n",
    "    name TEXT,\n",
    "    email TEXT,\n",
    "    password_hash TEXT\n",
    ")\n",
    "\"\"\")\n",
    "\n",
    "cursor.execute(\"\"\"\n",
    "CREATE TABLE IF NOT EXISTS Book (\n",
    "    book_id INTEGER PRIMARY KEY,\n",
    "    name TEXT,\n",
    "    genre TEXT,\n",
    "    description TEXT,\n",
    "    author TEXT\n",
    ")\n",
    "\"\"\")\n",
    "\n",
    "cursor.execute(\"\"\"\n",
    "CREATE TABLE IF NOT EXISTS Stock (\n",
    "    stock_id INTEGER PRIMARY KEY AUTOINCREMENT,\n",
    "    book_id INTEGER,\n",
    "    FOREIGN KEY (book_id) REFERENCES Book(book_id)\n",
    ")\n",
    "\"\"\")\n",
    "\n",
    "cursor.execute(\"\"\"\n",
    "CREATE TABLE IF NOT EXISTS BorrowingHistory (\n",
    "    entry_id INTEGER PRIMARY KEY,\n",
    "    user_id INTEGER,\n",
    "    stock_id INTEGER,\n",
    "    borrowed_on DATE,\n",
    "    returned_on DATE,\n",
    "    due_by DATE,\n",
    "    FOREIGN KEY (user_id) REFERENCES Users(user_id),\n",
    "    FOREIGN KEY (stock_id) REFERENCES Stock(stock_id)\n",
    ")\n",
    "\"\"\")\n",
    "\n",
    "cursor.execute(\"\"\"\n",
    "CREATE TABLE IF NOT EXISTS Reservations (\n",
    "    reservation_id INTEGER PRIMARY KEY,\n",
    "    user_id INTEGER,\n",
    "    book_id INTEGER,\n",
    "    status TEXT,\n",
    "    last_updated DATE,\n",
    "    reserved_on DATE,\n",
    "    FOREIGN KEY (user_id) REFERENCES Users(user_id),\n",
    "    FOREIGN KEY (book_id) REFERENCES Book(book_id)\n",
    ")\n",
    "\"\"\")\n",
    "\n",
    "cursor.execute(\"\"\"\n",
    "CREATE TABLE IF NOT EXISTS Waitlist (\n",
    "    book_id INTEGER,\n",
    "    waitlisted_on DATE,\n",
    "    FOREIGN KEY (book_id) REFERENCES Book(book_id)\n",
    ")\n",
    "\"\"\")\n",
    "\n",
    "# Generate and insert sample data for Users table\n",
    "for user_id in range(1, 6):\n",
    "    cursor.execute(\"\"\"\n",
    "    INSERT INTO Users (user_id, name, email, password_hash)\n",
    "    VALUES (?, ?, ?, ?)\n",
    "    \"\"\", (user_id, fake.name(), fake.email(), fake.sha256()))\n",
    "\n",
    "# Insert real books into Book table\n",
    "for book_id, book in enumerate(books_list, start=1):\n",
    "    cursor.execute(\"\"\"\n",
    "    INSERT INTO Book (book_id, name, genre, description, author)\n",
    "    VALUES (?, ?, ?, ?, ?)\n",
    "    \"\"\", (book_id, book.name, book.genre, book.description, book.author))\n",
    "\n",
    "# Generate and insert sample data for Stock table\n",
    "for book_id in range(1, 31):\n",
    "    num_books = random.randint(3, 5)\n",
    "    j = 0\n",
    "    while (j < num_books):\n",
    "        cursor.execute(\"\"\"\n",
    "        INSERT INTO Stock (book_id)\n",
    "        VALUES (?)\n",
    "        \"\"\", (book_id, ))\n",
    "        j += 1\n",
    "\n",
    "# Generate and insert sample data for BorrowingHistory table\n",
    "for entry_id in range(1, 21):\n",
    "    cursor.execute(\"\"\"\n",
    "    INSERT INTO BorrowingHistory (entry_id, user_id, stock_id, borrowed_on, due_by)\n",
    "    VALUES (?, ?, ?, ?, ?)\n",
    "    \"\"\", (entry_id, random.randint(1, 5), random.randint(1, 50), fake.date_between(start_date=\"-1y\", end_date=\"-1d\"), fake.date_between(start_date=\"+1d\", end_date=\"+1y\")))\n",
    "\n",
    "# Generate and insert sample data for Reservations table\n",
    "for reservation_id in range(1, 21):\n",
    "    cursor.execute(\"\"\"\n",
    "    INSERT INTO Reservations (reservation_id, user_id, book_id, status, last_updated, reserved_on)\n",
    "    VALUES (?, ?, ?, ?, ?, ?)\n",
    "    \"\"\", (reservation_id, random.randint(1, 5), random.randint(1, 50), random.choice([\"Active\", \"Fulfilled\", \"Expired\"]), fake.date_between(start_date=\"-1y\", end_date=\"today\"), fake.date_between(start_date=\"-1y\", end_date=\"today\")))\n",
    "\n",
    "# Generate and insert sample data for Waitlist table\n",
    "for book_id in range(1, 6):\n",
    "    cursor.execute(\"\"\"\n",
    "    INSERT INTO Waitlist (book_id, waitlisted_on)\n",
    "    VALUES (?, ?)\n",
    "    \"\"\", (book_id, fake.date_between(start_date=\"-1y\", end_date=\"today\")))\n",
    "\n",
    "# Commit changes and close connection\n",
    "conn.commit()\n",
    "conn.close()\n",
    "\n",
    "print(\"Sample data has been inserted into the SQLite database.\")\n"
   ]
  },
  {
   "cell_type": "code",
   "execution_count": 16,
   "id": "cf50c436",
   "metadata": {
    "execution": {
     "iopub.execute_input": "2025-04-18T05:13:27.953390Z",
     "iopub.status.busy": "2025-04-18T05:13:27.952704Z",
     "iopub.status.idle": "2025-04-18T05:13:27.962488Z",
     "shell.execute_reply": "2025-04-18T05:13:27.961698Z"
    },
    "papermill": {
     "duration": 0.016679,
     "end_time": "2025-04-18T05:13:27.964173",
     "exception": false,
     "start_time": "2025-04-18T05:13:27.947494",
     "status": "completed"
    },
    "tags": []
   },
   "outputs": [
    {
     "name": "stdout",
     "output_type": "stream",
     "text": [
      "Users:\n",
      "(1, 'Christina Simmons', 'anthonysmith@example.net', '5007ca9d1233fffbd5e64f732469ebcc75fb0791ddb15bffaf4d61696cbe18b1')\n",
      "(2, 'Amy Young', 'zhangcassandra@example.org', '4ad548a1f572356f4f2bfb6747dd8f614fd5b66456740c240d5b7c3456e7a79b')\n",
      "(3, 'Kathleen Hess', 'bianca51@example.com', 'fe5999c9d6d946cd30bc381e38334911814e005ad496eabb81041c4448f60d52')\n",
      "(4, 'Ashley Summers', 'deborahwilliams@example.net', 'a061c0056bba0ea4628ee63ecda2f5a1d78b32870e6b64c4f12b1ce37ca4164c')\n",
      "(5, 'Lee Waters', 'meganchapman@example.org', '09435656715387b0fef921650040b1b037ab55c7a205a2db53035e666815928f')\n",
      "\n",
      "Books:\n",
      "(1, 'The Secret Garden', \"Children's Literature\", \"A young girl, orphaned and neglected, discovers a hidden garden on her uncle's estate. Through tending to the garden and forming friendships, she experiences healing and transformation. This classic explores themes of renewal, friendship, and the power of nature to heal emotional wounds. It's a heartwarming story that appeals to readers of all ages, reminding us of the beauty and wonder that can be found in the simplest of things. The narrative emphasizes the importance of connection, both with nature and with others, in overcoming adversity and finding joy in life. The garden serves as a metaphor for the potential for growth and change that lies within each of us, waiting to be nurtured and brought to life. The characters are richly drawn, and their interactions are filled with warmth and authenticity. The story is a celebration of the human spirit and its capacity for resilience and hope. It is a timeless tale that continues to resonate with readers today, offering a message of optimism and the enduring power of love and friendship. The setting is vividly described, transporting readers to the lush and vibrant world of the secret garden, where anything is possible.\", 'Frances Hodgson Burnett')\n",
      "(2, 'Pride and Prejudice', 'Romance', 'Set in the English countryside, this novel follows the witty and independent Elizabeth Bennet as she navigates the social complexities of her time. She encounters the proud and aloof Mr. Darcy, leading to a clash of personalities and a series of misunderstandings. As they overcome their initial prejudices, they discover a deeper connection and challenge societal expectations. The story explores themes of love, class, and personal growth, offering a sharp critique of social conventions. The characters are richly developed, and their interactions are filled with humor and wit. The dialogue is sparkling and insightful, reflecting the social dynamics of the era. The novel is a timeless classic that continues to captivate readers with its engaging plot and memorable characters. It is a celebration of intelligence, independence, and the power of love to overcome obstacles. The setting is beautifully depicted, providing a glimpse into the lives of the landed gentry in 19th-century England. The story is a testament to the enduring appeal of romance and the importance of staying true to oneself.', 'Jane Austen')\n",
      "(3, 'The Hobbit', 'Fantasy', 'A hobbit is thrust into an epic adventure when he joins a company of dwarves on a quest to reclaim their treasure from a dragon. Along the way, he encounters trolls, goblins, and other fantastical creatures. He discovers courage and resourcefulness he never knew he possessed. The journey tests his limits and transforms him from a simple homebody into a hero. The story is filled with magic, wonder, and danger, offering a thrilling escape into a world of imagination. The characters are memorable and endearing, each with their own unique strengths and weaknesses. The narrative is engaging and fast-paced, keeping readers on the edge of their seats. It is a classic tale of good versus evil, with a message of hope and the importance of friendship. The setting is richly detailed, creating a vivid and immersive experience for the reader. The story is a celebration of adventure and the power of ordinary individuals to achieve extraordinary things. It is a timeless classic that continues to inspire readers of all ages.', 'J.R.R. Tolkien')\n",
      "(4, 'The Da Vinci Code', 'Mystery', 'A symbologist is drawn into a complex conspiracy when he is called to investigate a murder at the Louvre Museum. He uncovers hidden symbols and clues that lead him on a thrilling chase across Europe. He must decipher ancient secrets to prevent a powerful organization from suppressing a truth that could shake the foundations of Christianity. The story is filled with suspense, intrigue, and historical references, offering a captivating blend of fact and fiction. The characters are complex and intriguing, each with their own motivations and secrets. The narrative is fast-paced and engaging, keeping readers guessing until the very end. It is a thought-provoking thriller that explores themes of religion, history, and power. The setting is vividly described, transporting readers to iconic locations around the world. The story is a testament to the power of knowledge and the importance of questioning established beliefs. It is a modern classic that has captivated readers worldwide.', 'Dan Brown')\n",
      "(5, 'The Hunger Games', 'Young Adult Dystopian', 'In a dystopian future, a young woman volunteers as tribute to protect her younger sister in a televised battle to the death. She must use her wits and skills to survive against other tributes in a brutal arena. She becomes a symbol of hope and rebellion against a corrupt government. The story is filled with action, suspense, and social commentary, offering a gripping and thought-provoking read. The characters are strong and resilient, each with their own struggles and motivations. The narrative is fast-paced and engaging, keeping readers on the edge of their seats. It is a powerful exploration of themes of survival, sacrifice, and the fight for freedom. The setting is vividly described, creating a chilling and immersive experience for the reader. The story is a testament to the strength of the human spirit and the importance of standing up for what is right.', 'Suzanne Collins')\n",
      "(6, 'The Girl with the Dragon Tattoo', 'Mystery Thriller', 'A journalist teams up with a troubled but brilliant hacker to investigate the disappearance of a young woman from a wealthy family. They uncover a dark history of secrets, lies, and violence. They must confront dangerous individuals and unravel a complex web of deceit. The story is filled with suspense, intrigue, and shocking revelations, offering a thrilling and unforgettable read. The characters are complex and flawed, each with their own demons and motivations. The narrative is gripping and atmospheric, creating a sense of unease and suspense. It is a dark and disturbing exploration of themes of abuse, power, and justice. The setting is vividly described, creating a bleak and unsettling atmosphere. The story is a testament to the power of perseverance and the importance of seeking truth.', 'Stieg Larsson')\n",
      "(7, 'Life of Pi', 'Adventure', 'A young man is the sole survivor of a shipwreck and finds himself adrift in a lifeboat with a Bengal tiger. They must learn to coexist and survive together in the vast and unforgiving ocean. Their journey is a testament to the power of hope, resilience, and the human spirit. The story is filled with adventure, wonder, and philosophical reflections, offering a captivating and thought-provoking read. The characters are unique and memorable, each with their own strengths and weaknesses. The narrative is lyrical and evocative, creating a sense of awe and wonder. It is a profound exploration of themes of faith, survival, and the nature of reality. The setting is vividly described, creating a sense of vastness and isolation. The story is a testament to the power of imagination and the importance of believing in the impossible.', 'Yann Martel')\n",
      "(8, 'The Alchemist', 'Philosophical Fiction', \"A shepherd boy embarks on a journey to fulfill his personal legend, guided by omens and encounters with wise individuals. He learns to listen to his heart, follow his dreams, and embrace the unknown. His journey is a metaphor for the pursuit of purpose and the importance of self-discovery. The story is filled with wisdom, inspiration, and spiritual insights, offering a transformative and uplifting read. The characters are symbolic and represent different aspects of the human experience. The narrative is simple yet profound, conveying deep truths about life and the universe. It is a timeless tale of self-discovery, perseverance, and the power of following one's dreams. The setting is exotic and enchanting, creating a sense of wonder and possibility. The story is a testament to the importance of listening to one's intuition and embracing the journey of life.\", 'Paulo Coelho')\n",
      "(9, 'One Hundred Years of Solitude', 'Magical Realism', 'This multi-generational saga tells the story of the Buendía family and the rise and fall of their town, Macondo. The story is filled with magical realism, exploring themes of love, war, fate, and the cyclical nature of history. The characters are eccentric and memorable, each with their own unique destinies. The narrative is rich and complex, weaving together multiple storylines and perspectives. It is a masterpiece of Latin American literature, exploring themes of identity, memory, and the human condition. The setting is vividly described, creating a sense of both beauty and decay. The story is a testament to the power of storytelling and the enduring legacy of family and community.', 'Gabriel García Márquez')\n",
      "(10, 'To the Lighthouse', 'Modernist Literature', \"This novel explores the complexities of human relationships and the passage of time through the experiences of the Ramsay family. The story is divided into three parts, each offering a different perspective on the characters and their interactions. The narrative is introspective and stream-of-consciousness, delving into the inner thoughts and feelings of the characters. It is a masterpiece of modernist literature, exploring themes of memory, loss, and the search for meaning. The setting is a seaside house in Scotland, which serves as a backdrop for the family's dramas and reflections. The story is a testament to the power of observation and the importance of understanding the human heart.\", 'Virginia Woolf')\n",
      "(11, 'The Road', 'Post-Apocalyptic Fiction', 'In a post-apocalyptic world, a father and son journey across a desolate landscape, struggling to survive against all odds. They face starvation, violence, and the constant threat of death. Their love for each other is their only source of hope and strength. The story is bleak and harrowing, but also deeply moving and profound. The characters are stripped bare, revealing the essence of humanity in the face of unimaginable suffering. The narrative is spare and poetic, creating a sense of stark beauty in a world of ruin. It is a powerful exploration of themes of love, loss, and the will to survive. The setting is a wasteland, reflecting the devastation of the human spirit. The story is a testament to the enduring power of love and the importance of hope in the darkest of times.', 'Cormac McCarthy')\n",
      "(12, \"The Handmaid's Tale\", 'Dystopian Fiction', 'In a totalitarian regime, women are stripped of their rights and forced into sexual servitude to bear children for the ruling class. A handmaid recounts her experiences in this oppressive society, offering a chilling glimpse into a world where freedom and individuality are suppressed. The story is disturbing and thought-provoking, raising questions about power, gender, and the dangers of extremism. The characters are complex and compelling, each struggling to survive in their own way. The narrative is gripping and suspenseful, creating a sense of unease and dread. It is a powerful exploration of themes of oppression, resistance, and the importance of fighting for freedom. The setting is a stark and unsettling reflection of a society gone wrong. The story is a testament to the resilience of the human spirit and the importance of protecting human rights.', 'Margaret Atwood')\n",
      "(13, 'Brave New World', 'Dystopian Fiction', 'In a futuristic society, happiness is engineered through genetic engineering, social conditioning, and the use of a pleasure drug called Soma. A man who was raised outside of this system is brought into the World State and struggles to adapt to its artificiality. He questions the values of this society and seeks a more authentic way of life. The story is satirical and thought-provoking, exploring themes of happiness, freedom, and the dangers of technological control. The characters are complex and represent different aspects of human nature. The narrative is engaging and unsettling, creating a sense of unease and moral ambiguity. It is a powerful exploration of themes of individuality, conformity, and the pursuit of happiness. The setting is a sterile and artificial world, reflecting the dehumanizing effects of technology. The story is a testament to the importance of critical thinking and the need to question societal norms.', 'Aldous Huxley')\n",
      "(14, 'The Lord of the Rings', 'Fantasy', 'A hobbit is tasked with destroying a powerful ring that threatens to plunge the world into darkness. He embarks on a perilous journey with a fellowship of companions, facing dangers and challenges along the way. Their quest is a battle against evil and a testament to the power of courage, friendship, and sacrifice. The story is epic in scope and filled with magic, wonder, and adventure. The characters are iconic and memorable, each with their own strengths and weaknesses. The narrative is rich and immersive, creating a world that is both fantastical and believable. It is a classic tale of good versus evil, with a message of hope and the importance of standing up for what is right. The setting is richly detailed, creating a vivid and immersive experience for the reader. The story is a testament to the power of imagination and the enduring appeal of fantasy literature.', 'J.R.R. Tolkien')\n",
      "(15, 'Jane Eyre', 'Gothic Romance', 'An orphaned young woman overcomes adversity and finds love with a mysterious and brooding man. She faces challenges of social class, betrayal, and moral dilemmas. Her journey is a testament to her strength, independence, and unwavering spirit. The story is filled with romance, suspense, and gothic elements, creating a captivating and unforgettable read. The characters are complex and compelling, each with their own secrets and motivations. The narrative is passionate and evocative, creating a sense of atmosphere and emotion. It is a classic tale of love, loss, and the search for identity. The setting is a dark and atmospheric landscape, reflecting the inner turmoil of the characters. The story is a testament to the power of love and the importance of staying true to oneself.', 'Charlotte Brontë')\n",
      "(16, 'Wuthering Heights', 'Gothic Romance', 'A passionate and destructive love story unfolds between two individuals from different social classes. Their obsession with each other leads to tragedy and revenge, haunting the moors for generations. The story is filled with intense emotions, dark secrets, and supernatural elements, creating a chilling and unforgettable read. The characters are complex and flawed, driven by their passions and desires. The narrative is dramatic and atmospheric, creating a sense of foreboding and doom. It is a classic tale of love, loss, and the destructive power of obsession. The setting is a bleak and windswept landscape, reflecting the wild and untamed nature of the characters. The story is a testament to the enduring power of love and the consequences of unchecked passion.', 'Emily Brontë')\n",
      "(17, 'Moby Dick', 'Adventure', \"A captain is consumed by his obsession with hunting a white whale, leading his crew on a perilous voyage across the ocean. The story is a complex exploration of themes of revenge, obsession, and the power of nature. The characters are diverse and memorable, each with their own motivations and perspectives. The narrative is rich and symbolic, filled with literary allusions and philosophical reflections. It is a classic tale of adventure, obsession, and the human struggle against the forces of nature. The setting is the vast and unforgiving ocean, reflecting the immensity of the captain's obsession. The story is a testament to the power of the human spirit and the dangers of unchecked ambition.\", 'Herman Melville')\n",
      "(18, 'Crime and Punishment', 'Psychological Thriller', \"A impoverished student commits murder and grapples with the psychological consequences of his actions. He is tormented by guilt, paranoia, and the fear of being caught. The story is a deep exploration of morality, redemption, and the human psyche. The characters are complex and tormented, each struggling with their own inner demons. The narrative is intense and suspenseful, creating a sense of claustrophobia and dread. It is a classic tale of crime, punishment, and the search for meaning. The setting is a bleak and oppressive city, reflecting the protagonist's inner turmoil. The story is a testament to the power of conscience and the possibility of redemption.\", 'Fyodor Dostoevsky')\n",
      "(19, 'Anna Karenina', 'Tragedy', 'A married woman falls in love with a handsome officer and defies societal conventions to pursue her passion. Her affair leads to social ostracism, emotional turmoil, and ultimately, tragedy. The story is a complex exploration of love, marriage, and the constraints of society. The characters are complex and flawed, each struggling with their own desires and responsibilities. The narrative is rich and detailed, providing a glimpse into the lives of the Russian aristocracy. It is a classic tale of love, loss, and the consequences of defying social norms. The setting is a vibrant and opulent society, reflecting the beauty and the superficiality of the world. The story is a testament to the power of love and the tragic consequences of societal pressures.', 'Leo Tolstoy')\n",
      "(20, 'The Great Gatsby', 'Tragedy', 'A self-made millionaire throws lavish parties in the hopes of attracting the attention of his former lover. His pursuit of the American Dream leads to disillusionment, tragedy, and the realization that the past cannot be recreated. The story is a critique of wealth, class, and the illusion of the American Dream. The characters are complex and flawed, each searching for happiness and fulfillment. The narrative is lyrical and evocative, creating a sense of nostalgia and longing. It is a classic tale of love, loss, and the pursuit of an unattainable ideal. The setting is a glamorous and decadent society, reflecting the excesses and superficiality of the Roaring Twenties. The story is a testament to the power of illusion and the importance of facing reality.', 'F. Scott Fitzgerald')\n",
      "(21, 'Beloved', 'Historical Fiction', 'A former slave is haunted by the ghost of her dead child, who died rather than be returned to slavery. She struggles to come to terms with her past and the trauma of slavery. The story is a powerful exploration of the legacy of slavery, the trauma of the past, and the importance of memory and healing. The characters are complex and resilient, each struggling to survive in a world marked by violence and injustice. The narrative is lyrical and haunting, creating a sense of both beauty and horror. It is a classic tale of trauma, memory, and the search for healing. The setting is a rural community in the aftermath of slavery, reflecting the enduring impact of this institution. The story is a testament to the resilience of the human spirit and the importance of confronting the past.', 'Toni Morrison')\n",
      "(22, 'Things Fall Apart', 'Historical Fiction', 'A respected leader in a Nigerian village struggles to adapt to the arrival of European colonizers and the disruption of his traditional way of life. He is torn between his loyalty to his culture and the changing world around him. The story is a powerful exploration of colonialism, cultural clash, and the loss of tradition. The characters are complex and sympathetic, each struggling to navigate the changing world. The narrative is rich and detailed, providing a glimpse into the culture and traditions of the Igbo people. It is a classic tale of cultural conflict, identity, and the consequences of colonialism. The setting is a vibrant and traditional village, reflecting the beauty and complexity of Igbo culture. The story is a testament to the resilience of culture and the importance of preserving traditions.', 'Chinua Achebe')\n",
      "(23, 'The Kite Runner', 'Historical Fiction', 'A man returns to his homeland of Afghanistan to atone for a childhood betrayal. He confronts his past and seeks redemption in a war-torn country. The story is a powerful exploration of guilt, redemption, and the enduring bonds of friendship. The characters are complex and flawed, each struggling with their own past and seeking forgiveness. The narrative is moving and evocative, creating a sense of both hope and despair. It is a classic tale of guilt, redemption, and the search for forgiveness. The setting is a war-torn Afghanistan, reflecting the devastation and resilience of the people. The story is a testament to the power of forgiveness and the importance of standing up for what is right.', 'Khaled Hosseini')\n",
      "(24, 'The Book Thief', 'Historical Fiction', 'A young girl living in Nazi Germany finds solace in stealing books. She learns to read and discovers the power of words to comfort and inspire her during a time of great hardship. The story is a moving exploration of the power of words, the resilience of the human spirit, and the importance of hope in the face of adversity. The characters are complex and endearing, each struggling to survive in a world consumed by hatred and violence. The narrative is lyrical and poignant, creating a sense of both beauty and sorrow. It is a classic tale of hope, resilience, and the power of words. The setting is a small town in Nazi Germany, reflecting the fear and oppression of the time. The story is a testament to the enduring power of the human spirit and the importance of fighting for what is right.', 'Markus Zusak')\n",
      "(25, 'The Martian', 'Science Fiction', 'An astronaut is stranded on Mars and must use his ingenuity and resourcefulness to survive until a rescue mission can reach him. He faces numerous challenges, including limited resources, harsh conditions, and the psychological toll of isolation. The story is a thrilling and suspenseful tale of survival, ingenuity, and the power of human determination. The characters are realistic and relatable, each contributing to the rescue effort in their own way. The narrative is engaging and informative, providing a glimpse into the science and technology of space exploration. It is a modern classic of science fiction, celebrating the human spirit and the pursuit of knowledge. The setting is the desolate and unforgiving landscape of Mars, reflecting the challenges and dangers of space exploration. The story is a testament to the power of human ingenuity and the importance of never giving up.', 'Andy Weir')\n",
      "(26, 'Dune', 'Science Fiction', 'On a desert planet that is the only source of a valuable spice, a noble family becomes embroiled in a power struggle that threatens the fate of the galaxy. The story is a complex and epic tale of politics, religion, and ecology. The characters are complex and compelling, each with their own motivations and allegiances. The narrative is rich and immersive, creating a world that is both fantastical and believable. It is a classic of science fiction, exploring themes of power, destiny, and the human condition. The setting is a harsh and unforgiving desert planet, reflecting the challenges and dangers of the environment. The story is a testament to the power of adaptation and the importance of understanding the delicate balance of nature.', 'Frank Herbert')\n",
      "(27, 'Foundation', 'Science Fiction', 'A mathematician develops a science that can predict the future of large populations. He foresees the collapse of the Galactic Empire and establishes a Foundation to preserve knowledge and rebuild civilization. The story is a sweeping and ambitious tale of history, politics, and the power of knowledge. The characters are complex and visionary, each contributing to the long-term plan for the future. The narrative is thought-provoking and engaging, exploring themes of determinism, free will, and the role of science in shaping society. It is a classic of science fiction, celebrating the human intellect and the pursuit of progress. The setting is a vast and sprawling galaxy, reflecting the scale and complexity of the story. The story is a testament to the power of knowledge and the importance of planning for the future.', 'Isaac Asimov')\n",
      "(28, 'Neuromancer', 'Cyberpunk', 'A washed-up hacker is hired for one last job: to penetrate the most secure computer system in the world. He teams up with a mysterious woman and navigates a dangerous world of cyberspace, artificial intelligence, and corporate espionage. The story is a fast-paced and gritty tale of technology, crime, and the blurring lines between reality and virtuality. The characters are complex and morally ambiguous, each struggling to survive in a dystopian future. The narrative is stylish and innovative, creating a sense of immersion in the digital world. It is a classic of cyberpunk literature, exploring themes of technology, identity, and the future of humanity. The setting is a dark and decaying urban landscape, reflecting the social and economic inequalities of the time. The story is a testament to the power of technology and the dangers of unchecked corporate power.', 'William Gibson')\n",
      "(29, 'The Martian Chronicles', 'Science Fiction', 'A series of loosely connected stories chronicles the colonization of Mars by humans. The stories explore the themes of cultural clash, environmental destruction, and the search for a new home. The characters are diverse and complex, each with their own motivations and experiences. The narrative is poetic and evocative, creating a sense of wonder and melancholy. It is a classic of science fiction, exploring themes of colonialism, environmentalism, and the human condition. The setting is the red planet of Mars, transformed by human presence and reflecting the hopes and fears of the colonizers. The story is a testament to the power of imagination and the importance of respecting the environment.', 'Ray Bradbury')\n",
      "(30, 'I, Robot', 'Science Fiction', 'A collection of short stories explores the ethical and philosophical implications of robots with artificial intelligence. The stories examine the Three Laws of Robotics and the challenges of creating machines that can think and act independently. The characters are scientists, engineers, and robots, each grappling with the complexities of artificial intelligence. The narrative is thought-provoking and engaging, raising questions about the nature of consciousness, morality, and the future of humanity. It is a classic of science fiction, exploring themes of technology, ethics, and the relationship between humans and machines. The setting is a future world where robots are integrated into everyday life, reflecting the potential benefits and risks of artificial intelligence. The story is a testament to the power of human ingenuity and the importance of considering the ethical implications of technology.', 'Isaac Asimov')\n",
      "\n",
      "Stock:\n",
      "(1, 1)\n",
      "(2, 1)\n",
      "(3, 1)\n",
      "(4, 1)\n",
      "(5, 1)\n",
      "(6, 2)\n",
      "(7, 2)\n",
      "(8, 2)\n",
      "(9, 2)\n",
      "(10, 3)\n",
      "(11, 3)\n",
      "(12, 3)\n",
      "(13, 4)\n",
      "(14, 4)\n",
      "(15, 4)\n",
      "(16, 4)\n",
      "(17, 4)\n",
      "(18, 5)\n",
      "(19, 5)\n",
      "(20, 5)\n",
      "(21, 6)\n",
      "(22, 6)\n",
      "(23, 6)\n",
      "(24, 6)\n",
      "(25, 7)\n",
      "(26, 7)\n",
      "(27, 7)\n",
      "(28, 7)\n",
      "(29, 7)\n",
      "(30, 8)\n",
      "(31, 8)\n",
      "(32, 8)\n",
      "(33, 8)\n",
      "(34, 8)\n",
      "(35, 9)\n",
      "(36, 9)\n",
      "(37, 9)\n",
      "(38, 9)\n",
      "(39, 9)\n",
      "(40, 10)\n",
      "(41, 10)\n",
      "(42, 10)\n",
      "(43, 11)\n",
      "(44, 11)\n",
      "(45, 11)\n",
      "(46, 11)\n",
      "(47, 11)\n",
      "(48, 12)\n",
      "(49, 12)\n",
      "(50, 12)\n",
      "(51, 13)\n",
      "(52, 13)\n",
      "(53, 13)\n",
      "(54, 13)\n",
      "(55, 14)\n",
      "(56, 14)\n",
      "(57, 14)\n",
      "(58, 15)\n",
      "(59, 15)\n",
      "(60, 15)\n",
      "(61, 15)\n",
      "(62, 15)\n",
      "(63, 16)\n",
      "(64, 16)\n",
      "(65, 16)\n",
      "(66, 16)\n",
      "(67, 16)\n",
      "(68, 17)\n",
      "(69, 17)\n",
      "(70, 17)\n",
      "(71, 17)\n",
      "(72, 18)\n",
      "(73, 18)\n",
      "(74, 18)\n",
      "(75, 18)\n",
      "(76, 19)\n",
      "(77, 19)\n",
      "(78, 19)\n",
      "(79, 19)\n",
      "(80, 20)\n",
      "(81, 20)\n",
      "(82, 20)\n",
      "(83, 21)\n",
      "(84, 21)\n",
      "(85, 21)\n",
      "(86, 22)\n",
      "(87, 22)\n",
      "(88, 22)\n",
      "(89, 22)\n",
      "(90, 23)\n",
      "(91, 23)\n",
      "(92, 23)\n",
      "(93, 23)\n",
      "(94, 24)\n",
      "(95, 24)\n",
      "(96, 24)\n",
      "(97, 24)\n",
      "(98, 24)\n",
      "(99, 25)\n",
      "(100, 25)\n",
      "(101, 25)\n",
      "(102, 25)\n",
      "(103, 25)\n",
      "(104, 26)\n",
      "(105, 26)\n",
      "(106, 26)\n",
      "(107, 27)\n",
      "(108, 27)\n",
      "(109, 27)\n",
      "(110, 27)\n",
      "(111, 28)\n",
      "(112, 28)\n",
      "(113, 28)\n",
      "(114, 28)\n",
      "(115, 29)\n",
      "(116, 29)\n",
      "(117, 29)\n",
      "(118, 29)\n",
      "(119, 30)\n",
      "(120, 30)\n",
      "(121, 30)\n",
      "\n",
      "BorrowingHistory:\n",
      "(1, 1, 40, '2024-08-04', None, '2025-09-20')\n",
      "(2, 2, 42, '2024-05-12', None, '2025-12-27')\n",
      "(3, 3, 8, '2024-08-15', None, '2025-07-05')\n",
      "(4, 4, 42, '2025-01-27', None, '2026-02-04')\n",
      "(5, 2, 40, '2025-01-05', None, '2026-03-25')\n",
      "(6, 3, 45, '2024-04-25', None, '2026-04-08')\n",
      "(7, 3, 10, '2024-12-19', None, '2025-06-11')\n",
      "(8, 1, 28, '2025-01-13', None, '2025-09-18')\n",
      "(9, 5, 49, '2024-10-22', None, '2026-03-28')\n",
      "(10, 3, 26, '2024-08-22', None, '2025-09-25')\n",
      "(11, 3, 13, '2024-12-07', None, '2026-01-31')\n",
      "(12, 4, 36, '2024-12-28', None, '2025-10-25')\n",
      "(13, 4, 9, '2025-01-01', None, '2026-03-12')\n",
      "(14, 4, 11, '2025-03-17', None, '2026-03-14')\n",
      "(15, 2, 46, '2025-01-07', None, '2025-11-09')\n",
      "(16, 2, 29, '2024-05-06', None, '2025-12-22')\n",
      "(17, 4, 44, '2024-10-17', None, '2025-12-09')\n",
      "(18, 4, 6, '2024-07-10', None, '2025-10-22')\n",
      "(19, 1, 32, '2025-02-09', None, '2025-12-21')\n",
      "(20, 5, 22, '2025-03-31', None, '2026-04-17')\n",
      "\n",
      "Reservations:\n",
      "(1, 1, 30, 'Expired', '2024-04-21', '2024-08-07')\n",
      "(2, 4, 4, 'Expired', '2025-01-21', '2025-03-09')\n",
      "(3, 4, 9, 'Active', '2024-08-12', '2024-08-02')\n",
      "(4, 4, 46, 'Fulfilled', '2024-12-24', '2024-10-25')\n",
      "(5, 2, 4, 'Fulfilled', '2024-05-30', '2024-06-06')\n",
      "(6, 1, 45, 'Active', '2024-11-03', '2024-12-20')\n",
      "(7, 1, 27, 'Fulfilled', '2024-08-25', '2025-01-03')\n",
      "(8, 1, 34, 'Active', '2024-04-21', '2025-02-12')\n",
      "(9, 2, 6, 'Fulfilled', '2024-07-19', '2024-06-21')\n",
      "(10, 3, 21, 'Active', '2024-09-12', '2024-09-07')\n",
      "(11, 4, 48, 'Expired', '2024-08-07', '2024-04-19')\n",
      "(12, 4, 22, 'Active', '2025-03-31', '2024-12-30')\n",
      "(13, 3, 27, 'Expired', '2024-06-07', '2025-03-16')\n",
      "(14, 3, 41, 'Fulfilled', '2024-09-17', '2024-11-07')\n",
      "(15, 5, 19, 'Active', '2024-09-16', '2024-04-25')\n",
      "(16, 1, 10, 'Fulfilled', '2024-11-25', '2024-07-14')\n",
      "(17, 1, 36, 'Active', '2024-07-16', '2024-07-03')\n",
      "(18, 4, 36, 'Active', '2024-10-12', '2025-02-25')\n",
      "(19, 4, 22, 'Fulfilled', '2025-01-24', '2024-11-11')\n",
      "(20, 3, 8, 'Active', '2024-06-14', '2025-04-07')\n",
      "\n",
      "Waitlist:\n",
      "(1, '2025-02-14')\n",
      "(2, '2024-05-24')\n",
      "(3, '2024-12-20')\n",
      "(4, '2024-08-11')\n",
      "(5, '2024-09-04')\n"
     ]
    }
   ],
   "source": [
    "conn = sqlite3.connect(\"library.db\")\n",
    "cursor = conn.cursor()\n",
    "\n",
    "# Query all tables to display the data\n",
    "cursor.execute(\"SELECT * FROM Users\")\n",
    "print(\"Users:\")\n",
    "for row in cursor.fetchall():\n",
    "    print(row)\n",
    "\n",
    "cursor.execute(\"SELECT * FROM Book\")\n",
    "print(\"\\nBooks:\")\n",
    "for row in cursor.fetchall():\n",
    "    print(row)\n",
    "\n",
    "cursor.execute(\"SELECT * FROM Stock\")\n",
    "print(\"\\nStock:\")\n",
    "for row in cursor.fetchall():\n",
    "    print(row)\n",
    "\n",
    "cursor.execute(\"SELECT * FROM BorrowingHistory\")\n",
    "print(\"\\nBorrowingHistory:\")\n",
    "for row in cursor.fetchall():\n",
    "    print(row)\n",
    "\n",
    "cursor.execute(\"SELECT * FROM Reservations\")\n",
    "print(\"\\nReservations:\")\n",
    "for row in cursor.fetchall():\n",
    "    print(row)\n",
    "\n",
    "cursor.execute(\"SELECT * FROM Waitlist\")\n",
    "print(\"\\nWaitlist:\")\n",
    "for row in cursor.fetchall():\n",
    "    print(row)"
   ]
  },
  {
   "cell_type": "code",
   "execution_count": 14,
   "id": "81f99d5b",
   "metadata": {
    "_cell_guid": "b1076dfc-b9ad-4769-8c92-a6c4dae69d19",
    "_uuid": "8f2839f25d086af736a60e9eeb907d3b93b6e0e5",
    "execution": {
     "iopub.execute_input": "2025-04-18T05:13:27.975598Z",
     "iopub.status.busy": "2025-04-18T05:13:27.975336Z",
     "iopub.status.idle": "2025-04-18T05:13:29.819563Z",
     "shell.execute_reply": "2025-04-18T05:13:29.818770Z"
    },
    "papermill": {
     "duration": 1.851568,
     "end_time": "2025-04-18T05:13:29.821187",
     "exception": false,
     "start_time": "2025-04-18T05:13:27.969619",
     "status": "completed"
    },
    "tags": []
   },
   "outputs": [],
   "source": [
    "# This Python 3 environment comes with many helpful analytics libraries installed\n",
    "# It is defined by the kaggle/python Docker image: https://github.com/kaggle/docker-python\n",
    "# For example, here's several helpful packages to load\n",
    "\n",
    "import numpy as np # linear algebra\n",
    "import pandas as pd # data processing, CSV file I/O (e.g. pd.read_csv)\n",
    "\n",
    "# Input data files are available in the read-only \"../input/\" directory\n",
    "# For example, running this (by clicking run or pressing Shift+Enter) will list all files under the input directory\n",
    "\n",
    "import os\n",
    "for dirname, _, filenames in os.walk('/kaggle/input'):\n",
    "    for filename in filenames:\n",
    "        print(os.path.join(dirname, filename))\n",
    "\n",
    "# You can write up to 20GB to the current directory (/kaggle/working/) that gets preserved as output when you create a version using \"Save & Run All\" \n",
    "# You can also write temporary files to /kaggle/temp/, but they won't be saved outside of the current session"
   ]
  }
 ],
 "metadata": {
  "kaggle": {
   "accelerator": "none",
   "dataSources": [],
   "dockerImageVersionId": 31012,
   "isGpuEnabled": false,
   "isInternetEnabled": true,
   "language": "python",
   "sourceType": "notebook"
  },
  "kernelspec": {
   "display_name": ".venv",
   "language": "python",
   "name": "python3"
  },
  "language_info": {
   "codemirror_mode": {
    "name": "ipython",
    "version": 3
   },
   "file_extension": ".py",
   "mimetype": "text/x-python",
   "name": "python",
   "nbconvert_exporter": "python",
   "pygments_lexer": "ipython3",
   "version": "3.12.3"
  },
  "papermill": {
   "default_parameters": {},
   "duration": 42.895908,
   "end_time": "2025-04-18T05:13:30.646941",
   "environment_variables": {},
   "exception": null,
   "input_path": "__notebook__.ipynb",
   "output_path": "__notebook__.ipynb",
   "parameters": {},
   "start_time": "2025-04-18T05:12:47.751033",
   "version": "2.6.0"
  }
 },
 "nbformat": 4,
 "nbformat_minor": 5
}
