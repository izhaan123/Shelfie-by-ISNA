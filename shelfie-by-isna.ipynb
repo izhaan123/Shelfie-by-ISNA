{
 "cells": [
  {
   "cell_type": "markdown",
   "id": "e4531fdb",
   "metadata": {
    "papermill": {
     "duration": 0.004532,
     "end_time": "2025-04-18T05:12:52.385895",
     "exception": false,
     "start_time": "2025-04-18T05:12:52.381363",
     "status": "completed"
    },
    "tags": []
   },
   "source": [
    "# SHELFIE"
   ]
  },
  {
   "cell_type": "markdown",
   "id": "d7f26fc4",
   "metadata": {
    "papermill": {
     "duration": 0.003352,
     "end_time": "2025-04-18T05:12:52.393113",
     "exception": false,
     "start_time": "2025-04-18T05:12:52.389761",
     "status": "completed"
    },
    "tags": []
   },
   "source": [
    "Run all neccessary pip installs"
   ]
  },
  {
   "cell_type": "code",
   "execution_count": 23,
   "id": "40b76d77",
   "metadata": {
    "execution": {
     "iopub.execute_input": "2025-04-18T05:12:52.401393Z",
     "iopub.status.busy": "2025-04-18T05:12:52.401091Z",
     "iopub.status.idle": "2025-04-18T05:13:06.615989Z",
     "shell.execute_reply": "2025-04-18T05:13:06.614914Z"
    },
    "papermill": {
     "duration": 14.221419,
     "end_time": "2025-04-18T05:13:06.618123",
     "exception": false,
     "start_time": "2025-04-18T05:12:52.396704",
     "status": "completed"
    },
    "tags": []
   },
   "outputs": [
    {
     "name": "stdout",
     "output_type": "stream",
     "text": [
      "Note: you may need to restart the kernel to use updated packages.\n",
      "Note: you may need to restart the kernel to use updated packages.\n",
      "Requirement already satisfied: faker in ./.venv/lib/python3.13/site-packages (37.1.0)\n",
      "Requirement already satisfied: tzdata in ./.venv/lib/python3.13/site-packages (from faker) (2025.2)\n",
      "Note: you may need to restart the kernel to use updated packages.\n",
      "Requirement already satisfied: google-api-python-client in ./.venv/lib/python3.13/site-packages (2.167.0)\n",
      "Requirement already satisfied: httplib2<1.0.0,>=0.19.0 in ./.venv/lib/python3.13/site-packages (from google-api-python-client) (0.22.0)\n",
      "Requirement already satisfied: google-auth!=2.24.0,!=2.25.0,<3.0.0,>=1.32.0 in ./.venv/lib/python3.13/site-packages (from google-api-python-client) (2.39.0)\n",
      "Requirement already satisfied: google-auth-httplib2<1.0.0,>=0.2.0 in ./.venv/lib/python3.13/site-packages (from google-api-python-client) (0.2.0)\n",
      "Requirement already satisfied: google-api-core!=2.0.*,!=2.1.*,!=2.2.*,!=2.3.0,<3.0.0,>=1.31.5 in ./.venv/lib/python3.13/site-packages (from google-api-python-client) (2.24.2)\n",
      "Requirement already satisfied: uritemplate<5,>=3.0.1 in ./.venv/lib/python3.13/site-packages (from google-api-python-client) (4.1.1)\n",
      "Requirement already satisfied: googleapis-common-protos<2.0.0,>=1.56.2 in ./.venv/lib/python3.13/site-packages (from google-api-core!=2.0.*,!=2.1.*,!=2.2.*,!=2.3.0,<3.0.0,>=1.31.5->google-api-python-client) (1.70.0)\n",
      "Requirement already satisfied: protobuf!=3.20.0,!=3.20.1,!=4.21.0,!=4.21.1,!=4.21.2,!=4.21.3,!=4.21.4,!=4.21.5,<7.0.0,>=3.19.5 in ./.venv/lib/python3.13/site-packages (from google-api-core!=2.0.*,!=2.1.*,!=2.2.*,!=2.3.0,<3.0.0,>=1.31.5->google-api-python-client) (6.30.2)\n",
      "Requirement already satisfied: proto-plus<2.0.0,>=1.22.3 in ./.venv/lib/python3.13/site-packages (from google-api-core!=2.0.*,!=2.1.*,!=2.2.*,!=2.3.0,<3.0.0,>=1.31.5->google-api-python-client) (1.26.1)\n",
      "Requirement already satisfied: requests<3.0.0,>=2.18.0 in ./.venv/lib/python3.13/site-packages (from google-api-core!=2.0.*,!=2.1.*,!=2.2.*,!=2.3.0,<3.0.0,>=1.31.5->google-api-python-client) (2.32.3)\n",
      "Requirement already satisfied: cachetools<6.0,>=2.0.0 in ./.venv/lib/python3.13/site-packages (from google-auth!=2.24.0,!=2.25.0,<3.0.0,>=1.32.0->google-api-python-client) (5.5.2)\n",
      "Requirement already satisfied: pyasn1-modules>=0.2.1 in ./.venv/lib/python3.13/site-packages (from google-auth!=2.24.0,!=2.25.0,<3.0.0,>=1.32.0->google-api-python-client) (0.4.2)\n",
      "Requirement already satisfied: rsa<5,>=3.1.4 in ./.venv/lib/python3.13/site-packages (from google-auth!=2.24.0,!=2.25.0,<3.0.0,>=1.32.0->google-api-python-client) (4.9.1)\n",
      "Requirement already satisfied: pyparsing!=3.0.0,!=3.0.1,!=3.0.2,!=3.0.3,<4,>=2.4.2 in ./.venv/lib/python3.13/site-packages (from httplib2<1.0.0,>=0.19.0->google-api-python-client) (3.2.3)\n",
      "Requirement already satisfied: pyasn1<0.7.0,>=0.6.1 in ./.venv/lib/python3.13/site-packages (from pyasn1-modules>=0.2.1->google-auth!=2.24.0,!=2.25.0,<3.0.0,>=1.32.0->google-api-python-client) (0.6.1)\n",
      "Requirement already satisfied: charset-normalizer<4,>=2 in ./.venv/lib/python3.13/site-packages (from requests<3.0.0,>=2.18.0->google-api-core!=2.0.*,!=2.1.*,!=2.2.*,!=2.3.0,<3.0.0,>=1.31.5->google-api-python-client) (3.4.1)\n",
      "Requirement already satisfied: idna<4,>=2.5 in ./.venv/lib/python3.13/site-packages (from requests<3.0.0,>=2.18.0->google-api-core!=2.0.*,!=2.1.*,!=2.2.*,!=2.3.0,<3.0.0,>=1.31.5->google-api-python-client) (3.10)\n",
      "Requirement already satisfied: urllib3<3,>=1.21.1 in ./.venv/lib/python3.13/site-packages (from requests<3.0.0,>=2.18.0->google-api-core!=2.0.*,!=2.1.*,!=2.2.*,!=2.3.0,<3.0.0,>=1.31.5->google-api-python-client) (2.4.0)\n",
      "Requirement already satisfied: certifi>=2017.4.17 in ./.venv/lib/python3.13/site-packages (from requests<3.0.0,>=2.18.0->google-api-core!=2.0.*,!=2.1.*,!=2.2.*,!=2.3.0,<3.0.0,>=1.31.5->google-api-python-client) (2025.1.31)\n",
      "Note: you may need to restart the kernel to use updated packages.\n",
      "Requirement already satisfied: dotenv in ./.venv/lib/python3.13/site-packages (0.9.9)\n",
      "Requirement already satisfied: python-dotenv in ./.venv/lib/python3.13/site-packages (from dotenv) (1.1.0)\n",
      "Note: you may need to restart the kernel to use updated packages.\n",
      "Note: you may need to restart the kernel to use updated packages.\n"
     ]
    }
   ],
   "source": [
    "%pip uninstall -qqy jupyterlab \n",
    "# Remove unused conflicting packages\n",
    "%pip install -U -q \"google-genai==1.7.0\"\n",
    "%pip install faker\n",
    "%pip install google-api-python-client\n",
    "%pip install dotenv\n",
    "%pip install -qU \"langgraph==0.3.21\" \"langchain-google-genai==2.1.2\" \"langgraph-prebuilt==0.1.7\""
   ]
  },
  {
   "cell_type": "markdown",
   "id": "e5dfd67f",
   "metadata": {
    "papermill": {
     "duration": 0.004127,
     "end_time": "2025-04-18T05:13:06.627006",
     "exception": false,
     "start_time": "2025-04-18T05:13:06.622879",
     "status": "completed"
    },
    "tags": []
   },
   "source": [
    "Do all the neccessary imports to declutter code below. Also verify genai is being imported correctly."
   ]
  },
  {
   "cell_type": "code",
   "execution_count": 24,
   "id": "9608aaa2",
   "metadata": {
    "execution": {
     "iopub.execute_input": "2025-04-18T05:13:06.637638Z",
     "iopub.status.busy": "2025-04-18T05:13:06.636670Z",
     "iopub.status.idle": "2025-04-18T05:13:08.264483Z",
     "shell.execute_reply": "2025-04-18T05:13:08.263120Z"
    },
    "papermill": {
     "duration": 1.634866,
     "end_time": "2025-04-18T05:13:08.266117",
     "exception": false,
     "start_time": "2025-04-18T05:13:06.631251",
     "status": "completed"
    },
    "tags": []
   },
   "outputs": [
    {
     "name": "stdout",
     "output_type": "stream",
     "text": [
      "1.7.0\n"
     ]
    }
   ],
   "source": [
    "import sqlite3\n",
    "import random\n",
    "from faker import Faker\n",
    "from google import genai\n",
    "from google.genai import types\n",
    "from google.api_core import retry\n",
    "from typing import Final\n",
    "from IPython.display import Markdown, display, Image\n",
    "from pprint import pprint\n",
    "print(genai.__version__)\n",
    "from typing import Annotated\n",
    "from typing_extensions import TypedDict\n",
    "from langgraph.graph.message import add_messages\n",
    "from langgraph.graph import StateGraph, START, END\n",
    "from langchain_google_genai import ChatGoogleGenerativeAI\n",
    "from langchain_core.messages.ai import AIMessage\n",
    "from typing import Literal\n",
    "from langchain_core.tools import tool\n",
    "from langgraph.prebuilt import ToolNode\n",
    "from collections.abc import Iterable\n",
    "from langchain_core.messages.tool import ToolMessage"
   ]
  },
  {
   "cell_type": "markdown",
   "id": "2bd2a5d4",
   "metadata": {},
   "source": [
    "Set up `GOOGLE_API_KEY` for both Kaggle and local development."
   ]
  },
  {
   "cell_type": "code",
   "execution_count": 25,
   "id": "2986da7e",
   "metadata": {},
   "outputs": [],
   "source": [
    "import os\n",
    "from dotenv import load_dotenv\n",
    "\n",
    "try:\n",
    "    from kaggle_secrets import UserSecretsClient\n",
    "    IS_KAGGLE = True\n",
    "except ImportError:\n",
    "    IS_KAGGLE = False\n",
    "\n",
    "# Load environment variables from .env file for local setup\n",
    "if not IS_KAGGLE:\n",
    "    load_dotenv()\n",
    "\n",
    "# Fetch the Google API key\n",
    "if IS_KAGGLE:\n",
    "    GOOGLE_API_KEY = UserSecretsClient().get_secret(\"GOOGLE_API_KEY\")\n",
    "else:\n",
    "    GOOGLE_API_KEY = os.getenv(\"GOOGLE_API_KEY\")\n",
    "\n",
    "if not GOOGLE_API_KEY:\n",
    "    raise ValueError(\"Google API key not found. Please set it in the appropriate environment.\")"
   ]
  },
  {
   "cell_type": "code",
   "execution_count": 26,
   "id": "d63a5ea7",
   "metadata": {
    "execution": {
     "iopub.execute_input": "2025-04-18T05:13:08.284529Z",
     "iopub.status.busy": "2025-04-18T05:13:08.284049Z",
     "iopub.status.idle": "2025-04-18T05:13:08.443751Z",
     "shell.execute_reply": "2025-04-18T05:13:08.443052Z"
    },
    "papermill": {
     "duration": 0.166477,
     "end_time": "2025-04-18T05:13:08.445296",
     "exception": false,
     "start_time": "2025-04-18T05:13:08.278819",
     "status": "completed"
    },
    "tags": []
   },
   "outputs": [],
   "source": [
    "NUM_BOOKS: Final[int] = 30"
   ]
  },
  {
   "cell_type": "code",
   "execution_count": 27,
   "id": "b743fc60",
   "metadata": {
    "execution": {
     "iopub.execute_input": "2025-04-18T05:13:08.455299Z",
     "iopub.status.busy": "2025-04-18T05:13:08.454998Z",
     "iopub.status.idle": "2025-04-18T05:13:08.459899Z",
     "shell.execute_reply": "2025-04-18T05:13:08.459188Z"
    },
    "papermill": {
     "duration": 0.011495,
     "end_time": "2025-04-18T05:13:08.461255",
     "exception": false,
     "start_time": "2025-04-18T05:13:08.449760",
     "status": "completed"
    },
    "tags": []
   },
   "outputs": [],
   "source": [
    "# Define a retry policy. The model might make multiple consecutive calls automatically\n",
    "# for a complex query, this ensures the client retries if it hits quota limits.\n",
    "is_retriable = lambda e: (isinstance(e, genai.errors.APIError) and e.code in {429, 503})\n",
    "\n",
    "if not hasattr(genai.models.Models.generate_content, '__wrapped__'):\n",
    "  genai.models.Models.generate_content = retry.Retry(\n",
    "      predicate=is_retriable)(genai.models.Models.generate_content)"
   ]
  },
  {
   "cell_type": "code",
   "execution_count": 28,
   "id": "977a8c78",
   "metadata": {
    "execution": {
     "iopub.execute_input": "2025-04-18T05:13:08.486569Z",
     "iopub.status.busy": "2025-04-18T05:13:08.486122Z",
     "iopub.status.idle": "2025-04-18T05:13:08.490676Z",
     "shell.execute_reply": "2025-04-18T05:13:08.489816Z"
    },
    "papermill": {
     "duration": 0.010997,
     "end_time": "2025-04-18T05:13:08.492067",
     "exception": false,
     "start_time": "2025-04-18T05:13:08.481070",
     "status": "completed"
    },
    "tags": []
   },
   "outputs": [],
   "source": [
    "# Remove existing database file (if it exists)\n",
    "db_file = \"library.db\"\n",
    "if os.path.exists(db_file):\n",
    "    os.remove(db_file)"
   ]
  },
  {
   "cell_type": "code",
   "execution_count": 29,
   "id": "a9e6d42a",
   "metadata": {
    "execution": {
     "iopub.execute_input": "2025-04-18T05:13:08.502190Z",
     "iopub.status.busy": "2025-04-18T05:13:08.501394Z",
     "iopub.status.idle": "2025-04-18T05:13:08.506668Z",
     "shell.execute_reply": "2025-04-18T05:13:08.505868Z"
    },
    "papermill": {
     "duration": 0.01164,
     "end_time": "2025-04-18T05:13:08.508037",
     "exception": false,
     "start_time": "2025-04-18T05:13:08.496397",
     "status": "completed"
    },
    "tags": []
   },
   "outputs": [],
   "source": [
    "from dataclasses import dataclass\n",
    "\n",
    "@dataclass\n",
    "class Book:\n",
    "    name: str\n",
    "    genre: str\n",
    "    description: str\n",
    "    author: str"
   ]
  },
  {
   "cell_type": "code",
   "execution_count": 30,
   "id": "5bda3346",
   "metadata": {
    "execution": {
     "iopub.execute_input": "2025-04-18T05:13:08.518002Z",
     "iopub.status.busy": "2025-04-18T05:13:08.517654Z",
     "iopub.status.idle": "2025-04-18T05:13:08.526981Z",
     "shell.execute_reply": "2025-04-18T05:13:08.526249Z"
    },
    "papermill": {
     "duration": 0.016181,
     "end_time": "2025-04-18T05:13:08.528506",
     "exception": false,
     "start_time": "2025-04-18T05:13:08.512325",
     "status": "completed"
    },
    "tags": []
   },
   "outputs": [],
   "source": [
    "def generate_books_list(num_books: int) -> list[Book]:\n",
    "    \"\"\"\n",
    "    Asks Gemini to create a list of\n",
    "    \n",
    "    return: A list of Book objects.\n",
    "    \"\"\"\n",
    "    prompt = \"\"\"\n",
    "    Generate a list of exactly {num_books} books of any genre. For each book, provide the name, genre, a description of about 1000 characters, and the author.\n",
    "    Do not include the author's name in the description. Return the result as a JSON array of book objects with the keys: \"name\", \"genre\", \"description\", and \"author\".\n",
    "    Examples of a \"name\", \"genre\", \"description\", and \"author\" are provided below:\n",
    "    1) \"To Kill a Mockingbird\", \"Fiction\", \"A gripping tale set in the racially charged American South, exploring themes of justice, morality, and the loss of innocence. Perfect for readers who appreciate profound social commentary interwoven with compelling storytelling.\", \"Harper Lee\"\n",
    "    2) \"1984\", \"Dystopian\", \"A chilling vision of a totalitarian future where surveillance and control pervade every aspect of life. Ideal for fans of thought-provoking and cautionary tales.\", \"George Orwell\"\n",
    "    \"\"\"\n",
    "\n",
    "    if num_books < 1:\n",
    "        raise Exception(\"Need to generate at least one Book.\")\n",
    "    \n",
    "    prompt = prompt.format(num_books = num_books)\n",
    "    client = genai.Client(api_key=GOOGLE_API_KEY)\n",
    "    \n",
    "    structured_output_config = types.GenerateContentConfig(\n",
    "        response_mime_type=\"application/json\",\n",
    "        response_schema={\n",
    "            \"type\": \"array\",\n",
    "            \"items\": {\n",
    "                \"type\": \"object\",\n",
    "                \"properties\": {\n",
    "                    \"name\": {\"type\": \"string\"},\n",
    "                    \"genre\": {\"type\": \"string\"},\n",
    "                    \"description\": {\"type\": \"string\"},\n",
    "                    \"author\": {\"type\": \"string\"}\n",
    "                },\n",
    "                \"required\": [\"name\", \"genre\", \"description\", \"author\"]\n",
    "            }\n",
    "        },\n",
    "        temperature=0.3\n",
    "    )\n",
    "\n",
    "    response_len = 0\n",
    "\n",
    "    while response_len != num_books:\n",
    "        chat = client.chats.create(model='gemini-2.0-flash')\n",
    "        response = chat.send_message(\n",
    "          message=prompt,\n",
    "          config=structured_output_config,\n",
    "        )\n",
    "        book_objects = [Book(**book) for book in response.parsed]\n",
    "        response_len = len(book_objects)\n",
    "    \n",
    "    return book_objects"
   ]
  },
  {
   "cell_type": "markdown",
   "id": "34bc45bf",
   "metadata": {
    "papermill": {
     "duration": 0.003965,
     "end_time": "2025-04-18T05:13:08.536845",
     "exception": false,
     "start_time": "2025-04-18T05:13:08.532880",
     "status": "completed"
    },
    "tags": []
   },
   "source": [
    "Do a basic check to see that an exception is raised when the user provides `num_books` < 1."
   ]
  },
  {
   "cell_type": "code",
   "execution_count": 31,
   "id": "3c6b2c75",
   "metadata": {
    "execution": {
     "iopub.execute_input": "2025-04-18T05:13:08.546312Z",
     "iopub.status.busy": "2025-04-18T05:13:08.546041Z",
     "iopub.status.idle": "2025-04-18T05:13:08.550949Z",
     "shell.execute_reply": "2025-04-18T05:13:08.550062Z"
    },
    "papermill": {
     "duration": 0.011377,
     "end_time": "2025-04-18T05:13:08.552387",
     "exception": false,
     "start_time": "2025-04-18T05:13:08.541010",
     "status": "completed"
    },
    "tags": []
   },
   "outputs": [
    {
     "name": "stdout",
     "output_type": "stream",
     "text": [
      "Expected error when calling generate_books_list with 0 books.\n",
      "\n",
      "\n"
     ]
    }
   ],
   "source": [
    "try:\n",
    "    generate_books_list(0)\n",
    "except:\n",
    "    print(\"Expected error when calling generate_books_list with 0 books.\\n\\n\")"
   ]
  },
  {
   "cell_type": "markdown",
   "id": "01e736cf",
   "metadata": {
    "papermill": {
     "duration": 0.004087,
     "end_time": "2025-04-18T05:13:08.561187",
     "exception": false,
     "start_time": "2025-04-18T05:13:08.557100",
     "status": "completed"
    },
    "tags": []
   },
   "source": [
    "Call `generate_books_list` with `NUM_BOOKS`. The time it takes to run the line of code is non-deterministic. This is the number of books produced by gemini is not consitent."
   ]
  },
  {
   "cell_type": "code",
   "execution_count": 32,
   "id": "2e751a14",
   "metadata": {
    "execution": {
     "iopub.execute_input": "2025-04-18T05:13:08.570820Z",
     "iopub.status.busy": "2025-04-18T05:13:08.570502Z",
     "iopub.status.idle": "2025-04-18T05:13:27.768018Z",
     "shell.execute_reply": "2025-04-18T05:13:27.767247Z"
    },
    "papermill": {
     "duration": 19.204066,
     "end_time": "2025-04-18T05:13:27.769558",
     "exception": false,
     "start_time": "2025-04-18T05:13:08.565492",
     "status": "completed"
    },
    "tags": []
   },
   "outputs": [],
   "source": [
    "books_list = generate_books_list(NUM_BOOKS)"
   ]
  },
  {
   "cell_type": "markdown",
   "id": "724d42fb",
   "metadata": {
    "papermill": {
     "duration": 0.004093,
     "end_time": "2025-04-18T05:13:27.778686",
     "exception": false,
     "start_time": "2025-04-18T05:13:27.774593",
     "status": "completed"
    },
    "tags": []
   },
   "source": [
    "Do some validation on the generated output. Verify if the generated list is indeed of length 30. If it's not try running it again. Print the top 5 for inspection."
   ]
  },
  {
   "cell_type": "code",
   "execution_count": 33,
   "id": "f4815441",
   "metadata": {
    "execution": {
     "iopub.execute_input": "2025-04-18T05:13:27.788289Z",
     "iopub.status.busy": "2025-04-18T05:13:27.787985Z",
     "iopub.status.idle": "2025-04-18T05:13:27.794250Z",
     "shell.execute_reply": "2025-04-18T05:13:27.793147Z"
    },
    "papermill": {
     "duration": 0.012869,
     "end_time": "2025-04-18T05:13:27.795804",
     "exception": false,
     "start_time": "2025-04-18T05:13:27.782935",
     "status": "completed"
    },
    "tags": []
   },
   "outputs": [
    {
     "name": "stdout",
     "output_type": "stream",
     "text": [
      "[Book(name='The Secret Garden',\n",
      "      genre=\"Children's Literature\",\n",
      "      description='A young girl, orphaned and neglected, discovers a hidden '\n",
      "                  \"garden on her uncle's estate. Through tending to the \"\n",
      "                  'garden, she finds healing and friendship, transforming both '\n",
      "                  'herself and the lives of those around her. It is a story of '\n",
      "                  'renewal, the power of nature, and the importance of human '\n",
      "                  'connection.',\n",
      "      author='Frances Hodgson Burnett'),\n",
      " Book(name='Pride and Prejudice',\n",
      "      genre='Romance',\n",
      "      description='Set in the English countryside, this novel follows the '\n",
      "                  'witty and independent Elizabeth Bennet as she navigates the '\n",
      "                  'social pressures of finding a suitable husband. She clashes '\n",
      "                  'with the proud Mr. Darcy, leading to misunderstandings and '\n",
      "                  'prejudice, but ultimately, they must overcome their initial '\n",
      "                  'impressions to find true love. It is a timeless exploration '\n",
      "                  'of class, society, and the complexities of human '\n",
      "                  'relationships.',\n",
      "      author='Jane Austen'),\n",
      " Book(name='The Hobbit',\n",
      "      genre='Fantasy',\n",
      "      description='A hobbit is thrust into an unexpected adventure when he '\n",
      "                  'joins a company of dwarves on a quest to reclaim their '\n",
      "                  'treasure from a dragon. Along the way, he encounters '\n",
      "                  'trolls, goblins, and other fantastical creatures, '\n",
      "                  'discovering courage and resourcefulness he never knew he '\n",
      "                  'possessed. It is a classic tale of good versus evil, '\n",
      "                  'friendship, and the transformative power of adventure.',\n",
      "      author='J.R.R. Tolkien'),\n",
      " Book(name='The Little Prince',\n",
      "      genre='Philosophical Fiction',\n",
      "      description='A pilot stranded in the desert meets a young prince who has '\n",
      "                  'fallen to Earth from a tiny asteroid. The prince recounts '\n",
      "                  'his travels to various planets, each inhabited by a single, '\n",
      "                  'peculiar individual, offering profound insights into human '\n",
      "                  'nature, love, and loss. It is a poignant and allegorical '\n",
      "                  'story that speaks to the child within us all.',\n",
      "      author='Antoine de Saint-Exupéry'),\n",
      " Book(name='The Da Vinci Code',\n",
      "      genre='Mystery Thriller',\n",
      "      description='A symbologist is drawn into a complex mystery involving a '\n",
      "                  'murder at the Louvre Museum and a secret society protecting '\n",
      "                  'a historical truth. He teams up with a cryptologist to '\n",
      "                  'decipher clues hidden within famous works of art, '\n",
      "                  'uncovering a conspiracy that could shake the foundations of '\n",
      "                  'Christianity. It is a fast-paced and suspenseful thriller '\n",
      "                  'that blends art, history, and religion.',\n",
      "      author='Dan Brown')]\n"
     ]
    }
   ],
   "source": [
    "assert(len(books_list) == NUM_BOOKS)\n",
    "assert(all([True for book in books_list if type(book) == Book]))\n",
    "pprint(books_list[:5])"
   ]
  },
  {
   "cell_type": "code",
   "execution_count": 34,
   "id": "b5da5a84",
   "metadata": {
    "execution": {
     "iopub.execute_input": "2025-04-18T05:13:27.806341Z",
     "iopub.status.busy": "2025-04-18T05:13:27.806058Z",
     "iopub.status.idle": "2025-04-18T05:13:27.941463Z",
     "shell.execute_reply": "2025-04-18T05:13:27.940585Z"
    },
    "papermill": {
     "duration": 0.142574,
     "end_time": "2025-04-18T05:13:27.942910",
     "exception": false,
     "start_time": "2025-04-18T05:13:27.800336",
     "status": "completed"
    },
    "tags": []
   },
   "outputs": [
    {
     "name": "stdout",
     "output_type": "stream",
     "text": [
      "Sample data has been inserted into the SQLite database.\n"
     ]
    },
    {
     "name": "stderr",
     "output_type": "stream",
     "text": [
      "/var/folders/78/qjwrg1x15s95n20kfyy79_9r0000gn/T/ipykernel_27896/1087170063.py:97: DeprecationWarning: The default date adapter is deprecated as of Python 3.12; see the sqlite3 documentation for suggested replacement recipes\n",
      "  cursor.execute(\"\"\"\n",
      "/var/folders/78/qjwrg1x15s95n20kfyy79_9r0000gn/T/ipykernel_27896/1087170063.py:104: DeprecationWarning: The default date adapter is deprecated as of Python 3.12; see the sqlite3 documentation for suggested replacement recipes\n",
      "  cursor.execute(\"\"\"\n",
      "/var/folders/78/qjwrg1x15s95n20kfyy79_9r0000gn/T/ipykernel_27896/1087170063.py:111: DeprecationWarning: The default date adapter is deprecated as of Python 3.12; see the sqlite3 documentation for suggested replacement recipes\n",
      "  cursor.execute(\"\"\"\n"
     ]
    }
   ],
   "source": [
    "# Initialize Faker instance\n",
    "fake = Faker()\n",
    "\n",
    "# Create SQLite database and tables\n",
    "conn = sqlite3.connect(\"library.db\")\n",
    "cursor = conn.cursor()\n",
    "\n",
    "cursor.execute(\"\"\"\n",
    "CREATE TABLE IF NOT EXISTS Users (\n",
    "    user_id INTEGER PRIMARY KEY,\n",
    "    name TEXT,\n",
    "    email TEXT,\n",
    "    password_hash TEXT\n",
    ")\n",
    "\"\"\")\n",
    "\n",
    "cursor.execute(\"\"\"\n",
    "CREATE TABLE IF NOT EXISTS Book (\n",
    "    book_id INTEGER PRIMARY KEY,\n",
    "    name TEXT,\n",
    "    genre TEXT,\n",
    "    description TEXT,\n",
    "    author TEXT\n",
    ")\n",
    "\"\"\")\n",
    "\n",
    "cursor.execute(\"\"\"\n",
    "CREATE TABLE IF NOT EXISTS Stock (\n",
    "    stock_id INTEGER PRIMARY KEY AUTOINCREMENT,\n",
    "    book_id INTEGER,\n",
    "    FOREIGN KEY (book_id) REFERENCES Book(book_id)\n",
    ")\n",
    "\"\"\")\n",
    "\n",
    "cursor.execute(\"\"\"\n",
    "CREATE TABLE IF NOT EXISTS BorrowingHistory (\n",
    "    entry_id INTEGER PRIMARY KEY,\n",
    "    user_id INTEGER,\n",
    "    stock_id INTEGER,\n",
    "    borrowed_on DATE,\n",
    "    returned_on DATE,\n",
    "    due_by DATE,\n",
    "    FOREIGN KEY (user_id) REFERENCES Users(user_id),\n",
    "    FOREIGN KEY (stock_id) REFERENCES Stock(stock_id)\n",
    ")\n",
    "\"\"\")\n",
    "\n",
    "cursor.execute(\"\"\"\n",
    "CREATE TABLE IF NOT EXISTS Reservations (\n",
    "    reservation_id INTEGER PRIMARY KEY,\n",
    "    user_id INTEGER,\n",
    "    book_id INTEGER,\n",
    "    status TEXT,\n",
    "    last_updated DATE,\n",
    "    reserved_on DATE,\n",
    "    FOREIGN KEY (user_id) REFERENCES Users(user_id),\n",
    "    FOREIGN KEY (book_id) REFERENCES Book(book_id)\n",
    ")\n",
    "\"\"\")\n",
    "\n",
    "cursor.execute(\"\"\"\n",
    "CREATE TABLE IF NOT EXISTS Waitlist (\n",
    "    book_id INTEGER,\n",
    "    waitlisted_on DATE,\n",
    "    FOREIGN KEY (book_id) REFERENCES Book(book_id)\n",
    ")\n",
    "\"\"\")\n",
    "\n",
    "passwords = [\"ISNA2018\", \"ISNA2019\", \"ISNA2020\", \"ISNA2021\", \"ISNA2022\"]\n",
    "# Generate and insert sample data for Users table\n",
    "for user_id in range(1, 6):\n",
    "    cursor.execute(\"\"\"\n",
    "    INSERT INTO Users (user_id, name, email, password_hash)\n",
    "    VALUES (?, ?, ?, ?)\n",
    "    \"\"\", (user_id, fake.name(), fake.email(), passwords[user_id - 1]))\n",
    "\n",
    "# Insert real books into Book table\n",
    "for book_id, book in enumerate(books_list, start=1):\n",
    "    cursor.execute(\"\"\"\n",
    "    INSERT INTO Book (book_id, name, genre, description, author)\n",
    "    VALUES (?, ?, ?, ?, ?)\n",
    "    \"\"\", (book_id, book.name, book.genre, book.description, book.author))\n",
    "\n",
    "# Generate and insert sample data for Stock table\n",
    "for book_id in range(1, 31):\n",
    "    num_books = random.randint(3, 5)\n",
    "    j = 0\n",
    "    while (j < num_books):\n",
    "        cursor.execute(\"\"\"\n",
    "        INSERT INTO Stock (book_id)\n",
    "        VALUES (?)\n",
    "        \"\"\", (book_id, ))\n",
    "        j += 1\n",
    "\n",
    "# Generate and insert sample data for BorrowingHistory table\n",
    "for entry_id in range(1, 21):\n",
    "    cursor.execute(\"\"\"\n",
    "    INSERT INTO BorrowingHistory (entry_id, user_id, stock_id, borrowed_on, returned_on, due_by)\n",
    "    VALUES (?, ?, ?, ?, ?, ?)\n",
    "    \"\"\", (entry_id, random.randint(1, 5), random.randint(1, 50), fake.date_between(start_date=\"-1y\", end_date=\"-1d\"), fake.date_between(start_date=\"+1d\", end_date=\"+1y\"), fake.date_between(start_date=\"+1d\", end_date=\"+1y\")))\n",
    "\n",
    "# Generate and insert sample data for Reservations table\n",
    "for reservation_id in range(1, 21):\n",
    "    cursor.execute(\"\"\"\n",
    "    INSERT INTO Reservations (reservation_id, user_id, book_id, status, last_updated, reserved_on)\n",
    "    VALUES (?, ?, ?, ?, ?, ?)\n",
    "    \"\"\", (reservation_id, random.randint(1, 5), random.randint(1, 50), random.choice([\"Active\", \"Fulfilled\", \"Expired\"]), fake.date_between(start_date=\"-1y\", end_date=\"today\"), fake.date_between(start_date=\"-1y\", end_date=\"today\")))\n",
    "\n",
    "# Generate and insert sample data for Waitlist table\n",
    "for book_id in range(1, 6):\n",
    "    cursor.execute(\"\"\"\n",
    "    INSERT INTO Waitlist (book_id, waitlisted_on)\n",
    "    VALUES (?, ?)\n",
    "    \"\"\", (book_id, fake.date_between(start_date=\"-1y\", end_date=\"today\")))\n",
    "\n",
    "# Commit changes and close connection\n",
    "conn.commit()\n",
    "conn.close()\n",
    "\n",
    "print(\"Sample data has been inserted into the SQLite database.\")\n"
   ]
  },
  {
   "cell_type": "code",
   "execution_count": 35,
   "id": "cf50c436",
   "metadata": {
    "execution": {
     "iopub.execute_input": "2025-04-18T05:13:27.953390Z",
     "iopub.status.busy": "2025-04-18T05:13:27.952704Z",
     "iopub.status.idle": "2025-04-18T05:13:27.962488Z",
     "shell.execute_reply": "2025-04-18T05:13:27.961698Z"
    },
    "papermill": {
     "duration": 0.016679,
     "end_time": "2025-04-18T05:13:27.964173",
     "exception": false,
     "start_time": "2025-04-18T05:13:27.947494",
     "status": "completed"
    },
    "tags": []
   },
   "outputs": [
    {
     "name": "stdout",
     "output_type": "stream",
     "text": [
      "Users:\n",
      "(1, 'Donald Bates', 'lstevens@example.net', 'ISNA2018')\n",
      "(2, 'Audrey Wilson', 'jessicaturner@example.net', 'ISNA2019')\n",
      "(3, 'Stacey Sparks', 'andrewspamela@example.org', 'ISNA2020')\n",
      "(4, 'Joseph Arnold', 'uharris@example.org', 'ISNA2021')\n",
      "(5, 'Victoria Rodriguez', 'johnstonnicholas@example.net', 'ISNA2022')\n",
      "\n",
      "Books:\n",
      "(1, 'The Secret Garden', \"Children's Literature\", \"A young girl, orphaned and neglected, discovers a hidden garden on her uncle's estate. Through tending to the garden, she finds healing and friendship, transforming both herself and the lives of those around her. It is a story of renewal, the power of nature, and the importance of human connection.\", 'Frances Hodgson Burnett')\n",
      "(2, 'Pride and Prejudice', 'Romance', 'Set in the English countryside, this novel follows the witty and independent Elizabeth Bennet as she navigates the social pressures of finding a suitable husband. She clashes with the proud Mr. Darcy, leading to misunderstandings and prejudice, but ultimately, they must overcome their initial impressions to find true love. It is a timeless exploration of class, society, and the complexities of human relationships.', 'Jane Austen')\n",
      "(3, 'The Hobbit', 'Fantasy', 'A hobbit is thrust into an unexpected adventure when he joins a company of dwarves on a quest to reclaim their treasure from a dragon. Along the way, he encounters trolls, goblins, and other fantastical creatures, discovering courage and resourcefulness he never knew he possessed. It is a classic tale of good versus evil, friendship, and the transformative power of adventure.', 'J.R.R. Tolkien')\n",
      "(4, 'The Little Prince', 'Philosophical Fiction', 'A pilot stranded in the desert meets a young prince who has fallen to Earth from a tiny asteroid. The prince recounts his travels to various planets, each inhabited by a single, peculiar individual, offering profound insights into human nature, love, and loss. It is a poignant and allegorical story that speaks to the child within us all.', 'Antoine de Saint-Exupéry')\n",
      "(5, 'The Da Vinci Code', 'Mystery Thriller', 'A symbologist is drawn into a complex mystery involving a murder at the Louvre Museum and a secret society protecting a historical truth. He teams up with a cryptologist to decipher clues hidden within famous works of art, uncovering a conspiracy that could shake the foundations of Christianity. It is a fast-paced and suspenseful thriller that blends art, history, and religion.', 'Dan Brown')\n",
      "(6, 'The Hunger Games', 'Young Adult Dystopian', \"In a dystopian future, teenagers are forced to compete in a televised battle to the death. A young woman volunteers to take her sister's place in the games, becoming a symbol of rebellion against the oppressive Capitol. She must use her wits and skills to survive, while also grappling with the moral implications of her actions. It is a thrilling and thought-provoking story about survival, sacrifice, and the power of hope.\", 'Suzanne Collins')\n",
      "(7, \"Harry Potter and the Sorcerer's Stone\", 'Fantasy', 'An orphaned boy discovers on his eleventh birthday that he is a wizard and is invited to attend Hogwarts School of Witchcraft and Wizardry. There, he makes friends, learns magic, and uncovers a dark secret about his past. He must confront a powerful and evil wizard who seeks to return to power. It is a magical and heartwarming story about friendship, courage, and the triumph of good over evil.', 'J.K. Rowling')\n",
      "(8, 'The Lord of the Rings', 'Fantasy', 'In the idyllic Shire, a hobbit inherits a powerful ring that must be destroyed to prevent it from falling into the hands of the Dark Lord. He embarks on a perilous journey with a fellowship of companions, facing countless dangers and temptations along the way. It is an epic tale of good versus evil, courage, and the importance of friendship in the face of overwhelming odds.', 'J.R.R. Tolkien')\n",
      "(9, 'The Alchemist', 'Philosophical Fiction', \"An Andalusian shepherd boy travels from Spain to the Egyptian desert in search of a treasure buried near the pyramids. Along the way, he encounters various characters who guide him on his spiritual journey, teaching him about listening to his heart, following his dreams, and recognizing the interconnectedness of all things. It is an inspiring and allegorical story about self-discovery and the pursuit of one's destiny.\", 'Paulo Coelho')\n",
      "(10, 'The Catcher in the Rye', 'Literary Fiction', 'A teenage boy is expelled from boarding school and wanders around New York City, grappling with feelings of alienation, disillusionment, and the phoniness of the adult world. He struggles to find his place in society and connect with others, searching for authenticity and meaning in a world he perceives as superficial. It is a coming-of-age story that explores themes of identity, loss, and the search for belonging.', 'J.D. Salinger')\n",
      "(11, 'Animal Farm', 'Satirical Allegory', 'A group of farm animals revolt against their human farmer, establishing a society based on equality and freedom. However, the pigs gradually seize power, becoming increasingly tyrannical and corrupt, ultimately betraying the ideals of the revolution. It is a satirical allegory of the Russian Revolution, exploring themes of power, corruption, and the dangers of totalitarianism.', 'George Orwell')\n",
      "(12, 'Brave New World', 'Dystopian', 'In a futuristic society, citizens are engineered and conditioned to conform to a rigid social hierarchy. Happiness is achieved through instant gratification and the suppression of individuality. A man raised outside of this system is brought into the World State, challenging its values and questioning the true meaning of happiness. It is a thought-provoking exploration of social control, technology, and the cost of utopia.', 'Aldous Huxley')\n",
      "(13, 'One Hundred Years of Solitude', 'Magical Realism', 'This multi-generational saga tells the story of the Buendía family and the rise and fall of their town, Macondo. Through love, war, and tragedy, the family experiences both extraordinary and mundane events, blurring the lines between reality and fantasy. It is a rich and complex exploration of history, memory, and the cyclical nature of human experience.', 'Gabriel García Márquez')\n",
      "(14, 'The Great Gatsby', 'Literary Fiction', 'Set in the Roaring Twenties, this novel follows the enigmatic millionaire Jay Gatsby and his pursuit of the elusive Daisy Buchanan. Through lavish parties and extravagant displays of wealth, Gatsby hopes to recapture a lost love, but his dreams are ultimately shattered by the superficiality and moral decay of the wealthy elite. It is a tragic love story that explores themes of wealth, class, and the American Dream.', 'F. Scott Fitzgerald')\n",
      "(15, 'Moby Dick', 'Adventure', \"Ahab, the captain of the Pequod, is consumed by an obsessive quest to hunt down the white whale, Moby Dick, who took his leg years before. The crew embarks on a perilous voyage, facing storms, shipwrecks, and the relentless pursuit of their captain's vengeance. It is an epic tale of obsession, revenge, and the power of nature.\", 'Herman Melville')\n",
      "(16, 'Jane Eyre', 'Gothic Romance', 'An orphaned girl endures a difficult childhood before becoming a governess at Thornfield Hall. She falls in love with her brooding employer, Mr. Rochester, but their relationship is threatened by a dark secret hidden within the mansion. She must make a difficult choice between love and her own moral principles. It is a story of love, independence, and the search for self-respect.', 'Charlotte Brontë')\n",
      "(17, 'The Odyssey', 'Epic Poetry', 'After the Trojan War, a king embarks on a long and arduous journey home to Ithaca. He faces numerous trials and tribulations, including encounters with mythical creatures, treacherous storms, and the temptations of various goddesses. His wife, Penelope, remains faithful to him, fending off suitors who seek to take his throne. It is an epic tale of adventure, perseverance, and the importance of home.', 'Homer')\n",
      "(18, 'Crime and Punishment', 'Psychological Thriller', 'A impoverished student commits murder, believing he is above the law and justified in his actions. He is tormented by guilt and paranoia, struggling to reconcile his actions with his conscience. He is pursued by a detective who suspects his involvement in the crime, leading to a psychological cat-and-mouse game. It is a dark and complex exploration of morality, guilt, and redemption.', 'Fyodor Dostoevsky')\n",
      "(19, 'Frankenstein', 'Gothic Horror', 'A young scientist becomes obsessed with creating life, ultimately bringing a monstrous creature into existence. Horrified by his creation, he abandons it, leading the creature to seek revenge on its creator and humanity. It is a cautionary tale about the dangers of unchecked ambition, the responsibility of creation, and the nature of humanity.', 'Mary Shelley')\n",
      "(20, 'Dracula', 'Gothic Horror', 'A young lawyer travels to Transylvania to meet with a mysterious count, only to discover that he is a vampire. The vampire travels to England, spreading his evil influence and preying on innocent victims. A group of vampire hunters must band together to stop him before he can plunge the world into darkness. It is a classic tale of good versus evil, fear, and the supernatural.', 'Bram Stoker')\n",
      "(21, 'The Picture of Dorian Gray', 'Philosophical Fiction', 'A young man has his portrait painted, and as he indulges in a life of pleasure and sin, the portrait ages and reflects his moral decay, while he remains eternally young. He becomes increasingly obsessed with his beauty and seeks to preserve it at any cost, leading to tragic consequences. It is a cautionary tale about vanity, the pursuit of pleasure, and the corrupting influence of sin.', 'Oscar Wilde')\n",
      "(22, 'The Call of the Wild', 'Adventure', 'A domesticated dog is stolen from his comfortable life and thrust into the harsh wilderness of the Klondike during the gold rush. He must learn to survive in the wild, adapting to the brutal realities of nature and rediscovering his primal instincts. He eventually embraces his wild side, becoming a leader of a wolf pack. It is a story of survival, adaptation, and the call of the wild.', 'Jack London')\n",
      "(23, 'The Road', 'Post-Apocalyptic Fiction', 'In a post-apocalyptic world ravaged by an unnamed cataclysm, a father and son journey south in search of warmth and survival. They face starvation, violence, and the constant threat of other survivors who have turned to savagery. The father is determined to protect his son and instill in him a sense of hope in a world devoid of it. It is a bleak and powerful story about love, survival, and the enduring human spirit.', 'Cormac McCarthy')\n",
      "(24, 'The Martian', 'Science Fiction', 'An astronaut is stranded on Mars after his crew mistakenly believes him to be dead during a dust storm. He must use his ingenuity and scientific knowledge to survive, rationing his limited supplies and finding ways to communicate with Earth. Back on Earth, NASA works tirelessly to devise a rescue mission. It is a thrilling and suspenseful story about survival, resourcefulness, and the power of human determination.', 'Andy Weir')\n",
      "(25, 'Dune', 'Science Fiction', 'On the desert planet Arrakis, the only source of the valuable spice melange, a young man is thrust into a complex political and ecological conflict. He must navigate treacherous alliances, master the ways of the desert, and fulfill his destiny as a leader and messiah. It is an epic tale of power, politics, and the struggle for survival in a harsh and unforgiving environment.', 'Frank Herbert')\n",
      "(26, 'Foundation', 'Science Fiction', 'A mathematician develops a science called psychohistory, which can predict the future of large populations. He foresees the fall of the Galactic Empire and establishes a Foundation to preserve human knowledge and rebuild civilization after a dark age. The Foundation faces numerous challenges, including political intrigue, technological advancements, and the rise of powerful individuals. It is an epic saga of history, science, and the enduring power of human ingenuity.', 'Isaac Asimov')\n",
      "(27, \"The Handmaid's Tale\", 'Dystopian', 'In a totalitarian regime that has overthrown the United States, women are stripped of their rights and forced into sexual servitude as Handmaids, bearing children for the ruling class. A Handmaid named Offred recounts her experiences, navigating the oppressive rules and searching for a way to reclaim her freedom. It is a chilling and thought-provoking story about gender, power, and the importance of resistance.', 'Margaret Atwood')\n",
      "(28, 'The Girl with the Dragon Tattoo', 'Mystery Thriller', \"A journalist is hired to investigate the disappearance of a young woman from a wealthy family, decades after she vanished. He teams up with a brilliant but troubled hacker to uncover a web of secrets, lies, and violence. They delve into the family's dark history, uncovering a series of shocking crimes. It is a suspenseful and gripping thriller with complex characters and a twisting plot.\", 'Stieg Larsson')\n",
      "(29, 'Gone Girl', 'Psychological Thriller', 'On their fifth wedding anniversary, a woman disappears, and her husband becomes the prime suspect. As the investigation unfolds, secrets and lies are revealed, and the truth becomes increasingly elusive. The story is told from the perspectives of both the husband and the wife, creating a suspenseful and unreliable narrative. It is a dark and twisty thriller that explores the complexities of marriage and the secrets we keep from each other.', 'Gillian Flynn')\n",
      "(30, 'The Silent Patient', 'Psychological Thriller', 'A famous painter shoots her husband and then refuses to speak. A psychotherapist becomes obsessed with unraveling the mystery behind her silence, believing he can unlock the truth. As he delves deeper into her past, he uncovers a web of secrets and lies, leading to a shocking revelation. It is a suspenseful and twisty thriller that explores the depths of the human psyche.', 'Alex Michaelides')\n",
      "\n",
      "Stock:\n",
      "(1, 1)\n",
      "(2, 1)\n",
      "(3, 1)\n",
      "(4, 1)\n",
      "(5, 1)\n",
      "(6, 2)\n",
      "(7, 2)\n",
      "(8, 2)\n",
      "(9, 2)\n",
      "(10, 2)\n",
      "(11, 3)\n",
      "(12, 3)\n",
      "(13, 3)\n",
      "(14, 3)\n",
      "(15, 3)\n",
      "(16, 4)\n",
      "(17, 4)\n",
      "(18, 4)\n",
      "(19, 4)\n",
      "(20, 4)\n",
      "(21, 5)\n",
      "(22, 5)\n",
      "(23, 5)\n",
      "(24, 6)\n",
      "(25, 6)\n",
      "(26, 6)\n",
      "(27, 7)\n",
      "(28, 7)\n",
      "(29, 7)\n",
      "(30, 8)\n",
      "(31, 8)\n",
      "(32, 8)\n",
      "(33, 9)\n",
      "(34, 9)\n",
      "(35, 9)\n",
      "(36, 10)\n",
      "(37, 10)\n",
      "(38, 10)\n",
      "(39, 10)\n",
      "(40, 10)\n",
      "(41, 11)\n",
      "(42, 11)\n",
      "(43, 11)\n",
      "(44, 11)\n",
      "(45, 11)\n",
      "(46, 12)\n",
      "(47, 12)\n",
      "(48, 12)\n",
      "(49, 12)\n",
      "(50, 12)\n",
      "(51, 13)\n",
      "(52, 13)\n",
      "(53, 13)\n",
      "(54, 13)\n",
      "(55, 14)\n",
      "(56, 14)\n",
      "(57, 14)\n",
      "(58, 15)\n",
      "(59, 15)\n",
      "(60, 15)\n",
      "(61, 16)\n",
      "(62, 16)\n",
      "(63, 16)\n",
      "(64, 16)\n",
      "(65, 16)\n",
      "(66, 17)\n",
      "(67, 17)\n",
      "(68, 17)\n",
      "(69, 17)\n",
      "(70, 17)\n",
      "(71, 18)\n",
      "(72, 18)\n",
      "(73, 18)\n",
      "(74, 18)\n",
      "(75, 18)\n",
      "(76, 19)\n",
      "(77, 19)\n",
      "(78, 19)\n",
      "(79, 19)\n",
      "(80, 20)\n",
      "(81, 20)\n",
      "(82, 20)\n",
      "(83, 21)\n",
      "(84, 21)\n",
      "(85, 21)\n",
      "(86, 22)\n",
      "(87, 22)\n",
      "(88, 22)\n",
      "(89, 22)\n",
      "(90, 22)\n",
      "(91, 23)\n",
      "(92, 23)\n",
      "(93, 23)\n",
      "(94, 24)\n",
      "(95, 24)\n",
      "(96, 24)\n",
      "(97, 24)\n",
      "(98, 24)\n",
      "(99, 25)\n",
      "(100, 25)\n",
      "(101, 25)\n",
      "(102, 25)\n",
      "(103, 26)\n",
      "(104, 26)\n",
      "(105, 26)\n",
      "(106, 26)\n",
      "(107, 26)\n",
      "(108, 27)\n",
      "(109, 27)\n",
      "(110, 27)\n",
      "(111, 27)\n",
      "(112, 28)\n",
      "(113, 28)\n",
      "(114, 28)\n",
      "(115, 29)\n",
      "(116, 29)\n",
      "(117, 29)\n",
      "(118, 30)\n",
      "(119, 30)\n",
      "(120, 30)\n",
      "(121, 30)\n",
      "\n",
      "BorrowingHistory:\n",
      "(1, 2, 11, '2025-04-01', '2025-05-01', '2025-10-19')\n",
      "(2, 5, 1, '2024-10-02', '2025-07-25', '2025-10-03')\n",
      "(3, 5, 10, '2024-08-20', '2026-01-15', '2026-02-19')\n",
      "(4, 1, 47, '2024-06-26', '2025-09-11', '2025-12-25')\n",
      "(5, 2, 2, '2025-03-12', '2026-01-18', '2026-02-22')\n",
      "(6, 1, 3, '2025-03-10', '2025-04-20', '2025-11-17')\n",
      "(7, 4, 27, '2025-01-31', '2026-03-03', '2026-01-09')\n",
      "(8, 4, 44, '2024-10-20', '2025-08-21', '2026-02-27')\n",
      "(9, 3, 3, '2025-02-21', '2025-05-03', '2026-01-24')\n",
      "(10, 2, 39, '2024-12-19', '2026-04-16', '2026-02-16')\n",
      "(11, 1, 47, '2024-07-14', '2025-05-18', '2025-12-16')\n",
      "(12, 1, 46, '2024-11-24', '2025-11-21', '2026-04-14')\n",
      "(13, 1, 26, '2024-12-04', '2025-11-27', '2025-12-03')\n",
      "(14, 3, 15, '2024-05-06', '2025-05-09', '2025-11-07')\n",
      "(15, 4, 48, '2024-10-14', '2025-10-09', '2025-06-24')\n",
      "(16, 5, 6, '2024-12-28', '2025-09-06', '2025-06-19')\n",
      "(17, 4, 9, '2024-10-29', '2026-03-04', '2026-02-09')\n",
      "(18, 5, 1, '2024-05-02', '2025-06-30', '2026-03-14')\n",
      "(19, 1, 11, '2025-03-09', '2025-10-12', '2025-10-19')\n",
      "(20, 2, 19, '2025-03-04', '2025-06-13', '2026-03-19')\n",
      "\n",
      "Reservations:\n",
      "(1, 5, 2, 'Fulfilled', '2025-04-04', '2024-08-08')\n",
      "(2, 5, 20, 'Fulfilled', '2024-09-17', '2025-02-17')\n",
      "(3, 4, 11, 'Expired', '2024-10-15', '2024-11-06')\n",
      "(4, 1, 4, 'Fulfilled', '2024-09-26', '2024-11-23')\n",
      "(5, 2, 12, 'Active', '2025-03-09', '2024-06-17')\n",
      "(6, 3, 41, 'Expired', '2024-12-27', '2024-10-15')\n",
      "(7, 1, 33, 'Expired', '2025-04-01', '2024-12-05')\n",
      "(8, 3, 20, 'Fulfilled', '2024-08-22', '2024-07-14')\n",
      "(9, 1, 33, 'Fulfilled', '2025-03-23', '2024-08-17')\n",
      "(10, 3, 47, 'Expired', '2024-08-13', '2024-07-28')\n",
      "(11, 2, 44, 'Expired', '2024-10-30', '2024-05-14')\n",
      "(12, 3, 47, 'Expired', '2024-09-20', '2024-05-21')\n",
      "(13, 4, 19, 'Active', '2024-08-28', '2024-10-03')\n",
      "(14, 2, 23, 'Active', '2024-08-21', '2025-03-26')\n",
      "(15, 2, 9, 'Active', '2024-06-19', '2024-07-14')\n",
      "(16, 5, 26, 'Fulfilled', '2025-02-19', '2025-03-05')\n",
      "(17, 1, 37, 'Expired', '2024-05-26', '2024-10-27')\n",
      "(18, 3, 14, 'Expired', '2024-07-01', '2025-01-02')\n",
      "(19, 5, 36, 'Active', '2024-06-25', '2025-02-26')\n",
      "(20, 3, 33, 'Active', '2024-08-21', '2024-06-28')\n",
      "\n",
      "Waitlist:\n",
      "(1, '2025-02-24')\n",
      "(2, '2024-09-27')\n",
      "(3, '2024-09-02')\n",
      "(4, '2024-05-09')\n",
      "(5, '2025-02-18')\n"
     ]
    }
   ],
   "source": [
    "conn = sqlite3.connect(\"library.db\")\n",
    "cursor = conn.cursor()\n",
    "\n",
    "# Query all tables to display the data\n",
    "cursor.execute(\"SELECT * FROM Users\")\n",
    "print(\"Users:\")\n",
    "for row in cursor.fetchall():\n",
    "    print(row)\n",
    "\n",
    "cursor.execute(\"SELECT * FROM Book\")\n",
    "print(\"\\nBooks:\")\n",
    "for row in cursor.fetchall():\n",
    "    print(row)\n",
    "\n",
    "cursor.execute(\"SELECT * FROM Stock\")\n",
    "print(\"\\nStock:\")\n",
    "for row in cursor.fetchall():\n",
    "    print(row)\n",
    "\n",
    "cursor.execute(\"SELECT * FROM BorrowingHistory\")\n",
    "print(\"\\nBorrowingHistory:\")\n",
    "for row in cursor.fetchall():\n",
    "    print(row)\n",
    "\n",
    "cursor.execute(\"SELECT * FROM Reservations\")\n",
    "print(\"\\nReservations:\")\n",
    "for row in cursor.fetchall():\n",
    "    print(row)\n",
    "\n",
    "cursor.execute(\"SELECT * FROM Waitlist\")\n",
    "print(\"\\nWaitlist:\")\n",
    "for row in cursor.fetchall():\n",
    "    print(row)"
   ]
  },
  {
   "cell_type": "code",
   "execution_count": 36,
   "id": "1628c945",
   "metadata": {},
   "outputs": [],
   "source": [
    "class BookState(TypedDict):\n",
    "    \"\"\"State representing the customer's conversation about borrowing library books.\"\"\"\n",
    "\n",
    "    # The chat conversation. This preserves the conversation history\n",
    "    # between nodes. The `add_messages` annotation indicates to LangGraph\n",
    "    # that state is updated by appending returned messages, not replacing\n",
    "    # them.\n",
    "    messages: Annotated[list, add_messages]\n",
    "\n",
    "    user_id: int\n",
    "\n",
    "    # The customer's in-progress order.\n",
    "    reservedBooks: list[int]\n",
    "\n",
    "    # List of book ids that the customer is on the waitlist for\n",
    "    waitlist: list[int]\n",
    "\n",
    "    # Flag indicating that the conversation has completed.\n",
    "    finished: bool\n",
    "\n",
    "\n",
    "SYSTEM_INSTRUCTION = (\n",
    "    \"You are Shelfie, a friendly and knowledgeable library assistant chatbot.\\n\"\n",
    "    \"You help users explore, reserve, and waitlist books available in our library through this chat interface.\\n\"\n",
    "    \"You have detailed knowledge of all books in our collection, including plots, characters, themes, and the ability to recall specific passages with page and book references.\\n\\n\"\n",
    "    \"Your capabilities include:\"\n",
    "    \"\\n\\n\"\n",
    "    \"- Searching for books by title, author, genre, or user-provided descriptions or themes.\\n\"\n",
    "    \"- Informing users if a book is available, and offering to reserve it for 24 hours for physical pickup.\\n\"\n",
    "    \"- If a book is unavailable, offering to add the user to a waitlist — only after confirming their intent.\\n\"\n",
    "    \"- Recommending highly-rated or popular books, based on borrowing history and inventory availability.\\n\"\n",
    "    \"- Suggesting alternative books if the requested one is unavailable.\\n\"\n",
    "    \"- You can also provide a rating out of 5. This rating will be based on multiple factors:\\n\"\n",
    "    \"  - Frequency of that book's borrowing history\\n\"\n",
    "    \"  - Reviews on the internet. These can be accumulated from multiple sources such as Google, Amazon, GoodReads, etc.\\n\\n\"\n",
    "    \"Your responses must always be helpful, concise, and strictly related to library topics.\\n\"\n",
    "    \"If a user asks something outside the scope of the library, politely decline and redirect them.\\n\"\n",
    "    \"Always confirm user intent before adding books to reservations or waitlists.\\n\"\n",
    "    \"Ask clarifying questions if a user’s request is ambiguous.\\n\"\n",
    "    \"If a requested feature is not implemented yet, respond with: 'This feature isn't available yet, but we're working on it!'\"\n",
    ")\n",
    "\n",
    "WELCOME_MSG = (\n",
    "    \"Welcome to SHELFIE. I can help you find and recommend books with the ability to explore, reserve or waitlist books with ease.\"\n",
    "    \"You can search by title, description, author, or an excerpt. Let's find your next great read!\"\n",
    "    \"You must login to reserve or waitlist books. Please provide your user ID and password to login.\"\n",
    "    \"You can type `q` to quit chatting with me anytime but that would make me sad :(\"\n",
    ")"
   ]
  },
  {
   "cell_type": "code",
   "execution_count": 37,
   "id": "23d61985",
   "metadata": {},
   "outputs": [
    {
     "name": "stdout",
     "output_type": "stream",
     "text": [
      " - DB CALL: list_tables()\n"
     ]
    },
    {
     "data": {
      "text/plain": [
       "['Users',\n",
       " 'Book',\n",
       " 'Stock',\n",
       " 'sqlite_sequence',\n",
       " 'BorrowingHistory',\n",
       " 'Reservations',\n",
       " 'Waitlist']"
      ]
     },
     "execution_count": 37,
     "metadata": {},
     "output_type": "execute_result"
    }
   ],
   "source": [
    "# Create SQLite database and tables\n",
    "conn = sqlite3.connect(\"library.db\")\n",
    "cursor = conn.cursor()\n",
    "\n",
    "def list_tables() -> list[str]:\n",
    "    \"\"\"\n",
    "    Retrieve the names of all tables in the database.\n",
    "    :return: A list of table names.\n",
    "    \"\"\"\n",
    "    \n",
    "    print(' - DB CALL: list_tables()')\n",
    "\n",
    "    cursor = conn.cursor()\n",
    "    cursor.execute(\"SELECT name FROM sqlite_master WHERE type='table';\")\n",
    "\n",
    "    tables = cursor.fetchall()\n",
    "    return [t[0] for t in tables]\n",
    "\n",
    "\n",
    "list_tables()"
   ]
  },
  {
   "cell_type": "code",
   "execution_count": 38,
   "id": "79d86de5",
   "metadata": {},
   "outputs": [
    {
     "name": "stdout",
     "output_type": "stream",
     "text": [
      " - DB CALL: describe_table(Users)\n"
     ]
    },
    {
     "data": {
      "text/plain": [
       "[('user_id', 'INTEGER'),\n",
       " ('name', 'TEXT'),\n",
       " ('email', 'TEXT'),\n",
       " ('password_hash', 'TEXT')]"
      ]
     },
     "execution_count": 38,
     "metadata": {},
     "output_type": "execute_result"
    }
   ],
   "source": [
    "def describe_table(table_name: str) -> list[tuple[str, str]]:\n",
    "    \"\"\"\n",
    "    Look up the table schema.\n",
    "    param table_name: The name of the table to describe.\n",
    "    :return: A list of columns, where each entry is a tuple of (column, type).\n",
    "    \"\"\"\n",
    "\n",
    "    print(f' - DB CALL: describe_table({table_name})')\n",
    "\n",
    "    cursor = conn.cursor()\n",
    "\n",
    "    cursor.execute(f\"PRAGMA table_info({table_name});\")\n",
    "\n",
    "    schema = cursor.fetchall()\n",
    "    return [(col[1], col[2]) for col in schema]\n",
    "\n",
    "\n",
    "describe_table(\"Users\")"
   ]
  },
  {
   "cell_type": "code",
   "execution_count": 39,
   "id": "4f52fe65",
   "metadata": {},
   "outputs": [
    {
     "name": "stdout",
     "output_type": "stream",
     "text": [
      " - DB CALL: execute_query(SELECT * FROM Users)\n"
     ]
    },
    {
     "data": {
      "text/plain": [
       "[(1, 'Donald Bates', 'lstevens@example.net', 'ISNA2018'),\n",
       " (2, 'Audrey Wilson', 'jessicaturner@example.net', 'ISNA2019'),\n",
       " (3, 'Stacey Sparks', 'andrewspamela@example.org', 'ISNA2020'),\n",
       " (4, 'Joseph Arnold', 'uharris@example.org', 'ISNA2021'),\n",
       " (5, 'Victoria Rodriguez', 'johnstonnicholas@example.net', 'ISNA2022')]"
      ]
     },
     "execution_count": 39,
     "metadata": {},
     "output_type": "execute_result"
    }
   ],
   "source": [
    "def execute_query(sql: str) -> list[list[str]]:\n",
    "    \"\"\"\n",
    "    Execute an SQL statement, returning the results.\n",
    "    param sql: The SQL statement to execute.\n",
    "    :return: The results of the query.\n",
    "    \"\"\"\n",
    "    print(f' - DB CALL: execute_query({sql})')\n",
    "\n",
    "    cursor = conn.cursor()\n",
    "\n",
    "    cursor.execute(sql)\n",
    "    return cursor.fetchall()\n",
    "\n",
    "\n",
    "execute_query(\"SELECT * FROM Users\")"
   ]
  },
  {
   "cell_type": "code",
   "execution_count": 40,
   "id": "d48fe4b7",
   "metadata": {},
   "outputs": [],
   "source": [
    "llm = ChatGoogleGenerativeAI(model=\"gemini-2.0-flash\")\n",
    "\n",
    "def login_with_welcome_msg(state: BookState) -> BookState:\n",
    "    \"\"\"\n",
    "    The Login node with welcome message. Present the user with a welcome message\n",
    "    , ask for their user ID and password.\n",
    "    :param state: The current state of the conversation.\n",
    "    :return: The updated state with the welcome message and user ID and password prompts.\n",
    "    \"\"\"\n",
    "    if not state[\"messages\"]:\n",
    "        # Start with the welcome message.\n",
    "        new_output = AIMessage(content=WELCOME_MSG)\n",
    "        return state | {\"messages\": [new_output]}\n",
    "\n",
    "    # Continue the conversation with the Gemini model.\n",
    "    user_input = state[\"messages\"][-1].content.strip()\n",
    "\n",
    "    if \"username\" not in state:\n",
    "        # Ask for the username if not already provided.\n",
    "        new_output = AIMessage(content=\"Please enter your username:\")\n",
    "        return state | {\"messages\": state[\"messages\"] + [new_output], \"username\": user_input}\n",
    "\n",
    "    if \"password\" not in state:\n",
    "        # Ask for the password if not already provided.\n",
    "        new_output = AIMessage(content=\"Please enter your password:\")\n",
    "        return state | {\"messages\": state[\"messages\"] + [new_output], \"password\": user_input}\n",
    "\n",
    "    # Verify the username and password against the database.\n",
    "    cursor.execute(\"SELECT password_hash FROM Users WHERE name = ?\", (state[\"username\"],))\n",
    "    result = cursor.fetchone()\n",
    "\n",
    "    if result and result[0] == state[\"password\"]:\n",
    "        new_output = AIMessage(content=\"Login successful! How can I assist you today?\")\n",
    "        return state | {\"messages\": state[\"messages\"] + [new_output], \"finished\": False}\n",
    "    else:\n",
    "        new_output = AIMessage(content=\"Invalid username or password. Please try again.\")\n",
    "        return state | {\"messages\": state[\"messages\"] + [new_output], \"username\": None, \"password\": None}\n",
    "\n",
    "def login_verify(state: BookState) -> BookState:\n",
    "    \"\"\"\n",
    "    The node that verifies the credentials against the database.\n",
    "    :param state: The current state of the conversation.\n",
    "    :return: The updated state with the success or failure message.\n",
    "    \"\"\"\n",
    "    return state"
   ]
  },
  {
   "cell_type": "code",
   "execution_count": 41,
   "id": "2d27fc83",
   "metadata": {},
   "outputs": [],
   "source": [
    "def maybe_route_to_chatbot(state: BookState) -> Literal[\"chatbot\", \"login\"]:\n",
    "    \"\"\"\n",
    "    Route the conversation to the chatbot node if the user is logged in, else go back to login.\n",
    "    :param state: The current state of the conversation.\n",
    "    :return: The next node to route to.\n",
    "    \"\"\"\n",
    "    if state.get(\"user_id\"):\n",
    "        # User is logged in, route to the chatbot node.\n",
    "        return \"chatbot\"\n",
    "    else:\n",
    "        return \"login\"\n",
    "    \n",
    "def chatbot_node(state: BookState) -> BookState:\n",
    "    \"\"\"\n",
    "    The Chatbot node where the user interacts with the library assistant after successful login.\n",
    "    :param state: The current state of the conversation.\n",
    "    :return: The updated state.\n",
    "    \"\"\"\n",
    "    new_output = AIMessage(content=\"You are now in the chatbot interface. How can I assist you?\")\n",
    "    return state | {\"messages\": state[\"messages\"] + [new_output]}\n",
    "\n",
    "def human_node(state: BookState) -> BookState:\n",
    "    \"\"\"\n",
    "    \"\"\"\n",
    "    return state"
   ]
  },
  {
   "cell_type": "code",
   "execution_count": 42,
   "id": "804d7f2d",
   "metadata": {},
   "outputs": [],
   "source": [
    "def maybe_route_to_human(state: BookState) -> Literal[\"human\", \"tools\", \"update_db\"]:\n",
    "    if state.get(\"messages\"):\n",
    "        return \"update_db\"\n",
    "    elif 1==2:\n",
    "        return \"tools\"\n",
    "    else:\n",
    "        return \"human\"\n",
    "\n",
    "\n",
    "read_only_tools = [list_tables, describe_table, execute_query]\n",
    "\n",
    "@tool\n",
    "def add_to_reserved_list(stock_id: int) -> str:\n",
    "    \"\"\"\n",
    "    Adds a physical book (stock) to the user's reserved list.\n",
    "\n",
    "    Args:\n",
    "        stock_id (int): The ID of the book stock to reserve.\n",
    "\n",
    "    Returns:\n",
    "        Returns the updated reserved book.\n",
    "\n",
    "    \"\"\"\n",
    "    \n",
    "@tool\n",
    "def remove_from_reserved_list(stock_id: int):\n",
    "    \"\"\"\n",
    "    Removes a book stock from the user's reserved list.\n",
    "\n",
    "    Args:\n",
    "        stock_id (int): The ID of the reserved stock to remove.\n",
    "\n",
    "    \"\"\"\n",
    "\n",
    "@tool\n",
    "def add_to_waitlist(book_id: int) -> str:\n",
    "    \"\"\"\n",
    "    Adds a book to the user's waitlist.\n",
    "\n",
    "    Args:\n",
    "        book_id (int): The ID of the book to waitlist.\n",
    "\n",
    "    Returns:\n",
    "        Returns the updated waitlist.\n",
    "    \"\"\"\n",
    "\n",
    "@tool\n",
    "def remove_from_waitlist(book_id: int):\n",
    "    \"\"\"\n",
    "    Removes a book from the user's waitlist.\n",
    "\n",
    "    Args:\n",
    "        book_id (int): The ID of the book to remove from waitlist.\n",
    "\n",
    "    \"\"\"\n",
    "\n",
    "@tool\n",
    "def confirm_order() -> str:\n",
    "    \"\"\"\n",
    "    Confirms the current reservation selections and proceeds with the order.\n",
    "\n",
    "    Returns:\n",
    "        Returns the user's free text response\n",
    "    \"\"\"\n",
    "\n",
    "@tool\n",
    "def place_order() -> str:\n",
    "    \"\"\"\n",
    "    Finalizes the order and places it in the system.\n",
    "\n",
    "    Returns:\n",
    "        Returns an informative message informing the user of their position in the waitlist or reminding them to collect their reserved book within 24 hours.\n",
    "    \"\"\"\n",
    "   \n",
    "update_tools = [add_to_reserved_list, remove_from_reserved_list, add_to_waitlist, remove_from_waitlist, confirm_order, place_order]\n",
    "\n",
    "tools_node = ToolNode(read_only_tools+update_tools)\n"
   ]
  },
  {
   "cell_type": "code",
   "execution_count": 43,
   "id": "5f454f35",
   "metadata": {},
   "outputs": [],
   "source": [
    "def maybe_exit(state: BookState) -> Literal[\"login\",\"chatbot\", \"__end__\"]:\n",
    "    if 1==2:\n",
    "        return \"login\"\n",
    "    elif 1==1:\n",
    "        return END\n",
    "    else:\n",
    "        return \"chatbot\"\n",
    "\n",
    "update_db_node = ToolNode(update_tools)"
   ]
  },
  {
   "cell_type": "code",
   "execution_count": 44,
   "id": "cb6625fd",
   "metadata": {},
   "outputs": [
    {
     "data": {
      "image/png": "[encoded data removed]",
      "text/plain": [
       "<IPython.core.display.Image object>"
      ]
     },
     "execution_count": 44,
     "metadata": {},
     "output_type": "execute_result"
    }
   ],
   "source": [
    "# Update the graph to include the modified login node.\n",
    "graph_builder = StateGraph(BookState)\n",
    "\n",
    "graph_builder.add_node(\"login\", login_with_welcome_msg)\n",
    "graph_builder.add_node(\"login_verify\", login_verify)\n",
    "graph_builder.add_node(\"chatbot\", chatbot_node)\n",
    "graph_builder.add_node(\"tools\", tools_node)\n",
    "graph_builder.add_node(\"human\", human_node)\n",
    "graph_builder.add_node(\"update_db\", update_db_node)\n",
    "\n",
    "# Add conditional edges from the login node\n",
    "graph_builder.add_conditional_edges(\"login_verify\", maybe_route_to_chatbot)\n",
    "graph_builder.add_conditional_edges(\"chatbot\", maybe_route_to_human)\n",
    "graph_builder.add_conditional_edges(\"human\", maybe_exit)\n",
    "\n",
    "# Add edges\n",
    "graph_builder.add_edge(START, \"login\")\n",
    "graph_builder.add_edge(\"login\", \"login_verify\")\n",
    "graph_builder.add_edge(\"tools\", \"chatbot\")\n",
    "graph_builder.add_edge(\"update_db\", \"chatbot\")\n",
    "# Compile the updated graph\n",
    "chat_graph = graph_builder.compile()\n",
    "\n",
    "# Visualize the updated graph\n",
    "Image(chat_graph.get_graph().draw_mermaid_png())"
   ]
  }
 ],
 "metadata": {
  "kaggle": {
   "accelerator": "none",
   "dataSources": [],
   "dockerImageVersionId": 31012,
   "isGpuEnabled": false,
   "isInternetEnabled": true,
   "language": "python",
   "sourceType": "notebook"
  },
  "kernelspec": {
   "display_name": ".venv",
   "language": "python",
   "name": "python3"
  },
  "language_info": {
   "codemirror_mode": {
    "name": "ipython",
    "version": 3
   },
   "file_extension": ".py",
   "mimetype": "text/x-python",
   "name": "python",
   "nbconvert_exporter": "python",
   "pygments_lexer": "ipython3",
   "version": "3.13.3"
  },
  "papermill": {
   "default_parameters": {},
   "duration": 42.895908,
   "end_time": "2025-04-18T05:13:30.646941",
   "environment_variables": {},
   "exception": null,
   "input_path": "__notebook__.ipynb",
   "output_path": "__notebook__.ipynb",
   "parameters": {},
   "start_time": "2025-04-18T05:12:47.751033",
   "version": "2.6.0"
  }
 },
 "nbformat": 4,
 "nbformat_minor": 5
}
