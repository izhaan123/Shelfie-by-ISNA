{
 "cells": [
  {
   "cell_type": "markdown",
   "id": "e4531fdb",
   "metadata": {
    "papermill": {
     "duration": 0.004532,
     "end_time": "2025-04-18T05:12:52.385895",
     "exception": false,
     "start_time": "2025-04-18T05:12:52.381363",
     "status": "completed"
    },
    "tags": []
   },
   "source": [
    "# SHELFIE"
   ]
  },
  {
   "cell_type": "markdown",
   "id": "d7f26fc4",
   "metadata": {
    "papermill": {
     "duration": 0.003352,
     "end_time": "2025-04-18T05:12:52.393113",
     "exception": false,
     "start_time": "2025-04-18T05:12:52.389761",
     "status": "completed"
    },
    "tags": []
   },
   "source": [
    "Run all neccessary pip installs"
   ]
  },
  {
   "cell_type": "code",
   "execution_count": null,
   "id": "40b76d77",
   "metadata": {
    "execution": {
     "iopub.execute_input": "2025-04-18T05:12:52.401393Z",
     "iopub.status.busy": "2025-04-18T05:12:52.401091Z",
     "iopub.status.idle": "2025-04-18T05:13:06.615989Z",
     "shell.execute_reply": "2025-04-18T05:13:06.614914Z"
    },
    "papermill": {
     "duration": 14.221419,
     "end_time": "2025-04-18T05:13:06.618123",
     "exception": false,
     "start_time": "2025-04-18T05:12:52.396704",
     "status": "completed"
    },
    "tags": []
   },
   "outputs": [],
   "source": [
    "%pip uninstall -qqy jupyterlab \n",
    "# Remove unused conflicting packages\n",
    "%pip install -U -q \"google-genai==1.7.0\"\n",
    "%pip install faker\n",
    "%pip install google-api-python-client\n",
    "%pip install dotenv"
   ]
  },
  {
   "cell_type": "markdown",
   "id": "e5dfd67f",
   "metadata": {
    "papermill": {
     "duration": 0.004127,
     "end_time": "2025-04-18T05:13:06.627006",
     "exception": false,
     "start_time": "2025-04-18T05:13:06.622879",
     "status": "completed"
    },
    "tags": []
   },
   "source": [
    "Do all the neccessary imports to declutter code below. Also verify genai is being imported correctly."
   ]
  },
  {
   "cell_type": "code",
   "execution_count": null,
   "id": "9608aaa2",
   "metadata": {
    "execution": {
     "iopub.execute_input": "2025-04-18T05:13:06.637638Z",
     "iopub.status.busy": "2025-04-18T05:13:06.636670Z",
     "iopub.status.idle": "2025-04-18T05:13:08.264483Z",
     "shell.execute_reply": "2025-04-18T05:13:08.263120Z"
    },
    "papermill": {
     "duration": 1.634866,
     "end_time": "2025-04-18T05:13:08.266117",
     "exception": false,
     "start_time": "2025-04-18T05:13:06.631251",
     "status": "completed"
    },
    "tags": []
   },
   "outputs": [],
   "source": [
    "import sqlite3\n",
    "import random\n",
    "from faker import Faker\n",
    "from google import genai\n",
    "from google.genai import types\n",
    "from google.api_core import retry\n",
    "from typing import Final\n",
    "from IPython.display import Markdown, display\n",
    "from pprint import pprint\n",
    "print(genai.__version__)"
   ]
  },
  {
   "cell_type": "markdown",
   "id": "2bd2a5d4",
   "metadata": {},
   "source": [
    "Set up `GOOGLE_API_KEY` for both Kaggle and local development."
   ]
  },
  {
   "cell_type": "code",
   "execution_count": null,
   "id": "2986da7e",
   "metadata": {},
   "outputs": [],
   "source": [
    "import os\n",
    "from dotenv import load_dotenv\n",
    "\n",
    "try:\n",
    "    from kaggle_secrets import UserSecretsClient\n",
    "    IS_KAGGLE = True\n",
    "except ImportError:\n",
    "    IS_KAGGLE = False\n",
    "\n",
    "# Load environment variables from .env file for local setup\n",
    "if not IS_KAGGLE:\n",
    "    load_dotenv()\n",
    "\n",
    "# Fetch the Google API key\n",
    "if IS_KAGGLE:\n",
    "    GOOGLE_API_KEY = UserSecretsClient().get_secret(\"GOOGLE_API_KEY\")\n",
    "else:\n",
    "    GOOGLE_API_KEY = os.getenv(\"GOOGLE_API_KEY\")\n",
    "\n",
    "if not GOOGLE_API_KEY:\n",
    "    raise ValueError(\"Google API key not found. Please set it in the appropriate environment.\")"
   ]
  },
  {
   "cell_type": "code",
   "execution_count": null,
   "id": "d63a5ea7",
   "metadata": {
    "execution": {
     "iopub.execute_input": "2025-04-18T05:13:08.284529Z",
     "iopub.status.busy": "2025-04-18T05:13:08.284049Z",
     "iopub.status.idle": "2025-04-18T05:13:08.443751Z",
     "shell.execute_reply": "2025-04-18T05:13:08.443052Z"
    },
    "papermill": {
     "duration": 0.166477,
     "end_time": "2025-04-18T05:13:08.445296",
     "exception": false,
     "start_time": "2025-04-18T05:13:08.278819",
     "status": "completed"
    },
    "tags": []
   },
   "outputs": [],
   "source": [
    "NUM_BOOKS: Final[int] = 30"
   ]
  },
  {
   "cell_type": "code",
   "execution_count": null,
   "id": "b743fc60",
   "metadata": {
    "execution": {
     "iopub.execute_input": "2025-04-18T05:13:08.455299Z",
     "iopub.status.busy": "2025-04-18T05:13:08.454998Z",
     "iopub.status.idle": "2025-04-18T05:13:08.459899Z",
     "shell.execute_reply": "2025-04-18T05:13:08.459188Z"
    },
    "papermill": {
     "duration": 0.011495,
     "end_time": "2025-04-18T05:13:08.461255",
     "exception": false,
     "start_time": "2025-04-18T05:13:08.449760",
     "status": "completed"
    },
    "tags": []
   },
   "outputs": [],
   "source": [
    "# Define a retry policy. The model might make multiple consecutive calls automatically\n",
    "# for a complex query, this ensures the client retries if it hits quota limits.\n",
    "is_retriable = lambda e: (isinstance(e, genai.errors.APIError) and e.code in {429, 503})\n",
    "\n",
    "if not hasattr(genai.models.Models.generate_content, '__wrapped__'):\n",
    "  genai.models.Models.generate_content = retry.Retry(\n",
    "      predicate=is_retriable)(genai.models.Models.generate_content)"
   ]
  },
  {
   "cell_type": "code",
   "execution_count": null,
   "id": "8a9e06db",
   "metadata": {
    "execution": {
     "iopub.execute_input": "2025-04-18T05:13:08.471088Z",
     "iopub.status.busy": "2025-04-18T05:13:08.470760Z",
     "iopub.status.idle": "2025-04-18T05:13:08.475173Z",
     "shell.execute_reply": "2025-04-18T05:13:08.474295Z"
    },
    "papermill": {
     "duration": 0.010882,
     "end_time": "2025-04-18T05:13:08.476590",
     "exception": false,
     "start_time": "2025-04-18T05:13:08.465708",
     "status": "completed"
    },
    "tags": []
   },
   "outputs": [],
   "source": [
    "#SYSTEM_INSTRUCTION: \"You are Shelfie, a library chatbot facilitating book borrowing through this chat interface. Your knowledge encompasses all books available in our library, including detailed understanding of plots, characters, themes, and precise recall of passages with corresponding page and book information. You can also provide a rating out of 5 for each book. When a requested book is unavailable, offer recommendations for highly-rated alternatives within our current inventory.\""
   ]
  },
  {
   "cell_type": "code",
   "execution_count": null,
   "id": "977a8c78",
   "metadata": {
    "execution": {
     "iopub.execute_input": "2025-04-18T05:13:08.486569Z",
     "iopub.status.busy": "2025-04-18T05:13:08.486122Z",
     "iopub.status.idle": "2025-04-18T05:13:08.490676Z",
     "shell.execute_reply": "2025-04-18T05:13:08.489816Z"
    },
    "papermill": {
     "duration": 0.010997,
     "end_time": "2025-04-18T05:13:08.492067",
     "exception": false,
     "start_time": "2025-04-18T05:13:08.481070",
     "status": "completed"
    },
    "tags": []
   },
   "outputs": [],
   "source": [
    "# Remove existing database file (if it exists)\n",
    "db_file = \"library.db\"\n",
    "if os.path.exists(db_file):\n",
    "    os.remove(db_file)"
   ]
  },
  {
   "cell_type": "code",
   "execution_count": null,
   "id": "a9e6d42a",
   "metadata": {
    "execution": {
     "iopub.execute_input": "2025-04-18T05:13:08.502190Z",
     "iopub.status.busy": "2025-04-18T05:13:08.501394Z",
     "iopub.status.idle": "2025-04-18T05:13:08.506668Z",
     "shell.execute_reply": "2025-04-18T05:13:08.505868Z"
    },
    "papermill": {
     "duration": 0.01164,
     "end_time": "2025-04-18T05:13:08.508037",
     "exception": false,
     "start_time": "2025-04-18T05:13:08.496397",
     "status": "completed"
    },
    "tags": []
   },
   "outputs": [],
   "source": [
    "from dataclasses import dataclass\n",
    "\n",
    "@dataclass\n",
    "class Book:\n",
    "    name: str\n",
    "    genre: str\n",
    "    description: str\n",
    "    author: str"
   ]
  },
  {
   "cell_type": "code",
   "execution_count": null,
   "id": "5bda3346",
   "metadata": {
    "execution": {
     "iopub.execute_input": "2025-04-18T05:13:08.518002Z",
     "iopub.status.busy": "2025-04-18T05:13:08.517654Z",
     "iopub.status.idle": "2025-04-18T05:13:08.526981Z",
     "shell.execute_reply": "2025-04-18T05:13:08.526249Z"
    },
    "papermill": {
     "duration": 0.016181,
     "end_time": "2025-04-18T05:13:08.528506",
     "exception": false,
     "start_time": "2025-04-18T05:13:08.512325",
     "status": "completed"
    },
    "tags": []
   },
   "outputs": [],
   "source": [
    "def generate_books_list(num_books: int) -> list[Book]:\n",
    "    \"\"\"\n",
    "    Asks Gemini to create a list of\n",
    "    \n",
    "    return: A list of Book objects.\n",
    "    \"\"\"\n",
    "    prompt = \"\"\"\n",
    "    Generate a list of exactly {num_books} books of any genre. For each book, provide the name, genre, a description of about 1000 characters, and the author.\n",
    "    Do not include the author's name in the description. Return the result as a JSON array of book objects with the keys: \"name\", \"genre\", \"description\", and \"author\".\n",
    "    Examples of a \"name\", \"genre\", \"description\", and \"author\" are provided below:\n",
    "    1) \"To Kill a Mockingbird\", \"Fiction\", \"A gripping tale set in the racially charged American South, exploring themes of justice, morality, and the loss of innocence. Perfect for readers who appreciate profound social commentary interwoven with compelling storytelling.\", \"Harper Lee\"\n",
    "    2) \"1984\", \"Dystopian\", \"A chilling vision of a totalitarian future where surveillance and control pervade every aspect of life. Ideal for fans of thought-provoking and cautionary tales.\", \"George Orwell\"\n",
    "    \"\"\"\n",
    "\n",
    "    if num_books < 1:\n",
    "        raise Exception(\"Need to generate at least one Book.\")\n",
    "    \n",
    "    prompt = prompt.format(num_books = num_books)\n",
    "    client = genai.Client(api_key=GOOGLE_API_KEY)\n",
    "    \n",
    "    structured_output_config = types.GenerateContentConfig(\n",
    "        response_mime_type=\"application/json\",\n",
    "        response_schema={\n",
    "            \"type\": \"array\",\n",
    "            \"items\": {\n",
    "                \"type\": \"object\",\n",
    "                \"properties\": {\n",
    "                    \"name\": {\"type\": \"string\"},\n",
    "                    \"genre\": {\"type\": \"string\"},\n",
    "                    \"description\": {\"type\": \"string\"},\n",
    "                    \"author\": {\"type\": \"string\"}\n",
    "                },\n",
    "                \"required\": [\"name\", \"genre\", \"description\", \"author\"]\n",
    "            }\n",
    "        },\n",
    "        temperature=0.3\n",
    "    )\n",
    "\n",
    "    response_len = 0\n",
    "\n",
    "    while response_len != num_books:\n",
    "        chat = client.chats.create(model='gemini-2.0-flash')\n",
    "        response = chat.send_message(\n",
    "          message=prompt,\n",
    "          config=structured_output_config,\n",
    "        )\n",
    "        structured_eval = response.parsed\n",
    "        book_objects = [Book(**book) for book in response.parsed]\n",
    "        response_len = len(book_objects)\n",
    "    \n",
    "    return book_objects"
   ]
  },
  {
   "cell_type": "markdown",
   "id": "34bc45bf",
   "metadata": {
    "papermill": {
     "duration": 0.003965,
     "end_time": "2025-04-18T05:13:08.536845",
     "exception": false,
     "start_time": "2025-04-18T05:13:08.532880",
     "status": "completed"
    },
    "tags": []
   },
   "source": [
    "Do a basic check to see that an exception is raised when the user provides `num_books` < 1."
   ]
  },
  {
   "cell_type": "code",
   "execution_count": null,
   "id": "3c6b2c75",
   "metadata": {
    "execution": {
     "iopub.execute_input": "2025-04-18T05:13:08.546312Z",
     "iopub.status.busy": "2025-04-18T05:13:08.546041Z",
     "iopub.status.idle": "2025-04-18T05:13:08.550949Z",
     "shell.execute_reply": "2025-04-18T05:13:08.550062Z"
    },
    "papermill": {
     "duration": 0.011377,
     "end_time": "2025-04-18T05:13:08.552387",
     "exception": false,
     "start_time": "2025-04-18T05:13:08.541010",
     "status": "completed"
    },
    "tags": []
   },
   "outputs": [],
   "source": [
    "try:\n",
    "    generate_books_list(0)\n",
    "except:\n",
    "    print(\"Expected error when calling generate_books_list with 0 books.\\n\\n\")"
   ]
  },
  {
   "cell_type": "markdown",
   "id": "01e736cf",
   "metadata": {
    "papermill": {
     "duration": 0.004087,
     "end_time": "2025-04-18T05:13:08.561187",
     "exception": false,
     "start_time": "2025-04-18T05:13:08.557100",
     "status": "completed"
    },
    "tags": []
   },
   "source": [
    "Call `generate_books_list` with `NUM_BOOKS`. The time it takes to run the line of code is non-deterministic. This is the number of books produced by gemini is not consitent."
   ]
  },
  {
   "cell_type": "code",
   "execution_count": null,
   "id": "2e751a14",
   "metadata": {
    "execution": {
     "iopub.execute_input": "2025-04-18T05:13:08.570820Z",
     "iopub.status.busy": "2025-04-18T05:13:08.570502Z",
     "iopub.status.idle": "2025-04-18T05:13:27.768018Z",
     "shell.execute_reply": "2025-04-18T05:13:27.767247Z"
    },
    "papermill": {
     "duration": 19.204066,
     "end_time": "2025-04-18T05:13:27.769558",
     "exception": false,
     "start_time": "2025-04-18T05:13:08.565492",
     "status": "completed"
    },
    "tags": []
   },
   "outputs": [],
   "source": [
    "books_list = generate_books_list(NUM_BOOKS)"
   ]
  },
  {
   "cell_type": "markdown",
   "id": "724d42fb",
   "metadata": {
    "papermill": {
     "duration": 0.004093,
     "end_time": "2025-04-18T05:13:27.778686",
     "exception": false,
     "start_time": "2025-04-18T05:13:27.774593",
     "status": "completed"
    },
    "tags": []
   },
   "source": [
    "Do some validation on the generated output. Verify if the generated list is indeed of length 30. If it's not try running it again. Print the top 5 for inspection."
   ]
  },
  {
   "cell_type": "code",
   "execution_count": null,
   "id": "f4815441",
   "metadata": {
    "execution": {
     "iopub.execute_input": "2025-04-18T05:13:27.788289Z",
     "iopub.status.busy": "2025-04-18T05:13:27.787985Z",
     "iopub.status.idle": "2025-04-18T05:13:27.794250Z",
     "shell.execute_reply": "2025-04-18T05:13:27.793147Z"
    },
    "papermill": {
     "duration": 0.012869,
     "end_time": "2025-04-18T05:13:27.795804",
     "exception": false,
     "start_time": "2025-04-18T05:13:27.782935",
     "status": "completed"
    },
    "tags": []
   },
   "outputs": [],
   "source": [
    "assert(len(books_list) == NUM_BOOKS)\n",
    "assert(all([True for book in books_list if type(book) == Book]))\n",
    "pprint(books_list[:5])"
   ]
  },
  {
   "cell_type": "code",
   "execution_count": null,
   "id": "b5da5a84",
   "metadata": {
    "execution": {
     "iopub.execute_input": "2025-04-18T05:13:27.806341Z",
     "iopub.status.busy": "2025-04-18T05:13:27.806058Z",
     "iopub.status.idle": "2025-04-18T05:13:27.941463Z",
     "shell.execute_reply": "2025-04-18T05:13:27.940585Z"
    },
    "papermill": {
     "duration": 0.142574,
     "end_time": "2025-04-18T05:13:27.942910",
     "exception": false,
     "start_time": "2025-04-18T05:13:27.800336",
     "status": "completed"
    },
    "tags": []
   },
   "outputs": [],
   "source": [
    "# Initialize Faker instance\n",
    "fake = Faker()\n",
    "\n",
    "# Create SQLite database and tables\n",
    "conn = sqlite3.connect(\"library.db\")\n",
    "cursor = conn.cursor()\n",
    "\n",
    "cursor.execute(\"\"\"\n",
    "CREATE TABLE IF NOT EXISTS Users (\n",
    "    user_id INTEGER PRIMARY KEY,\n",
    "    name TEXT,\n",
    "    email TEXT,\n",
    "    password_hash TEXT\n",
    ")\n",
    "\"\"\")\n",
    "\n",
    "cursor.execute(\"\"\"\n",
    "CREATE TABLE IF NOT EXISTS Book (\n",
    "    book_id INTEGER PRIMARY KEY,\n",
    "    name TEXT,\n",
    "    genre TEXT,\n",
    "    description TEXT,\n",
    "    author TEXT\n",
    ")\n",
    "\"\"\")\n",
    "\n",
    "cursor.execute(\"\"\"\n",
    "CREATE TABLE IF NOT EXISTS Stock (\n",
    "    stock_id INTEGER PRIMARY KEY AUTOINCREMENT,\n",
    "    book_id INTEGER,\n",
    "    FOREIGN KEY (book_id) REFERENCES Book(book_id)\n",
    ")\n",
    "\"\"\")\n",
    "\n",
    "cursor.execute(\"\"\"\n",
    "CREATE TABLE IF NOT EXISTS BorrowingHistory (\n",
    "    entry_id INTEGER PRIMARY KEY,\n",
    "    user_id INTEGER,\n",
    "    stock_id INTEGER,\n",
    "    borrowed_on DATE,\n",
    "    returned_on DATE,\n",
    "    due_by DATE,\n",
    "    FOREIGN KEY (user_id) REFERENCES Users(user_id),\n",
    "    FOREIGN KEY (stock_id) REFERENCES Stock(stock_id)\n",
    ")\n",
    "\"\"\")\n",
    "\n",
    "cursor.execute(\"\"\"\n",
    "CREATE TABLE IF NOT EXISTS Reservations (\n",
    "    reservation_id INTEGER PRIMARY KEY,\n",
    "    user_id INTEGER,\n",
    "    book_id INTEGER,\n",
    "    status TEXT,\n",
    "    last_updated DATE,\n",
    "    reserved_on DATE,\n",
    "    FOREIGN KEY (user_id) REFERENCES Users(user_id),\n",
    "    FOREIGN KEY (book_id) REFERENCES Book(book_id)\n",
    ")\n",
    "\"\"\")\n",
    "\n",
    "cursor.execute(\"\"\"\n",
    "CREATE TABLE IF NOT EXISTS Waitlist (\n",
    "    book_id INTEGER,\n",
    "    waitlisted_on DATE,\n",
    "    FOREIGN KEY (book_id) REFERENCES Book(book_id)\n",
    ")\n",
    "\"\"\")\n",
    "\n",
    "passwords = [\"ISNA2018\", \"ISNA2019\", \"ISNA2020\", \"ISNA2021\", \"ISNA2022\"]\n",
    "# Generate and insert sample data for Users table\n",
    "for user_id in range(1, 6):\n",
    "    cursor.execute(\"\"\"\n",
    "    INSERT INTO Users (user_id, name, email, password_hash)\n",
    "    VALUES (?, ?, ?, ?)\n",
    "    \"\"\", (user_id, fake.name(), fake.email(), passwords[user_id - 1]))\n",
    "\n",
    "# Insert real books into Book table\n",
    "for book_id, book in enumerate(books_list, start=1):\n",
    "    cursor.execute(\"\"\"\n",
    "    INSERT INTO Book (book_id, name, genre, description, author)\n",
    "    VALUES (?, ?, ?, ?, ?)\n",
    "    \"\"\", (book_id, book.name, book.genre, book.description, book.author))\n",
    "\n",
    "# Generate and insert sample data for Stock table\n",
    "for book_id in range(1, 31):\n",
    "    num_books = random.randint(3, 5)\n",
    "    j = 0\n",
    "    while (j < num_books):\n",
    "        cursor.execute(\"\"\"\n",
    "        INSERT INTO Stock (book_id)\n",
    "        VALUES (?)\n",
    "        \"\"\", (book_id, ))\n",
    "        j += 1\n",
    "\n",
    "# Generate and insert sample data for BorrowingHistory table\n",
    "for entry_id in range(1, 21):\n",
    "    cursor.execute(\"\"\"\n",
    "    INSERT INTO BorrowingHistory (entry_id, user_id, stock_id, borrowed_on, returned_on, due_by)\n",
    "    VALUES (?, ?, ?, ?, ?)\n",
    "    \"\"\", (entry_id, random.randint(1, 5), random.randint(1, 50), fake.date_between(start_date=\"-1y\", end_date=\"-1d\"), fake.date_between(start_date=\"+1d\", end_date=\"+1y\"), fake.date_between(start_date=\"+1d\", end_date=\"+1y\")))\n",
    "\n",
    "# Generate and insert sample data for Reservations table\n",
    "for reservation_id in range(1, 21):\n",
    "    cursor.execute(\"\"\"\n",
    "    INSERT INTO Reservations (reservation_id, user_id, book_id, status, last_updated, reserved_on)\n",
    "    VALUES (?, ?, ?, ?, ?, ?)\n",
    "    \"\"\", (reservation_id, random.randint(1, 5), random.randint(1, 50), random.choice([\"Active\", \"Fulfilled\", \"Expired\"]), fake.date_between(start_date=\"-1y\", end_date=\"today\"), fake.date_between(start_date=\"-1y\", end_date=\"today\")))\n",
    "\n",
    "# Generate and insert sample data for Waitlist table\n",
    "for book_id in range(1, 6):\n",
    "    cursor.execute(\"\"\"\n",
    "    INSERT INTO Waitlist (book_id, waitlisted_on)\n",
    "    VALUES (?, ?)\n",
    "    \"\"\", (book_id, fake.date_between(start_date=\"-1y\", end_date=\"today\")))\n",
    "\n",
    "# Commit changes and close connection\n",
    "conn.commit()\n",
    "conn.close()\n",
    "\n",
    "print(\"Sample data has been inserted into the SQLite database.\")\n"
   ]
  },
  {
   "cell_type": "code",
   "execution_count": null,
   "id": "cf50c436",
   "metadata": {
    "execution": {
     "iopub.execute_input": "2025-04-18T05:13:27.953390Z",
     "iopub.status.busy": "2025-04-18T05:13:27.952704Z",
     "iopub.status.idle": "2025-04-18T05:13:27.962488Z",
     "shell.execute_reply": "2025-04-18T05:13:27.961698Z"
    },
    "papermill": {
     "duration": 0.016679,
     "end_time": "2025-04-18T05:13:27.964173",
     "exception": false,
     "start_time": "2025-04-18T05:13:27.947494",
     "status": "completed"
    },
    "tags": []
   },
   "outputs": [],
   "source": [
    "conn = sqlite3.connect(\"library.db\")\n",
    "cursor = conn.cursor()\n",
    "\n",
    "# Query all tables to display the data\n",
    "cursor.execute(\"SELECT * FROM Users\")\n",
    "print(\"Users:\")\n",
    "for row in cursor.fetchall():\n",
    "    print(row)\n",
    "\n",
    "cursor.execute(\"SELECT * FROM Book\")\n",
    "print(\"\\nBooks:\")\n",
    "for row in cursor.fetchall():\n",
    "    print(row)\n",
    "\n",
    "cursor.execute(\"SELECT * FROM Stock\")\n",
    "print(\"\\nStock:\")\n",
    "for row in cursor.fetchall():\n",
    "    print(row)\n",
    "\n",
    "cursor.execute(\"SELECT * FROM BorrowingHistory\")\n",
    "print(\"\\nBorrowingHistory:\")\n",
    "for row in cursor.fetchall():\n",
    "    print(row)\n",
    "\n",
    "cursor.execute(\"SELECT * FROM Reservations\")\n",
    "print(\"\\nReservations:\")\n",
    "for row in cursor.fetchall():\n",
    "    print(row)\n",
    "\n",
    "cursor.execute(\"SELECT * FROM Waitlist\")\n",
    "print(\"\\nWaitlist:\")\n",
    "for row in cursor.fetchall():\n",
    "    print(row)"
   ]
  },
  {
   "cell_type": "code",
   "execution_count": null,
   "id": "81f99d5b",
   "metadata": {
    "_cell_guid": "b1076dfc-b9ad-4769-8c92-a6c4dae69d19",
    "_uuid": "8f2839f25d086af736a60e9eeb907d3b93b6e0e5",
    "execution": {
     "iopub.execute_input": "2025-04-18T05:13:27.975598Z",
     "iopub.status.busy": "2025-04-18T05:13:27.975336Z",
     "iopub.status.idle": "2025-04-18T05:13:29.819563Z",
     "shell.execute_reply": "2025-04-18T05:13:29.818770Z"
    },
    "papermill": {
     "duration": 1.851568,
     "end_time": "2025-04-18T05:13:29.821187",
     "exception": false,
     "start_time": "2025-04-18T05:13:27.969619",
     "status": "completed"
    },
    "tags": []
   },
   "outputs": [],
   "source": [
    "# This Python 3 environment comes with many helpful analytics libraries installed\n",
    "# It is defined by the kaggle/python Docker image: https://github.com/kaggle/docker-python\n",
    "# For example, here's several helpful packages to load\n",
    "\n",
    "import numpy as np # linear algebra\n",
    "import pandas as pd # data processing, CSV file I/O (e.g. pd.read_csv)\n",
    "\n",
    "# Input data files are available in the read-only \"../input/\" directory\n",
    "# For example, running this (by clicking run or pressing Shift+Enter) will list all files under the input directory\n",
    "\n",
    "import os\n",
    "for dirname, _, filenames in os.walk('/kaggle/input'):\n",
    "    for filename in filenames:\n",
    "        print(os.path.join(dirname, filename))\n",
    "\n",
    "# You can write up to 20GB to the current directory (/kaggle/working/) that gets preserved as output when you create a version using \"Save & Run All\" \n",
    "# You can also write temporary files to /kaggle/temp/, but they won't be saved outside of the current session"
   ]
  }
 ],
 "metadata": {
  "kaggle": {
   "accelerator": "none",
   "dataSources": [],
   "dockerImageVersionId": 31012,
   "isGpuEnabled": false,
   "isInternetEnabled": true,
   "language": "python",
   "sourceType": "notebook"
  },
  "kernelspec": {
   "display_name": ".venv",
   "language": "python",
   "name": "python3"
  },
  "language_info": {
   "codemirror_mode": {
    "name": "ipython",
    "version": 3
   },
   "file_extension": ".py",
   "mimetype": "text/x-python",
   "name": "python",
   "nbconvert_exporter": "python",
   "pygments_lexer": "ipython3",
   "version": "3.10.6"
  },
  "papermill": {
   "default_parameters": {},
   "duration": 42.895908,
   "end_time": "2025-04-18T05:13:30.646941",
   "environment_variables": {},
   "exception": null,
   "input_path": "__notebook__.ipynb",
   "output_path": "__notebook__.ipynb",
   "parameters": {},
   "start_time": "2025-04-18T05:12:47.751033",
   "version": "2.6.0"
  }
 },
 "nbformat": 4,
 "nbformat_minor": 5
}
