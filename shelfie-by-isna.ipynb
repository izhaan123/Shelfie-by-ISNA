{
 "cells": [
  {
   "cell_type": "markdown",
   "id": "e4531fdb",
   "metadata": {
    "papermill": {
     "duration": 0.004532,
     "end_time": "2025-04-18T05:12:52.385895",
     "exception": false,
     "start_time": "2025-04-18T05:12:52.381363",
     "status": "completed"
    },
    "tags": []
   },
   "source": [
    "# SHELFIE"
   ]
  },
  {
   "cell_type": "markdown",
   "id": "d7f26fc4",
   "metadata": {
    "papermill": {
     "duration": 0.003352,
     "end_time": "2025-04-18T05:12:52.393113",
     "exception": false,
     "start_time": "2025-04-18T05:12:52.389761",
     "status": "completed"
    },
    "tags": []
   },
   "source": [
    "Run all neccessary pip installs"
   ]
  },
  {
   "cell_type": "code",
   "execution_count": 1,
   "id": "40b76d77",
   "metadata": {
    "execution": {
     "iopub.execute_input": "2025-04-18T05:12:52.401393Z",
     "iopub.status.busy": "2025-04-18T05:12:52.401091Z",
     "iopub.status.idle": "2025-04-18T05:13:06.615989Z",
     "shell.execute_reply": "2025-04-18T05:13:06.614914Z"
    },
    "papermill": {
     "duration": 14.221419,
     "end_time": "2025-04-18T05:13:06.618123",
     "exception": false,
     "start_time": "2025-04-18T05:12:52.396704",
     "status": "completed"
    },
    "tags": []
   },
   "outputs": [
    {
     "name": "stdout",
     "output_type": "stream",
     "text": [
      "\u001b[2K   \u001b[90m━━━━━━━━━━━━━━━━━━━━━━━━━━━━━━━━━━━━━━━━\u001b[0m \u001b[32m144.7/144.7 kB\u001b[0m \u001b[31m5.3 MB/s\u001b[0m eta \u001b[36m0:00:00\u001b[0m\r\n",
      "\u001b[2K   \u001b[90m━━━━━━━━━━━━━━━━━━━━━━━━━━━━━━━━━━━━━━━━\u001b[0m \u001b[32m100.9/100.9 kB\u001b[0m \u001b[31m5.5 MB/s\u001b[0m eta \u001b[36m0:00:00\u001b[0m\r\n",
      "\u001b[?25h\u001b[31mERROR: pip's dependency resolver does not currently take into account all the packages that are installed. This behaviour is the source of the following dependency conflicts.\r\n",
      "jupyterlab-lsp 3.10.2 requires jupyterlab<4.0.0a0,>=3.1.0, which is not installed.\u001b[0m\u001b[31m\r\n",
      "\u001b[0mCollecting faker\r\n",
      "  Downloading faker-37.1.0-py3-none-any.whl.metadata (15 kB)\r\n",
      "Requirement already satisfied: tzdata in /usr/local/lib/python3.11/dist-packages (from faker) (2025.2)\r\n",
      "Downloading faker-37.1.0-py3-none-any.whl (1.9 MB)\r\n",
      "\u001b[2K   \u001b[90m━━━━━━━━━━━━━━━━━━━━━━━━━━━━━━━━━━━━━━━━\u001b[0m \u001b[32m1.9/1.9 MB\u001b[0m \u001b[31m29.0 MB/s\u001b[0m eta \u001b[36m0:00:00\u001b[0m\r\n",
      "\u001b[?25hInstalling collected packages: faker\r\n",
      "Successfully installed faker-37.1.0\r\n"
     ]
    }
   ],
   "source": [
    "!pip uninstall -qqy jupyterlab  # Remove unused conflicting packages\n",
    "!pip install -U -q \"google-genai==1.7.0\"\n",
    "!pip install faker"
   ]
  },
  {
   "cell_type": "markdown",
   "id": "e5dfd67f",
   "metadata": {
    "papermill": {
     "duration": 0.004127,
     "end_time": "2025-04-18T05:13:06.627006",
     "exception": false,
     "start_time": "2025-04-18T05:13:06.622879",
     "status": "completed"
    },
    "tags": []
   },
   "source": [
    "Do all the neccessary imports to declutter code below. Also verify genai is being imported correctly."
   ]
  },
  {
   "cell_type": "code",
   "execution_count": 2,
   "id": "9608aaa2",
   "metadata": {
    "execution": {
     "iopub.execute_input": "2025-04-18T05:13:06.637638Z",
     "iopub.status.busy": "2025-04-18T05:13:06.636670Z",
     "iopub.status.idle": "2025-04-18T05:13:08.264483Z",
     "shell.execute_reply": "2025-04-18T05:13:08.263120Z"
    },
    "papermill": {
     "duration": 1.634866,
     "end_time": "2025-04-18T05:13:08.266117",
     "exception": false,
     "start_time": "2025-04-18T05:13:06.631251",
     "status": "completed"
    },
    "tags": []
   },
   "outputs": [
    {
     "name": "stdout",
     "output_type": "stream",
     "text": [
      "1.7.0\n"
     ]
    }
   ],
   "source": [
    "import sqlite3\n",
    "import random\n",
    "import os\n",
    "from faker import Faker\n",
    "from google import genai\n",
    "from google.genai import types\n",
    "from kaggle_secrets import UserSecretsClient\n",
    "from google.api_core import retry\n",
    "from typing import Final\n",
    "from IPython.display import Markdown, display\n",
    "from pprint import pprint\n",
    "print(genai.__version__)"
   ]
  },
  {
   "cell_type": "markdown",
   "id": "7e4ec59a",
   "metadata": {
    "papermill": {
     "duration": 0.004108,
     "end_time": "2025-04-18T05:13:08.274680",
     "exception": false,
     "start_time": "2025-04-18T05:13:08.270572",
     "status": "completed"
    },
    "tags": []
   },
   "source": [
    "Fetch `GOOGLE_API_KEY` which will be used throughout this notebook."
   ]
  },
  {
   "cell_type": "code",
   "execution_count": 3,
   "id": "d63a5ea7",
   "metadata": {
    "execution": {
     "iopub.execute_input": "2025-04-18T05:13:08.284529Z",
     "iopub.status.busy": "2025-04-18T05:13:08.284049Z",
     "iopub.status.idle": "2025-04-18T05:13:08.443751Z",
     "shell.execute_reply": "2025-04-18T05:13:08.443052Z"
    },
    "papermill": {
     "duration": 0.166477,
     "end_time": "2025-04-18T05:13:08.445296",
     "exception": false,
     "start_time": "2025-04-18T05:13:08.278819",
     "status": "completed"
    },
    "tags": []
   },
   "outputs": [],
   "source": [
    "GOOGLE_API_KEY = UserSecretsClient().get_secret(\"GOOGLE_API_KEY\")\n",
    "NUM_BOOKS: Final[int] = 30"
   ]
  },
  {
   "cell_type": "code",
   "execution_count": 4,
   "id": "b743fc60",
   "metadata": {
    "execution": {
     "iopub.execute_input": "2025-04-18T05:13:08.455299Z",
     "iopub.status.busy": "2025-04-18T05:13:08.454998Z",
     "iopub.status.idle": "2025-04-18T05:13:08.459899Z",
     "shell.execute_reply": "2025-04-18T05:13:08.459188Z"
    },
    "papermill": {
     "duration": 0.011495,
     "end_time": "2025-04-18T05:13:08.461255",
     "exception": false,
     "start_time": "2025-04-18T05:13:08.449760",
     "status": "completed"
    },
    "tags": []
   },
   "outputs": [],
   "source": [
    "# Define a retry policy. The model might make multiple consecutive calls automatically\n",
    "# for a complex query, this ensures the client retries if it hits quota limits.\n",
    "is_retriable = lambda e: (isinstance(e, genai.errors.APIError) and e.code in {429, 503})\n",
    "\n",
    "if not hasattr(genai.models.Models.generate_content, '__wrapped__'):\n",
    "  genai.models.Models.generate_content = retry.Retry(\n",
    "      predicate=is_retriable)(genai.models.Models.generate_content)"
   ]
  },
  {
   "cell_type": "code",
   "execution_count": 5,
   "id": "8a9e06db",
   "metadata": {
    "execution": {
     "iopub.execute_input": "2025-04-18T05:13:08.471088Z",
     "iopub.status.busy": "2025-04-18T05:13:08.470760Z",
     "iopub.status.idle": "2025-04-18T05:13:08.475173Z",
     "shell.execute_reply": "2025-04-18T05:13:08.474295Z"
    },
    "papermill": {
     "duration": 0.010882,
     "end_time": "2025-04-18T05:13:08.476590",
     "exception": false,
     "start_time": "2025-04-18T05:13:08.465708",
     "status": "completed"
    },
    "tags": []
   },
   "outputs": [],
   "source": [
    "#SYSTEM_INSTRUCTION: \"You are Shelfie, a library chatbot facilitating book borrowing through this chat interface. Your knowledge encompasses all books available in our library, including detailed understanding of plots, characters, themes, and precise recall of passages with corresponding page and book information. You can also provide a rating out of 5 for each book. When a requested book is unavailable, offer recommendations for highly-rated alternatives within our current inventory.\""
   ]
  },
  {
   "cell_type": "code",
   "execution_count": 6,
   "id": "977a8c78",
   "metadata": {
    "execution": {
     "iopub.execute_input": "2025-04-18T05:13:08.486569Z",
     "iopub.status.busy": "2025-04-18T05:13:08.486122Z",
     "iopub.status.idle": "2025-04-18T05:13:08.490676Z",
     "shell.execute_reply": "2025-04-18T05:13:08.489816Z"
    },
    "papermill": {
     "duration": 0.010997,
     "end_time": "2025-04-18T05:13:08.492067",
     "exception": false,
     "start_time": "2025-04-18T05:13:08.481070",
     "status": "completed"
    },
    "tags": []
   },
   "outputs": [],
   "source": [
    "# Remove existing database file (if it exists)\n",
    "db_file = \"library.db\"\n",
    "if os.path.exists(db_file):\n",
    "    os.remove(db_file)"
   ]
  },
  {
   "cell_type": "code",
   "execution_count": 7,
   "id": "a9e6d42a",
   "metadata": {
    "execution": {
     "iopub.execute_input": "2025-04-18T05:13:08.502190Z",
     "iopub.status.busy": "2025-04-18T05:13:08.501394Z",
     "iopub.status.idle": "2025-04-18T05:13:08.506668Z",
     "shell.execute_reply": "2025-04-18T05:13:08.505868Z"
    },
    "papermill": {
     "duration": 0.01164,
     "end_time": "2025-04-18T05:13:08.508037",
     "exception": false,
     "start_time": "2025-04-18T05:13:08.496397",
     "status": "completed"
    },
    "tags": []
   },
   "outputs": [],
   "source": [
    "from dataclasses import dataclass\n",
    "\n",
    "@dataclass\n",
    "class Book:\n",
    "    name: str\n",
    "    genre: str\n",
    "    description: str\n",
    "    author: str"
   ]
  },
  {
   "cell_type": "code",
   "execution_count": 8,
   "id": "5bda3346",
   "metadata": {
    "execution": {
     "iopub.execute_input": "2025-04-18T05:13:08.518002Z",
     "iopub.status.busy": "2025-04-18T05:13:08.517654Z",
     "iopub.status.idle": "2025-04-18T05:13:08.526981Z",
     "shell.execute_reply": "2025-04-18T05:13:08.526249Z"
    },
    "papermill": {
     "duration": 0.016181,
     "end_time": "2025-04-18T05:13:08.528506",
     "exception": false,
     "start_time": "2025-04-18T05:13:08.512325",
     "status": "completed"
    },
    "tags": []
   },
   "outputs": [],
   "source": [
    "def generate_books_list(num_books: int) -> list[Book]:\n",
    "    \"\"\"\n",
    "    Asks Gemini to create a list of\n",
    "    \n",
    "    return: A list of Book objects.\n",
    "    \"\"\"\n",
    "    prompt = \"\"\"\n",
    "    Generate a list of exactly {num_books} books of any genre. For each book, provide the name, genre, a description of about 1000 characters, and the author.\n",
    "    Do not include the author's name in the description. Return the result as a JSON array of book objects with the keys: \"name\", \"genre\", \"description\", and \"author\".\n",
    "    Examples of a \"name\", \"genre\", \"description\", and \"author\" are provided below:\n",
    "    1) \"To Kill a Mockingbird\", \"Fiction\", \"A gripping tale set in the racially charged American South, exploring themes of justice, morality, and the loss of innocence. Perfect for readers who appreciate profound social commentary interwoven with compelling storytelling.\", \"Harper Lee\"\n",
    "    2) \"1984\", \"Dystopian\", \"A chilling vision of a totalitarian future where surveillance and control pervade every aspect of life. Ideal for fans of thought-provoking and cautionary tales.\", \"George Orwell\"\n",
    "    \"\"\"\n",
    "\n",
    "    if num_books < 1:\n",
    "        raise Exception(\"Need to generate at least one Book.\")\n",
    "    \n",
    "    prompt = prompt.format(num_books = num_books)\n",
    "    client = genai.Client(api_key=UserSecretsClient().get_secret(\"GOOGLE_API_KEY\"))\n",
    "    \n",
    "    structured_output_config = types.GenerateContentConfig(\n",
    "        response_mime_type=\"application/json\",\n",
    "        response_schema={\n",
    "            \"type\": \"array\",\n",
    "            \"items\": {\n",
    "                \"type\": \"object\",\n",
    "                \"properties\": {\n",
    "                    \"name\": {\"type\": \"string\"},\n",
    "                    \"genre\": {\"type\": \"string\"},\n",
    "                    \"description\": {\"type\": \"string\"},\n",
    "                    \"author\": {\"type\": \"string\"}\n",
    "                },\n",
    "                \"required\": [\"name\", \"genre\", \"description\", \"author\"]\n",
    "            }\n",
    "        },\n",
    "        temperature=0.3\n",
    "    )\n",
    "\n",
    "    response_len = 0\n",
    "\n",
    "    while response_len != num_books:\n",
    "        chat = client.chats.create(model='gemini-2.0-flash')\n",
    "        response = chat.send_message(\n",
    "          message=prompt,\n",
    "          config=structured_output_config,\n",
    "        )\n",
    "        structured_eval = response.parsed\n",
    "        book_objects = [Book(**book) for book in response.parsed]\n",
    "        response_len = len(book_objects)\n",
    "    \n",
    "    return book_objects"
   ]
  },
  {
   "cell_type": "markdown",
   "id": "34bc45bf",
   "metadata": {
    "papermill": {
     "duration": 0.003965,
     "end_time": "2025-04-18T05:13:08.536845",
     "exception": false,
     "start_time": "2025-04-18T05:13:08.532880",
     "status": "completed"
    },
    "tags": []
   },
   "source": [
    "Do a basic check to see that an exception is raised when the user provides `num_books` < 1."
   ]
  },
  {
   "cell_type": "code",
   "execution_count": 9,
   "id": "3c6b2c75",
   "metadata": {
    "execution": {
     "iopub.execute_input": "2025-04-18T05:13:08.546312Z",
     "iopub.status.busy": "2025-04-18T05:13:08.546041Z",
     "iopub.status.idle": "2025-04-18T05:13:08.550949Z",
     "shell.execute_reply": "2025-04-18T05:13:08.550062Z"
    },
    "papermill": {
     "duration": 0.011377,
     "end_time": "2025-04-18T05:13:08.552387",
     "exception": false,
     "start_time": "2025-04-18T05:13:08.541010",
     "status": "completed"
    },
    "tags": []
   },
   "outputs": [
    {
     "name": "stdout",
     "output_type": "stream",
     "text": [
      "Expected error when calling generate_books_list with 0 books.\n",
      "\n",
      "\n"
     ]
    }
   ],
   "source": [
    "try:\n",
    "    generate_books_list(0)\n",
    "except:\n",
    "    print(\"Expected error when calling generate_books_list with 0 books.\\n\\n\")"
   ]
  },
  {
   "cell_type": "markdown",
   "id": "01e736cf",
   "metadata": {
    "papermill": {
     "duration": 0.004087,
     "end_time": "2025-04-18T05:13:08.561187",
     "exception": false,
     "start_time": "2025-04-18T05:13:08.557100",
     "status": "completed"
    },
    "tags": []
   },
   "source": [
    "Call `generate_books_list` with `NUM_BOOKS`. The time it takes to run the line of code is non-deterministic. This is the number of books produced by gemini is not consitent."
   ]
  },
  {
   "cell_type": "code",
   "execution_count": 10,
   "id": "2e751a14",
   "metadata": {
    "execution": {
     "iopub.execute_input": "2025-04-18T05:13:08.570820Z",
     "iopub.status.busy": "2025-04-18T05:13:08.570502Z",
     "iopub.status.idle": "2025-04-18T05:13:27.768018Z",
     "shell.execute_reply": "2025-04-18T05:13:27.767247Z"
    },
    "papermill": {
     "duration": 19.204066,
     "end_time": "2025-04-18T05:13:27.769558",
     "exception": false,
     "start_time": "2025-04-18T05:13:08.565492",
     "status": "completed"
    },
    "tags": []
   },
   "outputs": [],
   "source": [
    "books_list = generate_books_list(NUM_BOOKS)"
   ]
  },
  {
   "cell_type": "markdown",
   "id": "724d42fb",
   "metadata": {
    "papermill": {
     "duration": 0.004093,
     "end_time": "2025-04-18T05:13:27.778686",
     "exception": false,
     "start_time": "2025-04-18T05:13:27.774593",
     "status": "completed"
    },
    "tags": []
   },
   "source": [
    "Do some validation on the generated output. Verify if the generated list is indeed of length 30. If it's not try running it again. Print the top 5 for inspection."
   ]
  },
  {
   "cell_type": "code",
   "execution_count": 11,
   "id": "f4815441",
   "metadata": {
    "execution": {
     "iopub.execute_input": "2025-04-18T05:13:27.788289Z",
     "iopub.status.busy": "2025-04-18T05:13:27.787985Z",
     "iopub.status.idle": "2025-04-18T05:13:27.794250Z",
     "shell.execute_reply": "2025-04-18T05:13:27.793147Z"
    },
    "papermill": {
     "duration": 0.012869,
     "end_time": "2025-04-18T05:13:27.795804",
     "exception": false,
     "start_time": "2025-04-18T05:13:27.782935",
     "status": "completed"
    },
    "tags": []
   },
   "outputs": [
    {
     "name": "stdout",
     "output_type": "stream",
     "text": [
      "[Book(name='The Secret Garden',\n",
      "      genre=\"Children's Literature\",\n",
      "      description='A young, orphaned girl is sent to live with her uncle in a '\n",
      "                  'large, gloomy manor. She discovers a hidden, neglected '\n",
      "                  'garden and, with the help of a local boy, brings it back to '\n",
      "                  'life. Through her work in the garden, she also begins to '\n",
      "                  \"heal and find joy in life again. It's a story about the \"\n",
      "                  'transformative power of nature and friendship.',\n",
      "      author='Frances Hodgson Burnett'),\n",
      " Book(name='Pride and Prejudice',\n",
      "      genre='Romance',\n",
      "      description='Set in the English countryside, this novel follows the '\n",
      "                  'Bennet sisters as they navigate love, society, and social '\n",
      "                  'expectations. The witty and independent Elizabeth clashes '\n",
      "                  'with the proud Mr. Darcy, leading to a complex and '\n",
      "                  \"ultimately heartwarming romance. It's a classic exploration \"\n",
      "                  'of class, reputation, and the importance of seeing beyond '\n",
      "                  'first impressions.',\n",
      "      author='Jane Austen'),\n",
      " Book(name='The Hobbit',\n",
      "      genre='Fantasy',\n",
      "      description='A comfortable hobbit is thrust into an unexpected adventure '\n",
      "                  'when a wizard and a group of dwarves arrive at his door. He '\n",
      "                  'joins them on a quest to reclaim their treasure from a '\n",
      "                  'dragon. Along the way, he faces dangers, discovers courage, '\n",
      "                  \"and finds a mysterious ring. It's a beloved tale of \"\n",
      "                  'adventure, friendship, and the power of ordinary '\n",
      "                  'individuals.',\n",
      "      author='J.R.R. Tolkien'),\n",
      " Book(name='The Little Prince',\n",
      "      genre='Philosophical Fiction',\n",
      "      description='A pilot stranded in the desert meets a young prince who has '\n",
      "                  'fallen to Earth from a tiny asteroid. The prince recounts '\n",
      "                  'his travels to different planets, each inhabited by a '\n",
      "                  'single, peculiar character. Through these encounters, the '\n",
      "                  'story explores themes of love, loss, friendship, and the '\n",
      "                  \"importance of seeing with the heart. It's a timeless and \"\n",
      "                  'thought-provoking fable.',\n",
      "      author='Antoine de Saint-Exupéry'),\n",
      " Book(name='The Da Vinci Code',\n",
      "      genre='Mystery Thriller',\n",
      "      description='A symbologist is called to the Louvre Museum to decipher a '\n",
      "                  'cryptic message left by a murdered curator. He soon becomes '\n",
      "                  'entangled in a conspiracy involving secret societies, '\n",
      "                  'religious mysteries, and the search for a historical '\n",
      "                  'artifact. With the help of a cryptologist, he races against '\n",
      "                  \"time to uncover the truth and protect a sacred secret. It's \"\n",
      "                  'a fast-paced and suspenseful thriller.',\n",
      "      author='Dan Brown')]\n"
     ]
    }
   ],
   "source": [
    "assert(len(books_list) == NUM_BOOKS)\n",
    "assert(all([True for book in books_list if type(book) == Book]))\n",
    "pprint(books_list[:5])"
   ]
  },
  {
   "cell_type": "code",
   "execution_count": 12,
   "id": "b5da5a84",
   "metadata": {
    "execution": {
     "iopub.execute_input": "2025-04-18T05:13:27.806341Z",
     "iopub.status.busy": "2025-04-18T05:13:27.806058Z",
     "iopub.status.idle": "2025-04-18T05:13:27.941463Z",
     "shell.execute_reply": "2025-04-18T05:13:27.940585Z"
    },
    "papermill": {
     "duration": 0.142574,
     "end_time": "2025-04-18T05:13:27.942910",
     "exception": false,
     "start_time": "2025-04-18T05:13:27.800336",
     "status": "completed"
    },
    "tags": []
   },
   "outputs": [
    {
     "name": "stdout",
     "output_type": "stream",
     "text": [
      "Sample data has been inserted into the SQLite database.\n"
     ]
    }
   ],
   "source": [
    "# Initialize Faker instance\n",
    "fake = Faker()\n",
    "\n",
    "# Create SQLite database and tables\n",
    "conn = sqlite3.connect(\"library.db\")\n",
    "cursor = conn.cursor()\n",
    "\n",
    "cursor.execute(\"\"\"\n",
    "CREATE TABLE IF NOT EXISTS Users (\n",
    "    user_id INTEGER PRIMARY KEY,\n",
    "    name TEXT,\n",
    "    email TEXT,\n",
    "    password_hash TEXT\n",
    ")\n",
    "\"\"\")\n",
    "\n",
    "cursor.execute(\"\"\"\n",
    "CREATE TABLE IF NOT EXISTS Book (\n",
    "    book_id INTEGER PRIMARY KEY,\n",
    "    name TEXT,\n",
    "    genre TEXT,\n",
    "    description TEXT,\n",
    "    author TEXT\n",
    ")\n",
    "\"\"\")\n",
    "\n",
    "cursor.execute(\"\"\"\n",
    "CREATE TABLE IF NOT EXISTS Stock (\n",
    "    stock_id INTEGER PRIMARY KEY AUTOINCREMENT,\n",
    "    book_id INTEGER,\n",
    "    FOREIGN KEY (book_id) REFERENCES Book(book_id)\n",
    ")\n",
    "\"\"\")\n",
    "\n",
    "cursor.execute(\"\"\"\n",
    "CREATE TABLE IF NOT EXISTS BorrowingHistory (\n",
    "    entry_id INTEGER PRIMARY KEY,\n",
    "    user_id INTEGER,\n",
    "    stock_id INTEGER,\n",
    "    borrowed_on DATE,\n",
    "    returned_on DATE,\n",
    "    due_by DATE,\n",
    "    FOREIGN KEY (user_id) REFERENCES Users(user_id),\n",
    "    FOREIGN KEY (stock_id) REFERENCES Stock(stock_id)\n",
    ")\n",
    "\"\"\")\n",
    "\n",
    "cursor.execute(\"\"\"\n",
    "CREATE TABLE IF NOT EXISTS Reservations (\n",
    "    reservation_id INTEGER PRIMARY KEY,\n",
    "    user_id INTEGER,\n",
    "    book_id INTEGER,\n",
    "    status TEXT,\n",
    "    last_updated DATE,\n",
    "    reserved_on DATE,\n",
    "    FOREIGN KEY (user_id) REFERENCES Users(user_id),\n",
    "    FOREIGN KEY (book_id) REFERENCES Book(book_id)\n",
    ")\n",
    "\"\"\")\n",
    "\n",
    "cursor.execute(\"\"\"\n",
    "CREATE TABLE IF NOT EXISTS Waitlist (\n",
    "    book_id INTEGER,\n",
    "    waitlisted_on DATE,\n",
    "    FOREIGN KEY (book_id) REFERENCES Book(book_id)\n",
    ")\n",
    "\"\"\")\n",
    "\n",
    "# Generate and insert sample data for Users table\n",
    "for user_id in range(1, 6):\n",
    "    cursor.execute(\"\"\"\n",
    "    INSERT INTO Users (user_id, name, email, password_hash)\n",
    "    VALUES (?, ?, ?, ?)\n",
    "    \"\"\", (user_id, fake.name(), fake.email(), fake.sha256()))\n",
    "\n",
    "# Insert real books into Book table\n",
    "for book_id, book in enumerate(books_list, start=1):\n",
    "    cursor.execute(\"\"\"\n",
    "    INSERT INTO Book (book_id, name, genre, description, author)\n",
    "    VALUES (?, ?, ?, ?, ?)\n",
    "    \"\"\", (book_id, book.name, book.genre, book.description, book.author))\n",
    "\n",
    "# Generate and insert sample data for Stock table\n",
    "for book_id in range(1, 31):\n",
    "    num_books = random.randint(3, 5)\n",
    "    j = 0\n",
    "    while (j < num_books):\n",
    "        cursor.execute(\"\"\"\n",
    "        INSERT INTO Stock (book_id)\n",
    "        VALUES (?)\n",
    "        \"\"\", (book_id))\n",
    "        j += 1\n",
    "\n",
    "# Generate and insert sample data for BorrowingHistory table\n",
    "for entry_id in range(1, 21):\n",
    "    cursor.execute(\"\"\"\n",
    "    INSERT INTO BorrowingHistory (entry_id, user_id, stock_id, borrowed_on, due_by)\n",
    "    VALUES (?, ?, ?, ?, ?)\n",
    "    \"\"\", (entry_id, random.randint(1, 5), random.randint(1, 50), fake.date_between(start_date=\"-1y\", end_date=\"-1d\"), fake.date_between(start_date=\"+1d\", end_date=\"+1y\")))\n",
    "\n",
    "# Generate and insert sample data for Reservations table\n",
    "for reservation_id in range(1, 21):\n",
    "    cursor.execute(\"\"\"\n",
    "    INSERT INTO Reservations (reservation_id, user_id, book_id, status, last_updated, reserved_on)\n",
    "    VALUES (?, ?, ?, ?, ?, ?)\n",
    "    \"\"\", (reservation_id, random.randint(1, 5), random.randint(1, 50), random.choice([\"Active\", \"Fulfilled\", \"Expired\"]), fake.date_between(start_date=\"-1y\", end_date=\"today\"), fake.date_between(start_date=\"-1y\", end_date=\"today\")))\n",
    "\n",
    "# Generate and insert sample data for Waitlist table\n",
    "for book_id in range(1, 6):\n",
    "    cursor.execute(\"\"\"\n",
    "    INSERT INTO Waitlist (book_id, waitlisted_on)\n",
    "    VALUES (?, ?)\n",
    "    \"\"\", (book_id, fake.date_between(start_date=\"-1y\", end_date=\"today\")))\n",
    "\n",
    "# Commit changes and close connection\n",
    "conn.commit()\n",
    "conn.close()\n",
    "\n",
    "print(\"Sample data has been inserted into the SQLite database.\")\n"
   ]
  },
  {
   "cell_type": "code",
   "execution_count": 13,
   "id": "cf50c436",
   "metadata": {
    "execution": {
     "iopub.execute_input": "2025-04-18T05:13:27.953390Z",
     "iopub.status.busy": "2025-04-18T05:13:27.952704Z",
     "iopub.status.idle": "2025-04-18T05:13:27.962488Z",
     "shell.execute_reply": "2025-04-18T05:13:27.961698Z"
    },
    "papermill": {
     "duration": 0.016679,
     "end_time": "2025-04-18T05:13:27.964173",
     "exception": false,
     "start_time": "2025-04-18T05:13:27.947494",
     "status": "completed"
    },
    "tags": []
   },
   "outputs": [
    {
     "name": "stdout",
     "output_type": "stream",
     "text": [
      "Users:\n",
      "(1, 'Elizabeth Wilson', 'mford@example.com', 'a6b52a7cd9c06693156391a15b02877e3702815a610b9bee853887d9a1270672')\n",
      "(2, 'Amy Gilmore', 'rachaelanderson@example.com', '3d3fcb5e603c5c9109fb4fd7346b41c38987b98bb0b36511be7563c7a1598719')\n",
      "(3, 'Mike Fleming', 'cwarren@example.net', '62369ae131f25a0dad54e864e1e98b88a3c2a38b5a096ae3df95a05903dac616')\n",
      "(4, 'Mark Smith', 'johnsondawn@example.net', 'dfc21065ec2137296bea40f092da603c28382f44648cc7e05bf7760815502b10')\n",
      "(5, 'Megan Fisher', 'joneschristina@example.net', 'bc92a0cba908ec759066ffcfb19719e49431c6bc5e47788b002cbf67964fa3f7')\n",
      "\n",
      "Books:\n",
      "(1, 'The Secret Garden', \"Children's Literature\", \"A young, orphaned girl is sent to live with her uncle in a large, gloomy manor. She discovers a hidden, neglected garden and, with the help of a local boy, brings it back to life. Through her work in the garden, she also begins to heal and find joy in life again. It's a story about the transformative power of nature and friendship.\", 'Frances Hodgson Burnett')\n",
      "(2, 'Pride and Prejudice', 'Romance', \"Set in the English countryside, this novel follows the Bennet sisters as they navigate love, society, and social expectations. The witty and independent Elizabeth clashes with the proud Mr. Darcy, leading to a complex and ultimately heartwarming romance. It's a classic exploration of class, reputation, and the importance of seeing beyond first impressions.\", 'Jane Austen')\n",
      "(3, 'The Hobbit', 'Fantasy', \"A comfortable hobbit is thrust into an unexpected adventure when a wizard and a group of dwarves arrive at his door. He joins them on a quest to reclaim their treasure from a dragon. Along the way, he faces dangers, discovers courage, and finds a mysterious ring. It's a beloved tale of adventure, friendship, and the power of ordinary individuals.\", 'J.R.R. Tolkien')\n",
      "(4, 'The Little Prince', 'Philosophical Fiction', \"A pilot stranded in the desert meets a young prince who has fallen to Earth from a tiny asteroid. The prince recounts his travels to different planets, each inhabited by a single, peculiar character. Through these encounters, the story explores themes of love, loss, friendship, and the importance of seeing with the heart. It's a timeless and thought-provoking fable.\", 'Antoine de Saint-Exupéry')\n",
      "(5, 'The Da Vinci Code', 'Mystery Thriller', \"A symbologist is called to the Louvre Museum to decipher a cryptic message left by a murdered curator. He soon becomes entangled in a conspiracy involving secret societies, religious mysteries, and the search for a historical artifact. With the help of a cryptologist, he races against time to uncover the truth and protect a sacred secret. It's a fast-paced and suspenseful thriller.\", 'Dan Brown')\n",
      "(6, 'The Hunger Games', 'Young Adult Dystopian', \"In a post-apocalyptic world, teenagers are chosen to compete in a televised battle to the death. A young woman volunteers to take her sister's place in the games, where she must use her wits and skills to survive. She faces not only the other contestants but also the oppressive government that controls their lives. It's a thrilling and thought-provoking story about survival, rebellion, and the power of hope.\", 'Suzanne Collins')\n",
      "(7, \"Harry Potter and the Sorcerer's Stone\", 'Fantasy', \"On his eleventh birthday, an orphaned boy discovers that he is a wizard and has been accepted into a school for witchcraft and wizardry. He embarks on a magical adventure, making friends, learning spells, and uncovering a dark secret about his past. He must confront a powerful and evil wizard who threatens the wizarding world. It's a beloved story about friendship, courage, and the power of good over evil.\", 'J.K. Rowling')\n",
      "(8, 'The Alchemist', 'Philosophical Fiction', \"A shepherd boy dreams of traveling the world in search of treasure. He embarks on a journey that takes him from Spain to Egypt, where he encounters wise mentors, faces challenges, and learns to listen to his heart. He discovers that the greatest treasure is not material wealth but the journey itself and the fulfillment of his personal legend. It's an inspiring and allegorical tale.\", 'Paulo Coelho')\n",
      "(9, 'The Lord of the Rings', 'Fantasy', \"A hobbit inherits a powerful and dangerous ring that must be destroyed to save Middle-earth from the Dark Lord. He sets out on a perilous quest with a fellowship of companions, facing countless dangers and temptations along the way. It's an epic tale of good versus evil, friendship, and the courage to face impossible odds.\", 'J.R.R. Tolkien')\n",
      "(10, 'One Hundred Years of Solitude', 'Magical Realism', \"This novel tells the multi-generational story of the Buendía family in the fictional town of Macondo. It explores themes of love, war, fate, and the cyclical nature of history. The family experiences both triumphs and tragedies, all while grappling with the magical and surreal events that shape their lives. It's a sweeping and unforgettable saga.\", 'Gabriel García Márquez')\n",
      "(11, 'Jane Eyre', 'Gothic Romance', \"An orphaned girl endures a difficult childhood before becoming a governess at a mysterious manor. She falls in love with her brooding employer, but their relationship is threatened by secrets and hidden dangers. She must navigate social expectations, moral dilemmas, and her own passionate desires. It's a classic tale of love, independence, and self-discovery.\", 'Charlotte Brontë')\n",
      "(12, 'The Catcher in the Rye', 'Coming-of-Age', \"A teenage boy recounts his experiences in New York City after being expelled from boarding school. He struggles with feelings of alienation, disillusionment, and the phoniness of the adult world. He searches for authenticity and connection but finds himself increasingly isolated. It's a poignant and controversial exploration of adolescence.\", 'J.D. Salinger')\n",
      "(13, 'Animal Farm', 'Satirical Allegory', \"Animals on a farm overthrow their human oppressors and establish a society based on equality. However, the pigs gradually seize power and create a new form of tyranny, even more oppressive than before. It's a satirical critique of totalitarianism and the dangers of unchecked power.\", 'George Orwell')\n",
      "(14, 'The Great Gatsby', 'Literary Fiction', \"Set in the Roaring Twenties, this novel tells the story of a mysterious millionaire who throws lavish parties in the hopes of attracting the attention of his former love. It explores themes of wealth, class, love, and the American Dream. It's a tragic and evocative portrait of a bygone era.\", 'F. Scott Fitzgerald')\n",
      "(15, 'To the Lighthouse', 'Modernist Literature', \"This novel explores the complexities of family relationships, memory, and the passage of time. It centers on a family's vacation to the Isle of Skye, focusing on the inner lives and perspectives of the characters. It's a lyrical and introspective exploration of human consciousness.\", 'Virginia Woolf')\n",
      "(16, 'Beloved', 'Historical Fiction', \"A former slave is haunted by the ghost of her baby daughter, who died as a result of slavery's horrors. She struggles to come to terms with her past and build a new life for herself and her surviving daughter. It's a powerful and haunting exploration of the legacy of slavery and the resilience of the human spirit.\", 'Toni Morrison')\n",
      "(17, 'Moby Dick', 'Adventure', \"A sailor joins a whaling ship and becomes obsessed with hunting a legendary white whale. The captain's relentless pursuit of the whale leads to a dangerous and ultimately tragic confrontation. It's an epic tale of obsession, revenge, and the power of nature.\", 'Herman Melville')\n",
      "(18, 'Frankenstein', 'Gothic Horror', \"A young scientist creates a creature from assembled body parts and brings it to life. Horrified by his creation, he abandons it, leading to tragic consequences. The creature seeks revenge on its creator and society for its isolation and suffering. It's a cautionary tale about the dangers of ambition and the responsibility of creators.\", 'Mary Shelley')\n",
      "(19, 'The Odyssey', 'Epic Poetry', \"A hero embarks on a long and arduous journey home after the Trojan War. He faces numerous challenges, including monsters, gods, and treacherous enemies. His wife and son struggle to maintain their home and fend off suitors who believe he is dead. It's a timeless tale of adventure, perseverance, and the importance of home.\", 'Homer')\n",
      "(20, 'Don Quixote', 'Satire', \"An elderly man becomes obsessed with chivalric romances and sets out to become a knight-errant. He embarks on a series of absurd adventures, accompanied by his loyal squire. He tilts at windmills, battles imaginary giants, and attempts to right the wrongs of the world. It's a satirical and humorous exploration of idealism and the power of imagination.\", 'Miguel de Cervantes')\n",
      "(21, 'Crime and Punishment', 'Psychological Thriller', \"A impoverished student commits murder and grapples with the psychological consequences of his actions. He is tormented by guilt, paranoia, and the fear of being caught. He engages in a cat-and-mouse game with a detective who suspects his involvement. It's a dark and intense exploration of morality, guilt, and redemption.\", 'Fyodor Dostoevsky')\n",
      "(22, 'War and Peace', 'Historical Novel', \"Set during the Napoleonic Wars, this novel follows the lives of several aristocratic families in Russia. It explores themes of love, war, family, and the search for meaning in life. The characters experience both personal and historical upheavals, as Russia is invaded by Napoleon's army. It's an epic and sweeping portrayal of Russian society in the 19th century.\", 'Leo Tolstoy')\n",
      "(23, 'The Picture of Dorian Gray', 'Philosophical Fiction', \"A young man has his portrait painted, and he makes a wish that the portrait will age while he remains young and beautiful. His wish comes true, and he indulges in a life of pleasure and sin, while his portrait reflects the corruption of his soul. It's a cautionary tale about the dangers of vanity and the pursuit of eternal youth.\", 'Oscar Wilde')\n",
      "(24, \"The Handmaid's Tale\", 'Dystopian Fiction', \"In a totalitarian society, women are stripped of their rights and forced to serve as handmaids, bearing children for the ruling class. A handmaid recounts her experiences in this oppressive regime, where she struggles to survive and maintain her hope for freedom. It's a chilling and thought-provoking exploration of gender, power, and resistance.\", 'Margaret Atwood')\n",
      "(25, 'The Road', 'Post-Apocalyptic Fiction', \"A father and son journey through a desolate and dangerous post-apocalyptic landscape. They face starvation, violence, and the constant threat of other survivors. The father is determined to protect his son and keep him alive, even in the face of unimaginable hardship. It's a bleak and powerful story about love, survival, and the enduring strength of the human spirit.\", 'Cormac McCarthy')\n",
      "(26, 'Life of Pi', 'Adventure Fiction', \"After a shipwreck, a young man is stranded on a lifeboat with a Bengal tiger. They must learn to coexist and survive together in the vast and unforgiving ocean. The story explores themes of faith, survival, and the power of storytelling. It's a fantastical and thought-provoking tale.\", 'Yann Martel')\n",
      "(27, 'The Book Thief', 'Historical Fiction', \"During World War II, a young girl living in Nazi Germany finds solace in stealing books. She learns to read and discovers the power of words to comfort and inspire her. The story is narrated by Death, who observes the girl's life and the events of the war. It's a moving and poignant tale about the resilience of the human spirit in the face of adversity.\", 'Markus Zusak')\n",
      "(28, 'The Martian', 'Science Fiction', \"An astronaut is stranded on Mars after his crew is forced to evacuate during a dust storm. He must use his ingenuity and resourcefulness to survive until a rescue mission can be launched. He faces numerous challenges, including food shortages, equipment malfunctions, and the harsh Martian environment. It's a thrilling and suspenseful story of survival against all odds.\", 'Andy Weir')\n",
      "(29, 'Gone Girl', 'Psychological Thriller', \"A woman disappears on her fifth wedding anniversary, and her husband becomes the prime suspect. As the investigation unfolds, secrets and lies are revealed, and the truth becomes increasingly elusive. The story is told from the perspectives of both the husband and the wife, creating a suspenseful and twisty narrative. It's a dark and gripping exploration of marriage, deception, and the complexities of human relationships.\", 'Gillian Flynn')\n",
      "(30, 'The Girl with the Dragon Tattoo', 'Mystery Thriller', \"A journalist is hired to investigate the disappearance of a young woman from a wealthy family. He teams up with a brilliant but troubled hacker to uncover the truth. They delve into the family's dark secrets and uncover a web of violence and corruption. It's a suspenseful and gripping thriller with complex characters and a compelling plot.\", 'Stieg Larsson')\n",
      "\n",
      "Stock:\n",
      "(1, 1)\n",
      "(2, 2)\n",
      "(3, 3)\n",
      "(4, 4)\n",
      "(5, 5)\n",
      "(6, 6)\n",
      "(7, 7)\n",
      "(8, 8)\n",
      "(9, 9)\n",
      "(10, 10)\n",
      "(11, 11)\n",
      "(12, 12)\n",
      "(13, 13)\n",
      "(14, 14)\n",
      "(15, 15)\n",
      "(16, 16)\n",
      "(17, 17)\n",
      "(18, 18)\n",
      "(19, 19)\n",
      "(20, 20)\n",
      "(21, 21)\n",
      "(22, 22)\n",
      "(23, 23)\n",
      "(24, 24)\n",
      "(25, 25)\n",
      "(26, 26)\n",
      "(27, 27)\n",
      "(28, 28)\n",
      "(29, 29)\n",
      "(30, 30)\n",
      "(31, 31)\n",
      "(32, 32)\n",
      "(33, 33)\n",
      "(34, 34)\n",
      "(35, 35)\n",
      "(36, 36)\n",
      "(37, 37)\n",
      "(38, 38)\n",
      "(39, 39)\n",
      "(40, 40)\n",
      "(41, 41)\n",
      "(42, 42)\n",
      "(43, 43)\n",
      "(44, 44)\n",
      "(45, 45)\n",
      "(46, 46)\n",
      "(47, 47)\n",
      "(48, 48)\n",
      "(49, 49)\n",
      "(50, 50)\n",
      "\n",
      "BorrowingHistory:\n",
      "(1, 5, 32, '2025-02-27', '2025-12-06')\n",
      "(2, 1, 46, '2025-04-13', '2026-04-12')\n",
      "(3, 3, 27, '2024-09-06', '2026-03-17')\n",
      "(4, 2, 1, '2024-05-03', '2025-08-25')\n",
      "(5, 2, 4, '2025-02-12', '2025-10-14')\n",
      "(6, 1, 33, '2024-12-01', '2026-01-12')\n",
      "(7, 4, 40, '2024-05-20', '2025-09-09')\n",
      "(8, 1, 40, '2025-01-15', '2025-11-29')\n",
      "(9, 3, 21, '2024-12-27', '2025-09-06')\n",
      "(10, 3, 41, '2024-06-15', '2026-01-13')\n",
      "(11, 2, 11, '2024-12-28', '2026-01-16')\n",
      "(12, 5, 42, '2025-03-30', '2026-01-28')\n",
      "(13, 1, 49, '2024-04-23', '2025-09-25')\n",
      "(14, 2, 17, '2024-09-29', '2026-03-11')\n",
      "(15, 2, 42, '2025-02-01', '2025-09-21')\n",
      "(16, 3, 34, '2024-06-21', '2025-05-21')\n",
      "(17, 3, 40, '2024-12-17', '2025-11-29')\n",
      "(18, 3, 1, '2024-10-28', '2026-04-14')\n",
      "(19, 3, 29, '2025-03-24', '2025-06-19')\n",
      "(20, 5, 28, '2024-06-14', '2025-05-26')\n",
      "\n",
      "Reservations:\n",
      "(1, 2, 40, 'Active', '2024-10-01', '2025-02-04')\n",
      "(2, 1, 20, 'Active', '2024-09-13', '2025-03-28')\n",
      "(3, 2, 43, 'Active', '2024-09-23', '2025-02-06')\n",
      "(4, 3, 22, 'Active', '2024-10-27', '2024-06-15')\n",
      "(5, 3, 15, 'Active', '2024-10-25', '2024-11-01')\n",
      "(6, 2, 49, 'Active', '2024-07-13', '2024-05-13')\n",
      "(7, 5, 25, 'Expired', '2025-03-26', '2024-04-30')\n",
      "(8, 2, 2, 'Expired', '2024-10-23', '2025-04-08')\n",
      "(9, 3, 49, 'Active', '2024-09-03', '2024-10-07')\n",
      "(10, 5, 6, 'Fulfilled', '2024-12-06', '2024-07-15')\n",
      "(11, 3, 6, 'Expired', '2025-01-02', '2025-02-12')\n",
      "(12, 1, 9, 'Fulfilled', '2025-01-17', '2024-07-11')\n",
      "(13, 1, 14, 'Active', '2024-11-24', '2025-04-16')\n",
      "(14, 4, 21, 'Expired', '2024-10-25', '2024-04-19')\n",
      "(15, 3, 21, 'Expired', '2025-01-25', '2024-11-15')\n",
      "(16, 3, 22, 'Expired', '2024-05-14', '2024-05-06')\n",
      "(17, 1, 25, 'Expired', '2025-01-17', '2025-02-12')\n",
      "(18, 4, 46, 'Active', '2025-02-08', '2025-03-06')\n",
      "(19, 3, 45, 'Active', '2024-05-29', '2025-03-24')\n",
      "(20, 3, 31, 'Fulfilled', '2024-07-26', '2024-11-16')\n",
      "\n",
      "Waitlist:\n",
      "(1, '2024-10-13')\n",
      "(2, '2025-03-21')\n",
      "(3, '2024-08-03')\n",
      "(4, '2025-04-01')\n",
      "(5, '2024-11-28')\n",
      "(6, '2025-02-05')\n",
      "(7, '2024-12-06')\n",
      "(8, '2024-09-03')\n",
      "(9, '2024-09-09')\n",
      "(10, '2024-09-25')\n",
      "(11, '2024-07-21')\n",
      "(12, '2024-07-02')\n",
      "(13, '2024-05-20')\n",
      "(14, '2024-08-05')\n",
      "(15, '2024-07-10')\n",
      "(16, '2025-04-07')\n",
      "(17, '2025-03-12')\n",
      "(18, '2024-12-28')\n",
      "(19, '2024-09-21')\n",
      "(20, '2025-04-06')\n",
      "(21, '2025-01-27')\n",
      "(22, '2025-02-07')\n",
      "(23, '2024-10-08')\n",
      "(24, '2024-05-08')\n",
      "(25, '2024-05-25')\n",
      "(26, '2024-05-17')\n",
      "(27, '2024-12-04')\n",
      "(28, '2025-02-28')\n",
      "(29, '2024-12-07')\n",
      "(30, '2024-05-14')\n",
      "(31, '2024-09-07')\n",
      "(32, '2024-07-01')\n",
      "(33, '2024-05-03')\n",
      "(34, '2024-10-19')\n",
      "(35, '2024-10-18')\n",
      "(36, '2024-08-22')\n",
      "(37, '2024-05-04')\n",
      "(38, '2024-11-13')\n",
      "(39, '2025-03-11')\n",
      "(40, '2025-02-12')\n",
      "(41, '2024-10-04')\n",
      "(42, '2024-11-25')\n",
      "(43, '2025-01-10')\n",
      "(44, '2024-09-11')\n",
      "(45, '2024-06-25')\n",
      "(46, '2024-12-29')\n",
      "(47, '2025-03-30')\n",
      "(48, '2024-09-16')\n",
      "(49, '2024-12-11')\n",
      "(50, '2024-04-21')\n"
     ]
    }
   ],
   "source": [
    "conn = sqlite3.connect(\"library.db\")\n",
    "cursor = conn.cursor()\n",
    "\n",
    "# Query all tables to display the data\n",
    "cursor.execute(\"SELECT * FROM Users\")\n",
    "print(\"Users:\")\n",
    "for row in cursor.fetchall():\n",
    "    print(row)\n",
    "\n",
    "cursor.execute(\"SELECT * FROM Book\")\n",
    "print(\"\\nBooks:\")\n",
    "for row in cursor.fetchall():\n",
    "    print(row)\n",
    "\n",
    "cursor.execute(\"SELECT * FROM Stock\")\n",
    "print(\"\\nStock:\")\n",
    "for row in cursor.fetchall():\n",
    "    print(row)\n",
    "\n",
    "cursor.execute(\"SELECT * FROM BorrowingHistory\")\n",
    "print(\"\\nBorrowingHistory:\")\n",
    "for row in cursor.fetchall():\n",
    "    print(row)\n",
    "\n",
    "cursor.execute(\"SELECT * FROM Reservations\")\n",
    "print(\"\\nReservations:\")\n",
    "for row in cursor.fetchall():\n",
    "    print(row)\n",
    "\n",
    "cursor.execute(\"SELECT * FROM Waitlist\")\n",
    "print(\"\\nWaitlist:\")\n",
    "for row in cursor.fetchall():\n",
    "    print(row)"
   ]
  },
  {
   "cell_type": "code",
   "execution_count": 14,
   "id": "81f99d5b",
   "metadata": {
    "_cell_guid": "b1076dfc-b9ad-4769-8c92-a6c4dae69d19",
    "_uuid": "8f2839f25d086af736a60e9eeb907d3b93b6e0e5",
    "execution": {
     "iopub.execute_input": "2025-04-18T05:13:27.975598Z",
     "iopub.status.busy": "2025-04-18T05:13:27.975336Z",
     "iopub.status.idle": "2025-04-18T05:13:29.819563Z",
     "shell.execute_reply": "2025-04-18T05:13:29.818770Z"
    },
    "papermill": {
     "duration": 1.851568,
     "end_time": "2025-04-18T05:13:29.821187",
     "exception": false,
     "start_time": "2025-04-18T05:13:27.969619",
     "status": "completed"
    },
    "tags": []
   },
   "outputs": [],
   "source": [
    "# This Python 3 environment comes with many helpful analytics libraries installed\n",
    "# It is defined by the kaggle/python Docker image: https://github.com/kaggle/docker-python\n",
    "# For example, here's several helpful packages to load\n",
    "\n",
    "import numpy as np # linear algebra\n",
    "import pandas as pd # data processing, CSV file I/O (e.g. pd.read_csv)\n",
    "\n",
    "# Input data files are available in the read-only \"../input/\" directory\n",
    "# For example, running this (by clicking run or pressing Shift+Enter) will list all files under the input directory\n",
    "\n",
    "import os\n",
    "for dirname, _, filenames in os.walk('/kaggle/input'):\n",
    "    for filename in filenames:\n",
    "        print(os.path.join(dirname, filename))\n",
    "\n",
    "# You can write up to 20GB to the current directory (/kaggle/working/) that gets preserved as output when you create a version using \"Save & Run All\" \n",
    "# You can also write temporary files to /kaggle/temp/, but they won't be saved outside of the current session"
   ]
  }
 ],
 "metadata": {
  "kaggle": {
   "accelerator": "none",
   "dataSources": [],
   "dockerImageVersionId": 31012,
   "isGpuEnabled": false,
   "isInternetEnabled": true,
   "language": "python",
   "sourceType": "notebook"
  },
  "kernelspec": {
   "display_name": "Python 3",
   "language": "python",
   "name": "python3"
  },
  "language_info": {
   "codemirror_mode": {
    "name": "ipython",
    "version": 3
   },
   "file_extension": ".py",
   "mimetype": "text/x-python",
   "name": "python",
   "nbconvert_exporter": "python",
   "pygments_lexer": "ipython3",
   "version": "3.11.11"
  },
  "papermill": {
   "default_parameters": {},
   "duration": 42.895908,
   "end_time": "2025-04-18T05:13:30.646941",
   "environment_variables": {},
   "exception": null,
   "input_path": "__notebook__.ipynb",
   "output_path": "__notebook__.ipynb",
   "parameters": {},
   "start_time": "2025-04-18T05:12:47.751033",
   "version": "2.6.0"
  }
 },
 "nbformat": 4,
 "nbformat_minor": 5
}
